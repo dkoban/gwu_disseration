{
 "cells": [
  {
   "cell_type": "markdown",
   "metadata": {},
   "source": [
    "## Load the data"
   ]
  },
  {
   "cell_type": "code",
   "execution_count": 1,
   "metadata": {},
   "outputs": [
    {
     "data": {
      "text/html": [
       "'Initial sample: 507'"
      ],
      "text/latex": [
       "'Initial sample: 507'"
      ],
      "text/markdown": [
       "'Initial sample: 507'"
      ],
      "text/plain": [
       "[1] \"Initial sample: 507\""
      ]
     },
     "metadata": {},
     "output_type": "display_data"
    }
   ],
   "source": [
    "suppressWarnings(suppressMessages(library(tidyverse)))\n",
    "suppressWarnings(suppressMessages(library(gridExtra)))\n",
    "suppressWarnings(suppressMessages(library(memisc)))\n",
    "library(emmeans)\n",
    "\n",
    "# Load the data\n",
    "load(\"~/Documents/holding_gwu_dissertation/data/vcf_data.RData\")\n",
    "paste0(\"Initial sample: \", nrow(vcf_data))"
   ]
  },
  {
   "cell_type": "markdown",
   "metadata": {},
   "source": [
    "### Impute vaccinated onto intentions scale"
   ]
  },
  {
   "cell_type": "code",
   "execution_count": 2,
   "metadata": {},
   "outputs": [],
   "source": [
    "# Add a \"vaccinated\" response to intentions that has a value of 8\n",
    "vcf_data$base_intention <-  factor(vcf_data$base_intention, \n",
    "                                levels = c(levels(vcf_data$base_intention),\n",
    "                                           \"Vaccinated\"))\n",
    "vcf_data$intention_2 <-  factor(vcf_data$intention_2, \n",
    "                                levels = c(levels(vcf_data$intention_2),\n",
    "                                           \"Vaccinated\"))\n",
    "vcf_data$intention_4 <-  factor(vcf_data$intention_4, \n",
    "                                levels = c(levels(vcf_data$intention_4),\n",
    "                                           \"Vaccinated\"))\n",
    "vcf_data$intention_6 <-  factor(vcf_data$intention_6, \n",
    "                                levels = c(levels(vcf_data$intention_6),\n",
    "                                           \"Vaccinated\"))\n",
    "\n",
    "# Recode intentions for vaccinated people as a vaccinated (8) response\n",
    "vcf_data$intention_2[vcf_data$vax_y_n_2 == \"Yes\"] <- \"Vaccinated\"\n",
    "vcf_data$intention_4[vcf_data$vax_y_n_4 == \"Yes\"] <- \"Vaccinated\"\n",
    "vcf_data$intention_6[vcf_data$vax_y_n_6 == \"Yes\"] <- \"Vaccinated\""
   ]
  },
  {
   "cell_type": "markdown",
   "metadata": {},
   "source": [
    "### Remove people who didn't follow up"
   ]
  },
  {
   "cell_type": "code",
   "execution_count": 3,
   "metadata": {},
   "outputs": [
    {
     "data": {
      "text/html": [
       "'Dropped for follow-up: 76 (0.15)'"
      ],
      "text/latex": [
       "'Dropped for follow-up: 76 (0.15)'"
      ],
      "text/markdown": [
       "'Dropped for follow-up: 76 (0.15)'"
      ],
      "text/plain": [
       "[1] \"Dropped for follow-up: 76 (0.15)\""
      ]
     },
     "metadata": {},
     "output_type": "display_data"
    },
    {
     "data": {
      "text/html": [
       "'Analysis Sample: 431'"
      ],
      "text/latex": [
       "'Analysis Sample: 431'"
      ],
      "text/markdown": [
       "'Analysis Sample: 431'"
      ],
      "text/plain": [
       "[1] \"Analysis Sample: 431\""
      ]
     },
     "metadata": {},
     "output_type": "display_data"
    }
   ],
   "source": [
    "failed_to_follow_up <- vcf_data %>% filter(is.na(sp_confidence_6))\n",
    "subset <- vcf_data %>% filter(!is.na(sp_confidence_6))\n",
    "paste0(\"Dropped for follow-up: \", nrow(failed_to_follow_up), \" (\", \n",
    "       round(nrow(failed_to_follow_up)/nrow(vcf_data),3), \")\")\n",
    "paste0(\"Analysis Sample: \", nrow(subset))"
   ]
  },
  {
   "cell_type": "markdown",
   "metadata": {},
   "source": [
    "### Remove people who weren't paying attention"
   ]
  },
  {
   "cell_type": "code",
   "execution_count": 4,
   "metadata": {},
   "outputs": [
    {
     "data": {
      "text/html": [
       "'Dropped for attention-up: 6 (0.012)'"
      ],
      "text/latex": [
       "'Dropped for attention-up: 6 (0.012)'"
      ],
      "text/markdown": [
       "'Dropped for attention-up: 6 (0.012)'"
      ],
      "text/plain": [
       "[1] \"Dropped for attention-up: 6 (0.012)\""
      ]
     },
     "metadata": {},
     "output_type": "display_data"
    },
    {
     "data": {
      "text/html": [
       "'Analysis Sample: 425'"
      ],
      "text/latex": [
       "'Analysis Sample: 425'"
      ],
      "text/markdown": [
       "'Analysis Sample: 425'"
      ],
      "text/plain": [
       "[1] \"Analysis Sample: 425\""
      ]
     },
     "metadata": {},
     "output_type": "display_data"
    }
   ],
   "source": [
    "not_paying_attention <- subset %>% filter(attention2_6 != \"Somewhat Agree\",\n",
    "                                               !(participant_id %in% failed_to_follow_up$participant_id))\n",
    "\n",
    "subset <- vcf_data %>% filter(!is.na(sp_confidence_6), attention2_6 == \"Somewhat Agree\")\n",
    "paste0(\"Dropped for attention-up: \", nrow(not_paying_attention), \" (\", \n",
    "       round(nrow(not_paying_attention)/nrow(vcf_data),3), \")\")\n",
    "paste0(\"Analysis Sample: \", nrow(subset))"
   ]
  },
  {
   "cell_type": "markdown",
   "metadata": {},
   "source": [
    "### Remove people who explicitly stated they were vaccinated prior to the study"
   ]
  },
  {
   "cell_type": "code",
   "execution_count": 5,
   "metadata": {},
   "outputs": [
    {
     "data": {
      "text/html": [
       "'Dropped for explicitly stating they were vaccinated prior to the study: 21 (0.041)'"
      ],
      "text/latex": [
       "'Dropped for explicitly stating they were vaccinated prior to the study: 21 (0.041)'"
      ],
      "text/markdown": [
       "'Dropped for explicitly stating they were vaccinated prior to the study: 21 (0.041)'"
      ],
      "text/plain": [
       "[1] \"Dropped for explicitly stating they were vaccinated prior to the study: 21 (0.041)\""
      ]
     },
     "metadata": {},
     "output_type": "display_data"
    },
    {
     "data": {
      "text/html": [
       "'Analysis Sample: 404'"
      ],
      "text/latex": [
       "'Analysis Sample: 404'"
      ],
      "text/markdown": [
       "'Analysis Sample: 404'"
      ],
      "text/plain": [
       "[1] \"Analysis Sample: 404\""
      ]
     },
     "metadata": {},
     "output_type": "display_data"
    },
    {
     "data": {
      "text/html": [
       "<table class=\"dataframe\">\n",
       "<caption>A tibble: 20 × 5</caption>\n",
       "<thead>\n",
       "\t<tr><th scope=col>base_intention</th><th scope=col>doses_2</th><th scope=col>doses_4</th><th scope=col>doses_6</th><th scope=col>vax_y_n_2</th></tr>\n",
       "\t<tr><th scope=col>&lt;fct&gt;</th><th scope=col>&lt;dbl&gt;</th><th scope=col>&lt;dbl&gt;</th><th scope=col>&lt;dbl&gt;</th><th scope=col>&lt;chr&gt;</th></tr>\n",
       "</thead>\n",
       "<tbody>\n",
       "\t<tr><td>Not at all likely</td><td>NA</td><td>NA</td><td>NA</td><td>Was already vaccinated prior to joining the study</td></tr>\n",
       "\t<tr><td>5                </td><td>NA</td><td> 3</td><td> 3</td><td>Was already vaccinated prior to joining the study</td></tr>\n",
       "\t<tr><td>3                </td><td>NA</td><td>NA</td><td>NA</td><td>Was already vaccinated prior to joining the study</td></tr>\n",
       "\t<tr><td>Not at all likely</td><td>NA</td><td>NA</td><td> 2</td><td>Was already vaccinated prior to joining the study</td></tr>\n",
       "\t<tr><td>Not at all likely</td><td>NA</td><td>NA</td><td>NA</td><td>Was already vaccinated prior to joining the study</td></tr>\n",
       "\t<tr><td>Extremely likely </td><td>NA</td><td>NA</td><td> 2</td><td>Was already vaccinated prior to joining the study</td></tr>\n",
       "\t<tr><td>Extremely likely </td><td>NA</td><td>NA</td><td> 3</td><td>Was already vaccinated prior to joining the study</td></tr>\n",
       "\t<tr><td>Not at all likely</td><td>NA</td><td> 3</td><td> 3</td><td>Was already vaccinated prior to joining the study</td></tr>\n",
       "\t<tr><td>4                </td><td>NA</td><td>NA</td><td>NA</td><td>Was already vaccinated prior to joining the study</td></tr>\n",
       "\t<tr><td>Extremely likely </td><td>NA</td><td> 3</td><td> 3</td><td>Was already vaccinated prior to joining the study</td></tr>\n",
       "\t<tr><td>6                </td><td>NA</td><td>NA</td><td> 3</td><td>Was already vaccinated prior to joining the study</td></tr>\n",
       "\t<tr><td>2                </td><td>NA</td><td>NA</td><td> 3</td><td>Was already vaccinated prior to joining the study</td></tr>\n",
       "\t<tr><td>3                </td><td>NA</td><td>NA</td><td> 3</td><td>Was already vaccinated prior to joining the study</td></tr>\n",
       "\t<tr><td>Extremely likely </td><td>NA</td><td>NA</td><td>NA</td><td>Was already vaccinated prior to joining the study</td></tr>\n",
       "\t<tr><td>5                </td><td>NA</td><td> 3</td><td>NA</td><td>Was already vaccinated prior to joining the study</td></tr>\n",
       "\t<tr><td>3                </td><td>NA</td><td>NA</td><td>NA</td><td>Was already vaccinated prior to joining the study</td></tr>\n",
       "\t<tr><td>Not at all likely</td><td>NA</td><td>NA</td><td>NA</td><td>Was already vaccinated prior to joining the study</td></tr>\n",
       "\t<tr><td>5                </td><td>NA</td><td> 3</td><td> 2</td><td>Was already vaccinated prior to joining the study</td></tr>\n",
       "\t<tr><td>4                </td><td>NA</td><td> 2</td><td>NA</td><td>Was already vaccinated prior to joining the study</td></tr>\n",
       "\t<tr><td>Not at all likely</td><td>NA</td><td>NA</td><td>NA</td><td>Was already vaccinated prior to joining the study</td></tr>\n",
       "</tbody>\n",
       "</table>\n"
      ],
      "text/latex": [
       "A tibble: 20 × 5\n",
       "\\begin{tabular}{lllll}\n",
       " base\\_intention & doses\\_2 & doses\\_4 & doses\\_6 & vax\\_y\\_n\\_2\\\\\n",
       " <fct> & <dbl> & <dbl> & <dbl> & <chr>\\\\\n",
       "\\hline\n",
       "\t Not at all likely & NA & NA & NA & Was already vaccinated prior to joining the study\\\\\n",
       "\t 5                 & NA &  3 &  3 & Was already vaccinated prior to joining the study\\\\\n",
       "\t 3                 & NA & NA & NA & Was already vaccinated prior to joining the study\\\\\n",
       "\t Not at all likely & NA & NA &  2 & Was already vaccinated prior to joining the study\\\\\n",
       "\t Not at all likely & NA & NA & NA & Was already vaccinated prior to joining the study\\\\\n",
       "\t Extremely likely  & NA & NA &  2 & Was already vaccinated prior to joining the study\\\\\n",
       "\t Extremely likely  & NA & NA &  3 & Was already vaccinated prior to joining the study\\\\\n",
       "\t Not at all likely & NA &  3 &  3 & Was already vaccinated prior to joining the study\\\\\n",
       "\t 4                 & NA & NA & NA & Was already vaccinated prior to joining the study\\\\\n",
       "\t Extremely likely  & NA &  3 &  3 & Was already vaccinated prior to joining the study\\\\\n",
       "\t 6                 & NA & NA &  3 & Was already vaccinated prior to joining the study\\\\\n",
       "\t 2                 & NA & NA &  3 & Was already vaccinated prior to joining the study\\\\\n",
       "\t 3                 & NA & NA &  3 & Was already vaccinated prior to joining the study\\\\\n",
       "\t Extremely likely  & NA & NA & NA & Was already vaccinated prior to joining the study\\\\\n",
       "\t 5                 & NA &  3 & NA & Was already vaccinated prior to joining the study\\\\\n",
       "\t 3                 & NA & NA & NA & Was already vaccinated prior to joining the study\\\\\n",
       "\t Not at all likely & NA & NA & NA & Was already vaccinated prior to joining the study\\\\\n",
       "\t 5                 & NA &  3 &  2 & Was already vaccinated prior to joining the study\\\\\n",
       "\t 4                 & NA &  2 & NA & Was already vaccinated prior to joining the study\\\\\n",
       "\t Not at all likely & NA & NA & NA & Was already vaccinated prior to joining the study\\\\\n",
       "\\end{tabular}\n"
      ],
      "text/markdown": [
       "\n",
       "A tibble: 20 × 5\n",
       "\n",
       "| base_intention &lt;fct&gt; | doses_2 &lt;dbl&gt; | doses_4 &lt;dbl&gt; | doses_6 &lt;dbl&gt; | vax_y_n_2 &lt;chr&gt; |\n",
       "|---|---|---|---|---|\n",
       "| Not at all likely | NA | NA | NA | Was already vaccinated prior to joining the study |\n",
       "| 5                 | NA |  3 |  3 | Was already vaccinated prior to joining the study |\n",
       "| 3                 | NA | NA | NA | Was already vaccinated prior to joining the study |\n",
       "| Not at all likely | NA | NA |  2 | Was already vaccinated prior to joining the study |\n",
       "| Not at all likely | NA | NA | NA | Was already vaccinated prior to joining the study |\n",
       "| Extremely likely  | NA | NA |  2 | Was already vaccinated prior to joining the study |\n",
       "| Extremely likely  | NA | NA |  3 | Was already vaccinated prior to joining the study |\n",
       "| Not at all likely | NA |  3 |  3 | Was already vaccinated prior to joining the study |\n",
       "| 4                 | NA | NA | NA | Was already vaccinated prior to joining the study |\n",
       "| Extremely likely  | NA |  3 |  3 | Was already vaccinated prior to joining the study |\n",
       "| 6                 | NA | NA |  3 | Was already vaccinated prior to joining the study |\n",
       "| 2                 | NA | NA |  3 | Was already vaccinated prior to joining the study |\n",
       "| 3                 | NA | NA |  3 | Was already vaccinated prior to joining the study |\n",
       "| Extremely likely  | NA | NA | NA | Was already vaccinated prior to joining the study |\n",
       "| 5                 | NA |  3 | NA | Was already vaccinated prior to joining the study |\n",
       "| 3                 | NA | NA | NA | Was already vaccinated prior to joining the study |\n",
       "| Not at all likely | NA | NA | NA | Was already vaccinated prior to joining the study |\n",
       "| 5                 | NA |  3 |  2 | Was already vaccinated prior to joining the study |\n",
       "| 4                 | NA |  2 | NA | Was already vaccinated prior to joining the study |\n",
       "| Not at all likely | NA | NA | NA | Was already vaccinated prior to joining the study |\n",
       "\n"
      ],
      "text/plain": [
       "   base_intention    doses_2 doses_4 doses_6\n",
       "1  Not at all likely NA      NA      NA     \n",
       "2  5                 NA       3       3     \n",
       "3  3                 NA      NA      NA     \n",
       "4  Not at all likely NA      NA       2     \n",
       "5  Not at all likely NA      NA      NA     \n",
       "6  Extremely likely  NA      NA       2     \n",
       "7  Extremely likely  NA      NA       3     \n",
       "8  Not at all likely NA       3       3     \n",
       "9  4                 NA      NA      NA     \n",
       "10 Extremely likely  NA       3       3     \n",
       "11 6                 NA      NA       3     \n",
       "12 2                 NA      NA       3     \n",
       "13 3                 NA      NA       3     \n",
       "14 Extremely likely  NA      NA      NA     \n",
       "15 5                 NA       3      NA     \n",
       "16 3                 NA      NA      NA     \n",
       "17 Not at all likely NA      NA      NA     \n",
       "18 5                 NA       3       2     \n",
       "19 4                 NA       2      NA     \n",
       "20 Not at all likely NA      NA      NA     \n",
       "   vax_y_n_2                                        \n",
       "1  Was already vaccinated prior to joining the study\n",
       "2  Was already vaccinated prior to joining the study\n",
       "3  Was already vaccinated prior to joining the study\n",
       "4  Was already vaccinated prior to joining the study\n",
       "5  Was already vaccinated prior to joining the study\n",
       "6  Was already vaccinated prior to joining the study\n",
       "7  Was already vaccinated prior to joining the study\n",
       "8  Was already vaccinated prior to joining the study\n",
       "9  Was already vaccinated prior to joining the study\n",
       "10 Was already vaccinated prior to joining the study\n",
       "11 Was already vaccinated prior to joining the study\n",
       "12 Was already vaccinated prior to joining the study\n",
       "13 Was already vaccinated prior to joining the study\n",
       "14 Was already vaccinated prior to joining the study\n",
       "15 Was already vaccinated prior to joining the study\n",
       "16 Was already vaccinated prior to joining the study\n",
       "17 Was already vaccinated prior to joining the study\n",
       "18 Was already vaccinated prior to joining the study\n",
       "19 Was already vaccinated prior to joining the study\n",
       "20 Was already vaccinated prior to joining the study"
      ]
     },
     "metadata": {},
     "output_type": "display_data"
    },
    {
     "data": {
      "text/html": [
       "<table class=\"dataframe\">\n",
       "<caption>A tibble: 1 × 3</caption>\n",
       "<thead>\n",
       "\t<tr><th scope=col>base_intention</th><th scope=col>intention_6</th><th scope=col>addressed_concerns_text_6</th></tr>\n",
       "\t<tr><th scope=col>&lt;fct&gt;</th><th scope=col>&lt;fct&gt;</th><th scope=col>&lt;chr&gt;</th></tr>\n",
       "</thead>\n",
       "<tbody>\n",
       "\t<tr><td>Not at all likely</td><td>Not at all likely</td><td>I am fully vaccinated and boosted. I have no concerns about vaccines.</td></tr>\n",
       "</tbody>\n",
       "</table>\n"
      ],
      "text/latex": [
       "A tibble: 1 × 3\n",
       "\\begin{tabular}{lll}\n",
       " base\\_intention & intention\\_6 & addressed\\_concerns\\_text\\_6\\\\\n",
       " <fct> & <fct> & <chr>\\\\\n",
       "\\hline\n",
       "\t Not at all likely & Not at all likely & I am fully vaccinated and boosted. I have no concerns about vaccines.\\\\\n",
       "\\end{tabular}\n"
      ],
      "text/markdown": [
       "\n",
       "A tibble: 1 × 3\n",
       "\n",
       "| base_intention &lt;fct&gt; | intention_6 &lt;fct&gt; | addressed_concerns_text_6 &lt;chr&gt; |\n",
       "|---|---|---|\n",
       "| Not at all likely | Not at all likely | I am fully vaccinated and boosted. I have no concerns about vaccines. |\n",
       "\n"
      ],
      "text/plain": [
       "  base_intention    intention_6      \n",
       "1 Not at all likely Not at all likely\n",
       "  addressed_concerns_text_6                                            \n",
       "1 I am fully vaccinated and boosted. I have no concerns about vaccines."
      ]
     },
     "metadata": {},
     "output_type": "display_data"
    }
   ],
   "source": [
    "vaccinated_prior <- subset %>% filter(\n",
    "    (vaccinated_prior == TRUE & vax_y_n_2 == \"Was already vaccinated prior to joining the study\") |\n",
    "    participant_id == \"p_3\")\n",
    "subset <- subset[!(subset$participant_id %in% vaccinated_prior$participant_id), ]\n",
    "\n",
    "paste0(\"Dropped for explicitly stating they were vaccinated prior to the study: \", nrow(vaccinated_prior), \" (\", \n",
    "       round(nrow(vaccinated_prior)/nrow(vcf_data),3), \")\")\n",
    "paste0(\"Analysis Sample: \", nrow(subset))\n",
    "\n",
    "vaccinated_prior %>% filter(participant_id != \"p_3\") %>% \n",
    "    dplyr::select(base_intention, doses_2, doses_4, doses_6, vax_y_n_2)\n",
    "vaccinated_prior %>% filter(participant_id == \"p_3\") %>% \n",
    "    dplyr::select(base_intention, intention_6, addressed_concerns_text_6)"
   ]
  },
  {
   "cell_type": "markdown",
   "metadata": {},
   "source": [
    "### Remove people who gave inconsistent responses on vaccination questions"
   ]
  },
  {
   "cell_type": "code",
   "execution_count": 6,
   "metadata": {},
   "outputs": [
    {
     "data": {
      "text/html": [
       "'Dropped for infeasible dose counts: 7 (0.014)'"
      ],
      "text/latex": [
       "'Dropped for infeasible dose counts: 7 (0.014)'"
      ],
      "text/markdown": [
       "'Dropped for infeasible dose counts: 7 (0.014)'"
      ],
      "text/plain": [
       "[1] \"Dropped for infeasible dose counts: 7 (0.014)\""
      ]
     },
     "metadata": {},
     "output_type": "display_data"
    },
    {
     "data": {
      "text/html": [
       "'Analysis Sample: 397'"
      ],
      "text/latex": [
       "'Analysis Sample: 397'"
      ],
      "text/markdown": [
       "'Analysis Sample: 397'"
      ],
      "text/plain": [
       "[1] \"Analysis Sample: 397\""
      ]
     },
     "metadata": {},
     "output_type": "display_data"
    },
    {
     "data": {
      "text/html": [
       "<table class=\"dataframe\">\n",
       "<caption>A tibble: 7 × 9</caption>\n",
       "<thead>\n",
       "\t<tr><th scope=col>mturk_code</th><th scope=col>group</th><th scope=col>doses_2</th><th scope=col>doses_4</th><th scope=col>doses_6</th><th scope=col>intention_2</th><th scope=col>intention_4</th><th scope=col>intention_6</th><th scope=col>vaccinated_prior</th></tr>\n",
       "\t<tr><th scope=col>&lt;chr&gt;</th><th scope=col>&lt;fct&gt;</th><th scope=col>&lt;dbl&gt;</th><th scope=col>&lt;dbl&gt;</th><th scope=col>&lt;dbl&gt;</th><th scope=col>&lt;fct&gt;</th><th scope=col>&lt;fct&gt;</th><th scope=col>&lt;fct&gt;</th><th scope=col>&lt;lgl&gt;</th></tr>\n",
       "</thead>\n",
       "<tbody>\n",
       "\t<tr><td>983103</td><td>Control</td><td>3</td><td> 3</td><td> 3</td><td>Vaccinated</td><td>Vaccinated</td><td>Vaccinated</td><td>TRUE</td></tr>\n",
       "\t<tr><td>830458</td><td>Control</td><td>3</td><td> 1</td><td> 3</td><td>Vaccinated</td><td>Vaccinated</td><td>Vaccinated</td><td>TRUE</td></tr>\n",
       "\t<tr><td>616612</td><td>Control</td><td>2</td><td> 2</td><td> 2</td><td>Vaccinated</td><td>Vaccinated</td><td>Vaccinated</td><td>TRUE</td></tr>\n",
       "\t<tr><td>699737</td><td>Control</td><td>2</td><td> 2</td><td> 2</td><td>Vaccinated</td><td>Vaccinated</td><td>Vaccinated</td><td>TRUE</td></tr>\n",
       "\t<tr><td>953099</td><td>Gist   </td><td>2</td><td> 2</td><td> 2</td><td>Vaccinated</td><td>Vaccinated</td><td>Vaccinated</td><td>TRUE</td></tr>\n",
       "\t<tr><td>311050</td><td>Gist   </td><td>2</td><td>NA</td><td>NA</td><td>Vaccinated</td><td>5         </td><td>6         </td><td>TRUE</td></tr>\n",
       "\t<tr><td>645517</td><td>Gist   </td><td>1</td><td> 3</td><td> 2</td><td>Vaccinated</td><td>Vaccinated</td><td>Vaccinated</td><td>TRUE</td></tr>\n",
       "</tbody>\n",
       "</table>\n"
      ],
      "text/latex": [
       "A tibble: 7 × 9\n",
       "\\begin{tabular}{lllllllll}\n",
       " mturk\\_code & group & doses\\_2 & doses\\_4 & doses\\_6 & intention\\_2 & intention\\_4 & intention\\_6 & vaccinated\\_prior\\\\\n",
       " <chr> & <fct> & <dbl> & <dbl> & <dbl> & <fct> & <fct> & <fct> & <lgl>\\\\\n",
       "\\hline\n",
       "\t 983103 & Control & 3 &  3 &  3 & Vaccinated & Vaccinated & Vaccinated & TRUE\\\\\n",
       "\t 830458 & Control & 3 &  1 &  3 & Vaccinated & Vaccinated & Vaccinated & TRUE\\\\\n",
       "\t 616612 & Control & 2 &  2 &  2 & Vaccinated & Vaccinated & Vaccinated & TRUE\\\\\n",
       "\t 699737 & Control & 2 &  2 &  2 & Vaccinated & Vaccinated & Vaccinated & TRUE\\\\\n",
       "\t 953099 & Gist    & 2 &  2 &  2 & Vaccinated & Vaccinated & Vaccinated & TRUE\\\\\n",
       "\t 311050 & Gist    & 2 & NA & NA & Vaccinated & 5          & 6          & TRUE\\\\\n",
       "\t 645517 & Gist    & 1 &  3 &  2 & Vaccinated & Vaccinated & Vaccinated & TRUE\\\\\n",
       "\\end{tabular}\n"
      ],
      "text/markdown": [
       "\n",
       "A tibble: 7 × 9\n",
       "\n",
       "| mturk_code &lt;chr&gt; | group &lt;fct&gt; | doses_2 &lt;dbl&gt; | doses_4 &lt;dbl&gt; | doses_6 &lt;dbl&gt; | intention_2 &lt;fct&gt; | intention_4 &lt;fct&gt; | intention_6 &lt;fct&gt; | vaccinated_prior &lt;lgl&gt; |\n",
       "|---|---|---|---|---|---|---|---|---|\n",
       "| 983103 | Control | 3 |  3 |  3 | Vaccinated | Vaccinated | Vaccinated | TRUE |\n",
       "| 830458 | Control | 3 |  1 |  3 | Vaccinated | Vaccinated | Vaccinated | TRUE |\n",
       "| 616612 | Control | 2 |  2 |  2 | Vaccinated | Vaccinated | Vaccinated | TRUE |\n",
       "| 699737 | Control | 2 |  2 |  2 | Vaccinated | Vaccinated | Vaccinated | TRUE |\n",
       "| 953099 | Gist    | 2 |  2 |  2 | Vaccinated | Vaccinated | Vaccinated | TRUE |\n",
       "| 311050 | Gist    | 2 | NA | NA | Vaccinated | 5          | 6          | TRUE |\n",
       "| 645517 | Gist    | 1 |  3 |  2 | Vaccinated | Vaccinated | Vaccinated | TRUE |\n",
       "\n"
      ],
      "text/plain": [
       "  mturk_code group   doses_2 doses_4 doses_6 intention_2 intention_4\n",
       "1 983103     Control 3        3       3      Vaccinated  Vaccinated \n",
       "2 830458     Control 3        1       3      Vaccinated  Vaccinated \n",
       "3 616612     Control 2        2       2      Vaccinated  Vaccinated \n",
       "4 699737     Control 2        2       2      Vaccinated  Vaccinated \n",
       "5 953099     Gist    2        2       2      Vaccinated  Vaccinated \n",
       "6 311050     Gist    2       NA      NA      Vaccinated  5          \n",
       "7 645517     Gist    1        3       2      Vaccinated  Vaccinated \n",
       "  intention_6 vaccinated_prior\n",
       "1 Vaccinated  TRUE            \n",
       "2 Vaccinated  TRUE            \n",
       "3 Vaccinated  TRUE            \n",
       "4 Vaccinated  TRUE            \n",
       "5 Vaccinated  TRUE            \n",
       "6 6           TRUE            \n",
       "7 Vaccinated  TRUE            "
      ]
     },
     "metadata": {},
     "output_type": "display_data"
    }
   ],
   "source": [
    "infeasible <- subset %>% filter(vaccinated_prior == TRUE, !is.na(intention_6)) %>% \n",
    "    filter(doses_2 >= 2 | doses_4 >= 2 | doses_6 >= 2) %>%\n",
    "    dplyr::select(mturk_code, group, doses_2, doses_4, doses_6, \n",
    "                  intention_2, intention_4, intention_6, vaccinated_prior) %>%\n",
    "    arrange(desc(doses_2), desc(doses_4), desc(doses_6)) \n",
    "\n",
    "subset <- subset %>% filter(!(mturk_code %in% infeasible$mturk_code))\n",
    "paste0(\"Dropped for infeasible dose counts: \", nrow(infeasible), \" (\", \n",
    "       round(nrow(infeasible)/nrow(vcf_data),3), \")\")\n",
    "paste0(\"Analysis Sample: \", nrow(subset))\n",
    "infeasible"
   ]
  },
  {
   "cell_type": "code",
   "execution_count": 7,
   "metadata": {},
   "outputs": [
    {
     "data": {
      "text/html": [
       "'Analysis Sample: 397'"
      ],
      "text/latex": [
       "'Analysis Sample: 397'"
      ],
      "text/markdown": [
       "'Analysis Sample: 397'"
      ],
      "text/plain": [
       "[1] \"Analysis Sample: 397\""
      ]
     },
     "metadata": {},
     "output_type": "display_data"
    }
   ],
   "source": [
    "vcf_data <- subset %>% filter(!is.na(sp_confidence_6))\n",
    "paste0(\"Analysis Sample: \", nrow(vcf_data))"
   ]
  },
  {
   "cell_type": "code",
   "execution_count": 8,
   "metadata": {},
   "outputs": [
    {
     "data": {
      "text/html": [
       "'Analysis sample: 397'"
      ],
      "text/latex": [
       "'Analysis sample: 397'"
      ],
      "text/markdown": [
       "'Analysis sample: 397'"
      ],
      "text/plain": [
       "[1] \"Analysis sample: 397\""
      ]
     },
     "metadata": {},
     "output_type": "display_data"
    }
   ],
   "source": [
    "# Relabel the wave variable\n",
    "vcf_data$wave <- \"Wave 1\"\n",
    "vcf_data$wave[vcf_data$trial == 3] <- \"Wave 2\"\n",
    "vcf_data$wave <- factor(vcf_data$wave, levels = c(\"Wave 1\", \"Wave 2\"))\n",
    "\n",
    "# Relabel the group variable\n",
    "vcf_data$group <- vcf_data$group %>% as.character()\n",
    "vcf_data$group[vcf_data$group == \"Gist\"] <- \"Treatment\"\n",
    "vcf_data$group <- factor(vcf_data$group, levels = c(\"Treatment\", \"Control\"))\n",
    "\n",
    "# Baseline\n",
    "vcf_data$base_intention_n <- vcf_data$base_intention %>% as.numeric()\n",
    "vcf_data$base_encourage_n <- vcf_data$base_encourage %>% as.numeric()\n",
    "vcf_data$base_sp_trust_n <- vcf_data$base_sp_trust %>% as.numeric()\n",
    "vcf_data$base_sp_complacency_n <- vcf_data$base_sp_complacency %>% as.numeric()\n",
    "vcf_data$base_sp_necessity_n <- vcf_data$base_sp_necessity %>% as.numeric()\n",
    "vcf_data$base_sp_importance_n <- vcf_data$base_sp_importance %>% as.numeric()\n",
    "vcf_data$base_sp_confidence_n <- vcf_data$base_sp_confidence %>% as.numeric()\n",
    "vcf_data$base_sp_safety_n <- vcf_data$base_sp_safety %>% as.numeric()\n",
    "vcf_data$base_sp_efficacy_n <- vcf_data$base_sp_efficacy %>% as.numeric()\n",
    "\n",
    "# 6 week\n",
    "vcf_data$intention_6_n <- vcf_data$intention_6 %>% as.numeric()\n",
    "vcf_data$encourage_6_n <- vcf_data$encourage_6 %>% as.numeric()\n",
    "vcf_data$sp_trust_6_n <- vcf_data$sp_trust_6 %>% as.numeric()\n",
    "vcf_data$sp_complacency_6_n <- vcf_data$sp_complacency_6 %>% as.numeric()\n",
    "vcf_data$sp_necessity_6_n <- vcf_data$sp_necessity_6 %>% as.numeric()\n",
    "vcf_data$sp_importance_6_n <- vcf_data$sp_importance_6 %>% as.numeric()\n",
    "vcf_data$sp_confidence_6_n <- vcf_data$sp_confidence_6 %>% as.numeric()\n",
    "vcf_data$sp_safety_6_n <- vcf_data$sp_safety_6 %>% as.numeric()\n",
    "vcf_data$sp_efficacy_6_n <- vcf_data$sp_efficacy_6 %>% as.numeric()\n",
    "\n",
    "# Gist Items \n",
    "vcf_data$gist_cat1_6_n <- vcf_data$gist_cat1_6 %>% as.numeric()\n",
    "vcf_data$gist_cat2_6_n <- vcf_data$gist_cat2_6 %>% as.numeric()\n",
    "vcf_data$gist_cat3_6_n <- vcf_data$gist_cat3_6 %>% as.numeric()\n",
    "vcf_data$gist_cat4_6_n <- vcf_data$gist_cat4_6 %>% as.numeric()\n",
    "vcf_data$gist_cat5_6_n <- vcf_data$gist_cat5_6 %>% as.numeric()\n",
    "vcf_data$gist_cat6_6_n <- vcf_data$gist_cat6_6 %>% as.numeric()\n",
    "vcf_data$gist_cat7_6_n <- vcf_data$gist_cat7_6 %>% as.numeric()\n",
    "vcf_data$gist_cat8_6_n <- vcf_data$gist_cat8_6 %>% as.numeric()\n",
    "\n",
    "vcf_data$base_gist_cat1_n <- vcf_data$base_gist_cat1 %>% as.numeric()\n",
    "vcf_data$base_gist_cat2_n <- vcf_data$base_gist_cat2 %>% as.numeric()\n",
    "vcf_data$base_gist_cat3_n <- vcf_data$base_gist_cat3 %>% as.numeric()\n",
    "vcf_data$base_gist_cat4_n <- vcf_data$base_gist_cat4 %>% as.numeric()\n",
    "vcf_data$base_gist_cat5_n <- vcf_data$base_gist_cat5 %>% as.numeric()\n",
    "vcf_data$base_gist_cat6_n <- vcf_data$base_gist_cat6 %>% as.numeric()\n",
    "vcf_data$base_gist_cat7_n <- vcf_data$base_gist_cat7 %>% as.numeric()\n",
    "vcf_data$base_gist_cat8_n <- vcf_data$base_gist_cat8 %>% as.numeric()\n",
    "\n",
    "vcf_data$global1_6 <- factor(vcf_data$global1_6, levels = c(\"None\", \"Low\", \"Medium\", \"High\"))\n",
    "vcf_data$global2_6 <- factor(vcf_data$global2_6, levels = c(\"None\", \"Low\", \"Medium\", \"High\"))                             \n",
    "vcf_data$base_global1 <- factor(vcf_data$base_global1, levels = c(\"None\", \"Low\", \"Medium\", \"High\"))                             \n",
    "vcf_data$base_global2 <- factor(vcf_data$base_global2, levels = c(\"None\", \"Low\", \"Medium\", \"High\"))                             \n",
    "vcf_data$base_global1_n <- vcf_data$base_global1 %>% as.numeric()\n",
    "vcf_data$base_global2_n <- vcf_data$base_global2 %>% as.numeric()\n",
    "vcf_data$global1_6_n <- vcf_data$global1_6 %>% as.numeric()\n",
    "vcf_data$global2_6_n <- vcf_data$global2_6 %>% as.numeric()\n",
    "\n",
    "vcf_data <- vcf_data %>% \n",
    "    mutate(gist1_change = gist_cat1_6_n - base_gist_cat1_n,\n",
    "           gist2_change = gist_cat2_6_n - base_gist_cat2_n,\n",
    "           gist3_change = gist_cat3_6_n - base_gist_cat3_n,\n",
    "           gist4_change = gist_cat4_6_n - base_gist_cat4_n,\n",
    "           gist5_change = gist_cat5_6_n - base_gist_cat5_n,\n",
    "           gist6_change = gist_cat6_6_n - base_gist_cat6_n,\n",
    "           gist7_change = gist_cat7_6_n - base_gist_cat7_n,\n",
    "           gist8_change = gist_cat8_6_n - base_gist_cat8_n,\n",
    "           change_risk_princ = risk_princ_6 - base_risk_princ,\n",
    "           change_resp_princ = resp_princ_6 - base_resp_princ\n",
    "          )\n",
    "\n",
    "# Cognitive Reasoning\n",
    "vcf_data$crt_1_correct <- 0\n",
    "vcf_data$crt_1_correct[vcf_data$crt_1 %in% \n",
    "                         c(\"500\", \"500 times\", \"Probability is half so 500 times\")] <- 1\n",
    "vcf_data$crt_2_correct <- 0\n",
    "vcf_data$crt_2_correct[vcf_data$crt_2 %in% c(\"10\")] <- 1\n",
    "vcf_data$crt_3_correct <- 0\n",
    "vcf_data$crt_3_correct[vcf_data$crt_3 %in% c(\"1\", \"1%\", \"1 percent\")] <- 1\n",
    "vcf_data$crt_sum <- vcf_data$crt_1_correct + vcf_data$crt_2_correct + vcf_data$crt_3_correct\n",
    "\n",
    "vcf_data$crt_level <- NA\n",
    "vcf_data$crt_level[vcf_data$crt_sum <= 1] <- \"low\"\n",
    "vcf_data$crt_level[vcf_data$crt_sum > 1] <- \"high\"\n",
    "vcf_data$crt_level <- factor(vcf_data$crt_level, levels = c(\"low\", \"high\"))\n",
    "\n",
    "paste0(\"Analysis sample: \", nrow(vcf_data))"
   ]
  },
  {
   "cell_type": "markdown",
   "metadata": {},
   "source": [
    "## Average Gist Measures"
   ]
  },
  {
   "cell_type": "code",
   "execution_count": 9,
   "metadata": {},
   "outputs": [],
   "source": [
    "vcf_data$gist_cat_6 <- as.numeric(vcf_data$gist_cat1_6) + as.numeric(vcf_data$gist_cat2_6) + \n",
    "                       as.numeric(vcf_data$gist_cat3_6) + as.numeric(vcf_data$gist_cat4_6) + \n",
    "                       as.numeric(vcf_data$gist_cat5_6) + as.numeric(vcf_data$gist_cat6_6) + \n",
    "                       as.numeric(vcf_data$gist_cat7_6) + as.numeric(vcf_data$gist_cat8_6) \n",
    "\n",
    "vcf_data$base_gist_cat <- as.numeric(vcf_data$base_gist_cat1) + as.numeric(vcf_data$base_gist_cat2) + \n",
    "                          as.numeric(vcf_data$base_gist_cat3) + as.numeric(vcf_data$base_gist_cat4) + \n",
    "                          as.numeric(vcf_data$base_gist_cat5) + as.numeric(vcf_data$base_gist_cat6) + \n",
    "                          as.numeric(vcf_data$base_gist_cat7) + as.numeric(vcf_data$base_gist_cat8) \n",
    "\n",
    "vcf_data$global_6 <- as.numeric(vcf_data$global1_6) + as.numeric(vcf_data$global2_6)\n",
    "vcf_data$base_global <- as.numeric(vcf_data$base_global1) + as.numeric(vcf_data$base_global2) "
   ]
  },
  {
   "cell_type": "code",
   "execution_count": 10,
   "metadata": {},
   "outputs": [],
   "source": [
    "save(vcf_data, file = \"~/Documents/holding_gwu_dissertation/data/vcf_data_for_python.RData\")"
   ]
  },
  {
   "cell_type": "markdown",
   "metadata": {},
   "source": [
    "### 2-way ANOVA (Categorical Risk)"
   ]
  },
  {
   "cell_type": "code",
   "execution_count": 11,
   "metadata": {},
   "outputs": [
    {
     "data": {
      "text/plain": [
       "\n",
       "Error: id\n",
       "           Df Sum Sq Mean Sq F value Pr(>F)\n",
       "group       1    156   155.6   1.193  0.275\n",
       "Residuals 395  51489   130.3               \n",
       "\n",
       "Error: id:time\n",
       "            Df Sum Sq Mean Sq F value   Pr(>F)    \n",
       "time         1    923   922.8  29.926 7.98e-08 ***\n",
       "group:time   1      3     3.3   0.106    0.745    \n",
       "Residuals  395  12181    30.8                     \n",
       "---\n",
       "Signif. codes:  0 ‘***’ 0.001 ‘**’ 0.01 ‘*’ 0.05 ‘.’ 0.1 ‘ ’ 1"
      ]
     },
     "metadata": {},
     "output_type": "display_data"
    }
   ],
   "source": [
    "pre = vcf_data %>% dplyr::select(id = participant_id, group, score = base_gist_cat) %>% mutate(time = \"pretest\")\n",
    "post = vcf_data %>% dplyr::select(id = participant_id, group, score = gist_cat_6) %>% mutate(time = \"posttest\")\n",
    "df = bind_rows(pre, post)\n",
    "df$time <- factor(df$time, levels = c(\"pretest\", \"posttest\"))\n",
    "df$group <- factor(df$group, levels = c(\"Control\", \"Treatment\"))\n",
    "\n",
    "res <- aov(score ~ group*time + Error(id/time) + group, data = df)\n",
    "summary(res)"
   ]
  },
  {
   "cell_type": "code",
   "execution_count": 12,
   "metadata": {},
   "outputs": [
    {
     "data": {
      "image/png": "[encoded data removed]",
      "text/plain": [
       "Plot with title “Residuals”"
      ]
     },
     "metadata": {
      "image/png": {
       "height": 420,
       "width": 420
      }
     },
     "output_type": "display_data"
    }
   ],
   "source": [
    "op <- par(pty = \"s\", mfrow = c(1, 2))\n",
    "qqnorm(res$id$residuals, main = \"QQ-Plot\")\n",
    "qqline(res$id$residuals)\n",
    "res$id$residuals %>% hist(main = \"Residuals\", freq = FALSE)"
   ]
  },
  {
   "cell_type": "markdown",
   "metadata": {},
   "source": [
    "### 2-way ANOVA (Ordinal Risk)"
   ]
  },
  {
   "cell_type": "code",
   "execution_count": 13,
   "metadata": {},
   "outputs": [
    {
     "data": {
      "text/plain": [
       "\n",
       "Error: id\n",
       "           Df Sum Sq Mean Sq F value Pr(>F)\n",
       "group       1      0   0.022   0.008  0.929\n",
       "Residuals 395   1106   2.801               \n",
       "\n",
       "Error: id:time\n",
       "            Df Sum Sq Mean Sq F value Pr(>F)\n",
       "time         1   1.37  1.3715   1.979  0.160\n",
       "group:time   1   1.35  1.3522   1.951  0.163\n",
       "Residuals  395 273.78  0.6931               "
      ]
     },
     "metadata": {},
     "output_type": "display_data"
    }
   ],
   "source": [
    "pre = vcf_data %>% dplyr::select(id = participant_id, group, score = base_global) %>% mutate(time = \"pretest\")\n",
    "post = vcf_data %>% dplyr::select(id = participant_id, group, score = global_6) %>% mutate(time = \"posttest\")\n",
    "df = bind_rows(pre, post)\n",
    "df$time <- factor(df$time, levels = c(\"pretest\", \"posttest\"))\n",
    "df$group <- factor(df$group, levels = c(\"Control\", \"Treatment\"))\n",
    "\n",
    "res <- aov(score ~ group*time + Error(id/time) + group, data = df)\n",
    "summary(res)"
   ]
  },
  {
   "cell_type": "code",
   "execution_count": 15,
   "metadata": {},
   "outputs": [
    {
     "data": {
      "image/png": "[encoded data removed]",
      "text/plain": [
       "Plot with title “Residuals”"
      ]
     },
     "metadata": {
      "image/png": {
       "height": 420,
       "width": 420
      }
     },
     "output_type": "display_data"
    }
   ],
   "source": [
    "op <- par(pty = \"s\", mfrow = c(1, 2))\n",
    "qqnorm(res$id$residuals, main = \"QQ-Plot\")\n",
    "qqline(res$id$residuals)\n",
    "res$id$residuals %>% hist(main = \"Residuals\", freq = FALSE)"
   ]
  }
 ],
 "metadata": {
  "kernelspec": {
   "display_name": "R",
   "language": "R",
   "name": "ir"
  },
  "language_info": {
   "codemirror_mode": "r",
   "file_extension": ".r",
   "mimetype": "text/x-r-source",
   "name": "R",
   "pygments_lexer": "r",
   "version": "4.2.0"
  },
  "toc": {
   "base_numbering": 1,
   "nav_menu": {},
   "number_sections": true,
   "sideBar": true,
   "skip_h1_title": false,
   "title_cell": "Table of Contents",
   "title_sidebar": "Contents",
   "toc_cell": false,
   "toc_position": {},
   "toc_section_display": true,
   "toc_window_display": true
  }
 },
 "nbformat": 4,
 "nbformat_minor": 4
}
