{
 "cells": [
  {
   "cell_type": "markdown",
   "metadata": {},
   "source": [
    "## 2-way ANOVA\n",
    "\n",
    "https://raphaelvallat.com/pingouin.html#:~:text=import%20pingouin%20as%20pg%20%23%20Compute%20the%20two-way,indeed%20a%20significant%20interaction%2C%20F%20%282%2C%20116%29%3D3.45%2C%20p%3D.035."
   ]
  },
  {
   "cell_type": "markdown",
   "metadata": {},
   "source": [
    "## Tutorial Example"
   ]
  },
  {
   "cell_type": "code",
   "execution_count": 1,
   "metadata": {},
   "outputs": [],
   "source": [
    "import pandas as pd\n",
    "import numpy as np\n",
    "import pyreadr\n",
    "import statsmodels.api as sm\n",
    "from statsmodels.formula.api import ols\n",
    "from statsmodels.stats.anova import anova_lm\n",
    "from statsmodels.graphics.factorplots import interaction_plot\n",
    "import pingouin as pg\n",
    "import seaborn as sns"
   ]
  },
  {
   "cell_type": "code",
   "execution_count": 2,
   "metadata": {},
   "outputs": [],
   "source": [
    "# Let's assume that we have a balanced design with 30 students in each group\n",
    "n = 30\n",
    "months = ['August', 'January', 'June']\n",
    "\n",
    "# Generate random data\n",
    "np.random.seed(1234)\n",
    "control = np.random.normal(5.5, size=len(months) * n)\n",
    "meditation = np.r_[ np.random.normal(5.4, size=n),\n",
    "                    np.random.normal(5.8, size=n),\n",
    "                    np.random.normal(6.4, size=n) ]\n",
    "\n",
    "# Create a dataframe\n",
    "df = pd.DataFrame({'Scores': np.r_[control, meditation],\n",
    "                   'Time': np.r_[np.repeat(months, n), np.repeat(months, n)],\n",
    "                   'Group': np.repeat(['Control', 'Meditation'], len(months) * n),\n",
    "                   'Subject': np.r_[np.tile(np.arange(n), 3),\n",
    "                                    np.tile(np.arange(n, n + n), 3)]})"
   ]
  },
  {
   "cell_type": "code",
   "execution_count": 3,
   "metadata": {},
   "outputs": [
    {
     "data": {
      "text/plain": [
       "<AxesSubplot:xlabel='Time', ylabel='Scores'>"
      ]
     },
     "execution_count": 3,
     "metadata": {},
     "output_type": "execute_result"
    },
    {
     "data": {
      "image/png": "[encoded data removed]",
      "text/plain": [
       "<Figure size 432x288 with 1 Axes>"
      ]
     },
     "metadata": {},
     "output_type": "display_data"
    }
   ],
   "source": [
    "sns.set()\n",
    "sns.pointplot(data=df, x='Time', y='Scores', hue='Group', dodge=True, markers=['o', 's'],\n",
    "              capsize=.1, errwidth=1, palette='colorblind')"
   ]
  },
  {
   "cell_type": "code",
   "execution_count": 4,
   "metadata": {},
   "outputs": [
    {
     "data": {
      "text/html": [
       "<div>\n",
       "<style scoped>\n",
       "    .dataframe tbody tr th:only-of-type {\n",
       "        vertical-align: middle;\n",
       "    }\n",
       "\n",
       "    .dataframe tbody tr th {\n",
       "        vertical-align: top;\n",
       "    }\n",
       "\n",
       "    .dataframe thead th {\n",
       "        text-align: right;\n",
       "    }\n",
       "</style>\n",
       "<table border=\"1\" class=\"dataframe\">\n",
       "  <thead>\n",
       "    <tr style=\"text-align: right;\">\n",
       "      <th></th>\n",
       "      <th></th>\n",
       "      <th>mean</th>\n",
       "      <th>std</th>\n",
       "    </tr>\n",
       "    <tr>\n",
       "      <th>Time</th>\n",
       "      <th>Group</th>\n",
       "      <th></th>\n",
       "      <th></th>\n",
       "    </tr>\n",
       "  </thead>\n",
       "  <tbody>\n",
       "    <tr>\n",
       "      <th rowspan=\"2\" valign=\"top\">August</th>\n",
       "      <th>Control</th>\n",
       "      <td>5.51</td>\n",
       "      <td>1.03</td>\n",
       "    </tr>\n",
       "    <tr>\n",
       "      <th>Meditation</th>\n",
       "      <td>5.33</td>\n",
       "      <td>0.81</td>\n",
       "    </tr>\n",
       "    <tr>\n",
       "      <th rowspan=\"2\" valign=\"top\">January</th>\n",
       "      <th>Control</th>\n",
       "      <td>5.60</td>\n",
       "      <td>0.90</td>\n",
       "    </tr>\n",
       "    <tr>\n",
       "      <th>Meditation</th>\n",
       "      <td>5.97</td>\n",
       "      <td>1.07</td>\n",
       "    </tr>\n",
       "    <tr>\n",
       "      <th rowspan=\"2\" valign=\"top\">June</th>\n",
       "      <th>Control</th>\n",
       "      <td>5.59</td>\n",
       "      <td>1.18</td>\n",
       "    </tr>\n",
       "    <tr>\n",
       "      <th>Meditation</th>\n",
       "      <td>6.35</td>\n",
       "      <td>0.93</td>\n",
       "    </tr>\n",
       "  </tbody>\n",
       "</table>\n",
       "</div>"
      ],
      "text/plain": [
       "                    mean   std\n",
       "Time    Group                 \n",
       "August  Control     5.51  1.03\n",
       "        Meditation  5.33  0.81\n",
       "January Control     5.60  0.90\n",
       "        Meditation  5.97  1.07\n",
       "June    Control     5.59  1.18\n",
       "        Meditation  6.35  0.93"
      ]
     },
     "execution_count": 4,
     "metadata": {},
     "output_type": "execute_result"
    }
   ],
   "source": [
    "df.groupby(['Time', 'Group'])['Scores'].agg(['mean', 'std']).round(2)"
   ]
  },
  {
   "cell_type": "code",
   "execution_count": 5,
   "metadata": {},
   "outputs": [
    {
     "name": "stdout",
     "output_type": "stream",
     "text": [
      "\n",
      "=============\n",
      "ANOVA SUMMARY\n",
      "=============\n",
      "\n",
      "Source          SS    DF1    DF2     MS      F    p-unc    np2      eps\n",
      "-----------  -----  -----  -----  -----  -----  -------  -----  -------\n",
      "Group        4.465      1     58  4.465  4.131    0.047  0.066  nan\n",
      "Time         9.359      2    116  4.679  4.941    0.009  0.078    0.998\n",
      "Interaction  6.539      2    116  3.270  3.452    0.035  0.056  nan\n",
      "\n"
     ]
    }
   ],
   "source": [
    "# Compute the two-way mixed-design ANOVA\n",
    "aov = pg.mixed_anova(dv='Scores', within='Time', between='Group', subject='Subject', data=df)\n",
    "# Pretty printing of ANOVA summary\n",
    "pg.print_table(aov)"
   ]
  },
  {
   "cell_type": "code",
   "execution_count": 6,
   "metadata": {},
   "outputs": [
    {
     "name": "stdout",
     "output_type": "stream",
     "text": [
      "\n",
      "==============\n",
      "POST HOC TESTS\n",
      "==============\n",
      "\n",
      "Contrast      Time     A        B           Paired    Parametric         T     dof  alternative      p-unc    BF10    hedges\n",
      "------------  -------  -------  ----------  --------  ------------  ------  ------  -------------  -------  ------  --------\n",
      "Time          -        August   January     True      True          -2.002  59.000  two-sided        0.050   0.908    -0.379\n",
      "Time          -        August   June        True      True          -2.985  59.000  two-sided        0.004   7.594    -0.530\n",
      "Time          -        January  June        True      True          -1.024  59.000  two-sided        0.310   0.232    -0.170\n",
      "Group         -        Control  Meditation  False     True          -2.033  58.000  two-sided        0.047   1.447    -0.518\n",
      "Time * Group  August   Control  Meditation  False     True           0.733  58.000  two-sided        0.466   0.329     0.187\n",
      "Time * Group  January  Control  Meditation  False     True          -1.434  58.000  two-sided        0.157   0.619    -0.365\n",
      "Time * Group  June     Control  Meditation  False     True          -2.744  58.000  two-sided        0.008   5.593    -0.699\n",
      "\n"
     ]
    },
    {
     "name": "stderr",
     "output_type": "stream",
     "text": [
      "/Users/dankoban/opt/anaconda3/lib/python3.8/site-packages/pingouin/pairwise.py:28: UserWarning: pairwise_ttests is deprecated, use pairwise_tests instead.\n",
      "  warnings.warn(\"pairwise_ttests is deprecated, use pairwise_tests instead.\", UserWarning)\n"
     ]
    }
   ],
   "source": [
    "posthocs = pg.pairwise_ttests(dv='Scores', within='Time', between='Group',\n",
    "                              subject='Subject', data=df)\n",
    "pg.print_table(posthocs)"
   ]
  },
  {
   "cell_type": "markdown",
   "metadata": {},
   "source": [
    "## VCF Study Analysis"
   ]
  },
  {
   "cell_type": "markdown",
   "metadata": {},
   "source": [
    "### Categorical Risk"
   ]
  },
  {
   "cell_type": "code",
   "execution_count": 7,
   "metadata": {},
   "outputs": [
    {
     "name": "stderr",
     "output_type": "stream",
     "text": [
      "/Users/dankoban/opt/anaconda3/lib/python3.8/site-packages/pandas/core/tools/datetimes.py:528: RuntimeWarning: invalid value encountered in multiply\n",
      "  arr, tz_parsed = tslib.array_with_unit_to_datetime(arg, unit, errors=errors)\n"
     ]
    }
   ],
   "source": [
    "result = pyreadr.read_r(\"/Users/dankoban/Documents/holding_gwu_dissertation/data/vcf_data_for_python.RData\")\n",
    "vcf_data = result[\"vcf_data\"]"
   ]
  },
  {
   "cell_type": "code",
   "execution_count": 8,
   "metadata": {},
   "outputs": [
    {
     "data": {
      "text/html": [
       "<div>\n",
       "<style scoped>\n",
       "    .dataframe tbody tr th:only-of-type {\n",
       "        vertical-align: middle;\n",
       "    }\n",
       "\n",
       "    .dataframe tbody tr th {\n",
       "        vertical-align: top;\n",
       "    }\n",
       "\n",
       "    .dataframe thead th {\n",
       "        text-align: right;\n",
       "    }\n",
       "</style>\n",
       "<table border=\"1\" class=\"dataframe\">\n",
       "  <thead>\n",
       "    <tr style=\"text-align: right;\">\n",
       "      <th></th>\n",
       "      <th></th>\n",
       "      <th>mean</th>\n",
       "      <th>std</th>\n",
       "    </tr>\n",
       "    <tr>\n",
       "      <th>time</th>\n",
       "      <th>group</th>\n",
       "      <th></th>\n",
       "      <th></th>\n",
       "    </tr>\n",
       "  </thead>\n",
       "  <tbody>\n",
       "    <tr>\n",
       "      <th rowspan=\"2\" valign=\"top\">posttest</th>\n",
       "      <th>Control</th>\n",
       "      <td>36.52</td>\n",
       "      <td>9.19</td>\n",
       "    </tr>\n",
       "    <tr>\n",
       "      <th>Treatment</th>\n",
       "      <td>35.50</td>\n",
       "      <td>10.42</td>\n",
       "    </tr>\n",
       "    <tr>\n",
       "      <th rowspan=\"2\" valign=\"top\">pretest</th>\n",
       "      <th>Control</th>\n",
       "      <td>34.22</td>\n",
       "      <td>7.70</td>\n",
       "    </tr>\n",
       "    <tr>\n",
       "      <th>Treatment</th>\n",
       "      <td>33.46</td>\n",
       "      <td>8.16</td>\n",
       "    </tr>\n",
       "  </tbody>\n",
       "</table>\n",
       "</div>"
      ],
      "text/plain": [
       "                     mean    std\n",
       "time     group                  \n",
       "posttest Control    36.52   9.19\n",
       "         Treatment  35.50  10.42\n",
       "pretest  Control    34.22   7.70\n",
       "         Treatment  33.46   8.16"
      ]
     },
     "execution_count": 8,
     "metadata": {},
     "output_type": "execute_result"
    }
   ],
   "source": [
    "pre = vcf_data[['participant_id', 'group', 'base_gist_cat']].rename(columns={'base_gist_cat': 'score'})\n",
    "pre = pre.assign(time = \"pretest\")\n",
    "post = vcf_data[['participant_id', 'group', 'gist_cat_6']].rename(columns={'gist_cat_6': 'score'})\n",
    "post = post.assign(time = \"posttest\")\n",
    "df = pre.append(post, ignore_index=True)\n",
    "df.groupby(['time', 'group'])['score'].agg(['mean', 'std']).round(2)"
   ]
  },
  {
   "cell_type": "code",
   "execution_count": 9,
   "metadata": {},
   "outputs": [
    {
     "data": {
      "text/plain": [
       "<AxesSubplot:xlabel='time', ylabel='score'>"
      ]
     },
     "execution_count": 9,
     "metadata": {},
     "output_type": "execute_result"
    },
    {
     "data": {
      "image/png": "[encoded data removed]",
      "text/plain": [
       "<Figure size 432x288 with 1 Axes>"
      ]
     },
     "metadata": {},
     "output_type": "display_data"
    }
   ],
   "source": [
    "sns.set()\n",
    "sns.pointplot(data=df, x='time', y='score', hue='group', dodge=True, markers=['o', 's'],\n",
    "              capsize=.1, errwidth=1, palette='colorblind')"
   ]
  },
  {
   "cell_type": "code",
   "execution_count": 10,
   "metadata": {},
   "outputs": [
    {
     "name": "stdout",
     "output_type": "stream",
     "text": [
      "\n",
      "=============\n",
      "ANOVA SUMMARY\n",
      "=============\n",
      "\n",
      "Source            SS    DF1    DF2       MS       F    p-unc    np2      eps\n",
      "-----------  -------  -----  -----  -------  ------  -------  -----  -------\n",
      "group        155.566      1    395  155.566   1.193    0.275  0.003  nan\n",
      "time         922.841      1    395  922.841  29.926    0.000  0.070    1.000\n",
      "Interaction    3.278      1    395    3.278   0.106    0.745  0.000  nan\n",
      "\n"
     ]
    }
   ],
   "source": [
    "# Compute the two-way mixed-design ANOVA\n",
    "aov = pg.mixed_anova(dv='score', within='time', between='group', subject='participant_id', data=df)\n",
    "# Pretty printing of ANOVA summary\n",
    "pg.print_table(aov)"
   ]
  },
  {
   "cell_type": "code",
   "execution_count": 11,
   "metadata": {},
   "outputs": [
    {
     "data": {
      "text/html": [
       "<div>\n",
       "<style scoped>\n",
       "    .dataframe tbody tr th:only-of-type {\n",
       "        vertical-align: middle;\n",
       "    }\n",
       "\n",
       "    .dataframe tbody tr th {\n",
       "        vertical-align: top;\n",
       "    }\n",
       "\n",
       "    .dataframe thead th {\n",
       "        text-align: right;\n",
       "    }\n",
       "</style>\n",
       "<table border=\"1\" class=\"dataframe\">\n",
       "  <thead>\n",
       "    <tr style=\"text-align: right;\">\n",
       "      <th></th>\n",
       "      <th>W</th>\n",
       "      <th>pval</th>\n",
       "      <th>normal</th>\n",
       "    </tr>\n",
       "    <tr>\n",
       "      <th>group</th>\n",
       "      <th></th>\n",
       "      <th></th>\n",
       "      <th></th>\n",
       "    </tr>\n",
       "  </thead>\n",
       "  <tbody>\n",
       "    <tr>\n",
       "      <th>Control</th>\n",
       "      <td>0.986984</td>\n",
       "      <td>0.002878</td>\n",
       "      <td>False</td>\n",
       "    </tr>\n",
       "    <tr>\n",
       "      <th>Treatment</th>\n",
       "      <td>0.981767</td>\n",
       "      <td>0.000025</td>\n",
       "      <td>False</td>\n",
       "    </tr>\n",
       "  </tbody>\n",
       "</table>\n",
       "</div>"
      ],
      "text/plain": [
       "                  W      pval  normal\n",
       "group                                \n",
       "Control    0.986984  0.002878   False\n",
       "Treatment  0.981767  0.000025   False"
      ]
     },
     "execution_count": 11,
     "metadata": {},
     "output_type": "execute_result"
    }
   ],
   "source": [
    "pg.normality(df, dv='score', group='group')"
   ]
  },
  {
   "cell_type": "markdown",
   "metadata": {},
   "source": [
    "### Ordinal Risk"
   ]
  },
  {
   "cell_type": "code",
   "execution_count": 12,
   "metadata": {},
   "outputs": [
    {
     "data": {
      "text/html": [
       "<div>\n",
       "<style scoped>\n",
       "    .dataframe tbody tr th:only-of-type {\n",
       "        vertical-align: middle;\n",
       "    }\n",
       "\n",
       "    .dataframe tbody tr th {\n",
       "        vertical-align: top;\n",
       "    }\n",
       "\n",
       "    .dataframe thead th {\n",
       "        text-align: right;\n",
       "    }\n",
       "</style>\n",
       "<table border=\"1\" class=\"dataframe\">\n",
       "  <thead>\n",
       "    <tr style=\"text-align: right;\">\n",
       "      <th></th>\n",
       "      <th></th>\n",
       "      <th>mean</th>\n",
       "      <th>std</th>\n",
       "    </tr>\n",
       "    <tr>\n",
       "      <th>time</th>\n",
       "      <th>group</th>\n",
       "      <th></th>\n",
       "      <th></th>\n",
       "    </tr>\n",
       "  </thead>\n",
       "  <tbody>\n",
       "    <tr>\n",
       "      <th rowspan=\"2\" valign=\"top\">posttest</th>\n",
       "      <th>Control</th>\n",
       "      <td>4.47</td>\n",
       "      <td>1.25</td>\n",
       "    </tr>\n",
       "    <tr>\n",
       "      <th>Treatment</th>\n",
       "      <td>4.57</td>\n",
       "      <td>1.39</td>\n",
       "    </tr>\n",
       "    <tr>\n",
       "      <th rowspan=\"2\" valign=\"top\">pretest</th>\n",
       "      <th>Control</th>\n",
       "      <td>4.65</td>\n",
       "      <td>1.32</td>\n",
       "    </tr>\n",
       "    <tr>\n",
       "      <th>Treatment</th>\n",
       "      <td>4.58</td>\n",
       "      <td>1.31</td>\n",
       "    </tr>\n",
       "  </tbody>\n",
       "</table>\n",
       "</div>"
      ],
      "text/plain": [
       "                    mean   std\n",
       "time     group                \n",
       "posttest Control    4.47  1.25\n",
       "         Treatment  4.57  1.39\n",
       "pretest  Control    4.65  1.32\n",
       "         Treatment  4.58  1.31"
      ]
     },
     "execution_count": 12,
     "metadata": {},
     "output_type": "execute_result"
    }
   ],
   "source": [
    "pre = vcf_data[['participant_id', 'group', 'base_global']].rename(columns={'base_global': 'score'})\n",
    "pre = pre.assign(time = \"pretest\")\n",
    "post = vcf_data[['participant_id', 'group', 'global_6']].rename(columns={'global_6': 'score'})\n",
    "post = post.assign(time = \"posttest\")\n",
    "df = pre.append(post, ignore_index=True)\n",
    "df.groupby(['time', 'group'])['score'].agg(['mean', 'std']).round(2)"
   ]
  },
  {
   "cell_type": "code",
   "execution_count": 13,
   "metadata": {},
   "outputs": [
    {
     "data": {
      "text/plain": [
       "<AxesSubplot:xlabel='time', ylabel='score'>"
      ]
     },
     "execution_count": 13,
     "metadata": {},
     "output_type": "execute_result"
    },
    {
     "data": {
      "image/png": "[encoded data removed]",
      "text/plain": [
       "<Figure size 432x288 with 1 Axes>"
      ]
     },
     "metadata": {},
     "output_type": "display_data"
    }
   ],
   "source": [
    "sns.set()\n",
    "sns.pointplot(data=df, x='time', y='score', hue='group', dodge=True, markers=['o', 's'],\n",
    "              capsize=.1, errwidth=1, palette='colorblind')"
   ]
  },
  {
   "cell_type": "code",
   "execution_count": 14,
   "metadata": {},
   "outputs": [
    {
     "name": "stdout",
     "output_type": "stream",
     "text": [
      "\n",
      "=============\n",
      "ANOVA SUMMARY\n",
      "=============\n",
      "\n",
      "Source          SS    DF1    DF2     MS      F    p-unc    np2      eps\n",
      "-----------  -----  -----  -----  -----  -----  -------  -----  -------\n",
      "group        0.022      1    395  0.022  0.008    0.929  0.000  nan\n",
      "time         1.372      1    395  1.372  1.979    0.160  0.005    1.000\n",
      "Interaction  1.352      1    395  1.352  1.951    0.163  0.005  nan\n",
      "\n"
     ]
    }
   ],
   "source": [
    "# Compute the two-way mixed-design ANOVA\n",
    "aov = pg.mixed_anova(dv='score', within='time', between='group', subject='participant_id', data=df)\n",
    "# Pretty printing of ANOVA summary\n",
    "pg.print_table(aov)"
   ]
  }
 ],
 "metadata": {
  "kernelspec": {
   "display_name": "Python 3",
   "language": "python",
   "name": "python3"
  },
  "language_info": {
   "codemirror_mode": {
    "name": "ipython",
    "version": 3
   },
   "file_extension": ".py",
   "mimetype": "text/x-python",
   "name": "python",
   "nbconvert_exporter": "python",
   "pygments_lexer": "ipython3",
   "version": "3.8.5"
  },
  "toc": {
   "base_numbering": 1,
   "nav_menu": {},
   "number_sections": true,
   "sideBar": true,
   "skip_h1_title": false,
   "title_cell": "Table of Contents",
   "title_sidebar": "Contents",
   "toc_cell": false,
   "toc_position": {},
   "toc_section_display": true,
   "toc_window_display": true
  }
 },
 "nbformat": 4,
 "nbformat_minor": 4
}
