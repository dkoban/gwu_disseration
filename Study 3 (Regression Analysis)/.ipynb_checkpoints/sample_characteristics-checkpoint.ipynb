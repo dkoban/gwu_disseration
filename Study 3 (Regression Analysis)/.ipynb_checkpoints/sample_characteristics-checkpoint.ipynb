{
 "cells": [
  {
   "cell_type": "markdown",
   "metadata": {},
   "source": [
    "# Sample Characteristics"
   ]
  },
  {
   "cell_type": "code",
   "execution_count": 1,
   "metadata": {},
   "outputs": [
    {
     "data": {
      "text/html": [
       "'Initial sample: 397'"
      ],
      "text/latex": [
       "'Initial sample: 397'"
      ],
      "text/markdown": [
       "'Initial sample: 397'"
      ],
      "text/plain": [
       "[1] \"Initial sample: 397\""
      ]
     },
     "metadata": {},
     "output_type": "display_data"
    }
   ],
   "source": [
    "suppressWarnings(suppressMessages(library(tidyverse)))\n",
    "library(tableone)\n",
    "\n",
    "# Load the data\n",
    "load(file = \"~/Documents/holding_gwu_dissertation/data/study3_1_data.RData\")\n",
    "paste0(\"Initial sample: \", nrow(vcf_data))"
   ]
  },
  {
   "cell_type": "markdown",
   "metadata": {},
   "source": [
    "## Reasons not to vaccinate"
   ]
  },
  {
   "cell_type": "code",
   "execution_count": 2,
   "metadata": {},
   "outputs": [
    {
     "data": {
      "text/plain": [
       "                                                                                                                                                     \n",
       "                                                                                                                                                      Overall    \n",
       "  n                                                                                                                                                   397        \n",
       "  group = Control (%)                                                                                                                                 177 (44.6) \n",
       "  I am exercising my right to choose = Yes (%)                                                                                                        201 (50.6) \n",
       "  I am not sure the vaccine is effective = Yes (%)                                                                                                    274 (69.0) \n",
       "  I am not sure the vaccine is safe = Yes (%)                                                                                                         299 (75.3) \n",
       "  I am worried about being asked to show my ID at a vaccine appointment = Yes (%)                                                                       5 ( 1.3) \n",
       "  I believe that I can do other things, such as exercise, eating right, or taking dietary supplements, that are equally, or more, effective = Yes (%) 147 (37.0) \n",
       "  I don't believe taking this vaccine is morally justifiable = Yes (%)                                                                                 61 (15.4) \n",
       "  I don't have the time = Yes (%)                                                                                                                      22 ( 5.5) \n",
       "  I don't think I am at risk = Yes (%)                                                                                                                 97 (24.4) \n",
       "  I don't trust the government or pharmaceutical companies = Yes (%)                                                                                  219 (55.2) \n",
       "  I don't want to put something foreign into my body = Yes (%)                                                                                        158 (39.8) \n",
       "  I think the risks of COVID-19 are exaggerated = Yes (%)                                                                                             138 (34.8) \n",
       "  I'm allergic to vaccines = Yes (%)                                                                                                                   19 ( 4.8) \n",
       "  It conflicts with my religious beliefs = Yes (%)                                                                                                     50 (12.6) \n",
       "  My family or friends are not supportive of me getting the vaccine = Yes (%)                                                                          28 ( 7.1) \n",
       "  Other (please describe): = Yes (%)                                                                                                                   28 ( 7.1) "
      ]
     },
     "metadata": {},
     "output_type": "display_data"
    }
   ],
   "source": [
    "reason_df <- list()\n",
    "for (i in 1:nrow(vcf_data)){\n",
    "    reason_df[[i]] <- tibble(mturk_code = vcf_data$mturk_code[i],\n",
    "                             group = vcf_data$group[i],\n",
    "                             reasons = vcf_data$reasons_for_not_vax[i]%>% \n",
    "                                       str_split(\"[.],\") %>% .[[1]] %>% str_trim() %>% \n",
    "                                       str_replace(\"[.]\", \"\") %>% unlist())    \n",
    "}\n",
    "reason_df <- bind_rows(reason_df)\n",
    "\n",
    "reason_df_wide <- reason_df %>% mutate(Yes = \"Yes\") %>% spread(key = \"reasons\", value = \"Yes\")\n",
    "reason_df_wide[is.na(reason_df_wide)] <- \"No\"\n",
    "reason_df_wide <- reason_df_wide %>% select(-mturk_code)\n",
    "CreateTableOne(data = reason_df_wide)"
   ]
  },
  {
   "cell_type": "code",
   "execution_count": 3,
   "metadata": {},
   "outputs": [
    {
     "data": {
      "text/plain": [
       "                     Stratified by group\n",
       "                      Treatment   Control      p      test\n",
       "  n                   220         177                     \n",
       "  group = Control (%)   0 ( 0.0)  177 (100.0)  <0.001     \n",
       "  R1 = Yes (%)        106 (48.2)   95 ( 53.7)   0.324     \n",
       "  R2 = Yes (%)        155 (70.5)  119 ( 67.2)   0.561     \n",
       "  R3 = Yes (%)        170 (77.3)  129 ( 72.9)   0.373     \n",
       "  R4 = Yes (%)          4 ( 1.8)    1 (  0.6)   0.509     \n",
       "  R5 = Yes (%)         88 (40.0)   59 ( 33.3)   0.207     \n",
       "  R6 = Yes (%)         37 (16.8)   24 ( 13.6)   0.450     \n",
       "  R7 = Yes (%)         14 ( 6.4)    8 (  4.5)   0.564     \n",
       "  R8 = Yes (%)         56 (25.5)   41 ( 23.2)   0.681     \n",
       "  R9 = Yes (%)        120 (54.5)   99 ( 55.9)   0.861     \n",
       "  R10 = Yes (%)        84 (38.2)   74 ( 41.8)   0.528     \n",
       "  R11 = Yes (%)        78 (35.5)   60 ( 33.9)   0.828     \n",
       "  R12 = Yes (%)        12 ( 5.5)    7 (  4.0)   0.646     \n",
       "  R13 = Yes (%)        25 (11.4)   25 ( 14.1)   0.502     \n",
       "  R14 = Yes (%)        13 ( 5.9)   15 (  8.5)   0.427     \n",
       "  R15 = Yes (%)        14 ( 6.4)   14 (  7.9)   0.689     "
      ]
     },
     "metadata": {},
     "output_type": "display_data"
    }
   ],
   "source": [
    "colnames(reason_df_wide) <- c('group', paste0(\"R\", 1:(length(reason_df_wide)-1)))\n",
    "CreateTableOne(strat = c(\"group\"), data = reason_df_wide)"
   ]
  },
  {
   "cell_type": "markdown",
   "metadata": {},
   "source": [
    "## COVID-19 Experience"
   ]
  },
  {
   "cell_type": "code",
   "execution_count": 4,
   "metadata": {},
   "outputs": [
    {
     "data": {
      "text/plain": [
       "                                     \n",
       "                                      Overall    \n",
       "  n                                   397        \n",
       "  group = Control (%)                 177 (44.6) \n",
       "  tested_positive = Yes (%)           109 (27.6) \n",
       "  know_someone_diagnosed = Yes (%)    356 (89.7) \n",
       "  know_someone_hospitalized = Yes (%) 183 (46.1) \n",
       "  know_someone_died = Yes (%)         129 (32.5) "
      ]
     },
     "metadata": {},
     "output_type": "display_data"
    },
    {
     "data": {
      "text/plain": [
       "                                     Stratified by group\n",
       "                                      Treatment   Control      p      test\n",
       "  n                                   220         177                     \n",
       "  group = Control (%)                   0 ( 0.0)  177 (100.0)  <0.001     \n",
       "  tested_positive = Yes (%)            60 (27.4)   49 ( 27.8)   1.000     \n",
       "  know_someone_diagnosed = Yes (%)    191 (86.8)  165 ( 93.2)   0.055     \n",
       "  know_someone_hospitalized = Yes (%) 113 (51.4)   70 ( 39.5)   0.025     \n",
       "  know_someone_died = Yes (%)          80 (36.4)   49 ( 27.7)   0.084     "
      ]
     },
     "metadata": {},
     "output_type": "display_data"
    }
   ],
   "source": [
    "temp <- vcf_data %>% dplyr::select(group, tested_positive, know_someone_diagnosed, \n",
    "                                   know_someone_hospitalized, know_someone_died)\n",
    "temp$tested_positive[temp$tested_positive != \"Yes\"] <- \"No\"\n",
    "CreateTableOne(data = temp)\n",
    "CreateTableOne(strat = c(\"group\"), data = temp)"
   ]
  },
  {
   "cell_type": "markdown",
   "metadata": {},
   "source": [
    "## Demographics"
   ]
  },
  {
   "cell_type": "code",
   "execution_count": 5,
   "metadata": {},
   "outputs": [
    {
     "data": {
      "text/plain": [
       "                               \n",
       "                                Overall      \n",
       "  n                               397        \n",
       "  age (mean (SD))               37.09 (9.82) \n",
       "  white = white (%)               325 (81.9) \n",
       "  gender = Female (%)             289 (72.8) \n",
       "  marital_status = Married (%)    162 (40.8) \n",
       "  employment2 = Working (%)       282 (71.0) \n",
       "  education2 = some college (%)   314 (79.1) \n",
       "  income3 (%)                                \n",
       "     Less than $34,999            154 (39.2) \n",
       "     $35,000 - $74,999            165 (42.0) \n",
       "     $75,000 and above             74 (18.8) \n",
       "  political_view (%)                         \n",
       "     Conservative                 175 (45.6) \n",
       "     Moderate                     125 (32.6) \n",
       "     Liberal                       84 (21.9) \n",
       "  political_affiliation (%)                  \n",
       "     Republican                   152 (40.4) \n",
       "     Independent                  146 (38.8) \n",
       "     Democrat                      78 (20.7) \n",
       "  group = Control (%)             177 (44.6) "
      ]
     },
     "metadata": {},
     "output_type": "display_data"
    },
    {
     "data": {
      "text/html": [
       "18"
      ],
      "text/latex": [
       "18"
      ],
      "text/markdown": [
       "18"
      ],
      "text/plain": [
       "[1] 18"
      ]
     },
     "metadata": {},
     "output_type": "display_data"
    },
    {
     "data": {
      "text/html": [
       "74"
      ],
      "text/latex": [
       "74"
      ],
      "text/markdown": [
       "74"
      ],
      "text/plain": [
       "[1] 74"
      ]
     },
     "metadata": {},
     "output_type": "display_data"
    }
   ],
   "source": [
    "temp <- vcf_data %>%\n",
    "              dplyr::select(age, white, gender,\n",
    "                            marital_status, employment2, education2, income3,\n",
    "                            political_view, political_affiliation,\n",
    "                            group) \n",
    "\n",
    "CreateTableOne(data = temp)\n",
    "min(vcf_data$age)\n",
    "max(vcf_data$age)"
   ]
  },
  {
   "cell_type": "code",
   "execution_count": 6,
   "metadata": {},
   "outputs": [
    {
     "data": {
      "text/plain": [
       "                               Stratified by group\n",
       "                                Treatment     Control        p      test\n",
       "  n                               220           177                     \n",
       "  age (mean (SD))               36.94 (10.29) 37.27 (9.23)    0.744     \n",
       "  white = white (%)               177 (80.5)    148 ( 83.6)   0.496     \n",
       "  gender = Female (%)             158 (71.8)    131 ( 74.0)   0.708     \n",
       "  marital_status = Married (%)     93 (42.3)     69 ( 39.0)   0.575     \n",
       "  employment2 = Working (%)       157 (71.4)    125 ( 70.6)   0.960     \n",
       "  education2 = some college (%)   168 (76.4)    146 ( 82.5)   0.172     \n",
       "  income3 (%)                                                 0.750     \n",
       "     Less than $34,999             81 (37.5)     73 ( 41.2)             \n",
       "     $35,000 - $74,999             93 (43.1)     72 ( 40.7)             \n",
       "     $75,000 and above             42 (19.4)     32 ( 18.1)             \n",
       "  political_view (%)                                          0.863     \n",
       "     Conservative                  97 (46.0)     78 ( 45.1)             \n",
       "     Moderate                      70 (33.2)     55 ( 31.8)             \n",
       "     Liberal                       44 (20.9)     40 ( 23.1)             \n",
       "  political_affiliation (%)                                   0.665     \n",
       "     Republican                    85 (40.7)     67 ( 40.1)             \n",
       "     Independent                   84 (40.2)     62 ( 37.1)             \n",
       "     Democrat                      40 (19.1)     38 ( 22.8)             \n",
       "  group = Control (%)               0 ( 0.0)    177 (100.0)  <0.001     "
      ]
     },
     "metadata": {},
     "output_type": "display_data"
    }
   ],
   "source": [
    "CreateTableOne(strat = c(\"group\"), data = temp)"
   ]
  },
  {
   "cell_type": "markdown",
   "metadata": {},
   "source": [
    "## Trust in COVID-19 Information Sources"
   ]
  },
  {
   "cell_type": "code",
   "execution_count": 7,
   "metadata": {},
   "outputs": [
    {
     "data": {
      "text/plain": [
       "                     \n",
       "                      Overall    \n",
       "  n                   397        \n",
       "  fed_gov_trust (%)              \n",
       "     A great deal      34 ( 8.8) \n",
       "     A little         142 (36.9) \n",
       "     Not at all       209 (54.3) \n",
       "  local_gov_trust (%)            \n",
       "     A great deal      35 ( 9.0) \n",
       "     A little         162 (41.9) \n",
       "     Not at all       190 (49.1) \n",
       "  cdc_trust (%)                  \n",
       "     A great deal     108 (28.3) \n",
       "     A little         139 (36.4) \n",
       "     Not at all       135 (35.3) \n",
       "  fda_trust (%)                  \n",
       "     A great deal      64 (16.8) \n",
       "     A little         164 (43.2) \n",
       "     Not at all       152 (40.0) \n",
       "  doctor_trust (%)               \n",
       "     A great deal     224 (59.3) \n",
       "     A little         128 (33.9) \n",
       "     Not at all        26 ( 6.9) \n",
       "  group = Control (%) 177 (44.6) "
      ]
     },
     "metadata": {},
     "output_type": "display_data"
    }
   ],
   "source": [
    "temp <- vcf_data %>%\n",
    "              dplyr::select(fed_gov_trust, local_gov_trust, \n",
    "                            cdc_trust, fda_trust, doctor_trust,\n",
    "                            group) %>%\n",
    "              mutate(fed_gov_trust = fed_gov_trust %>% as.character(),\n",
    "                     local_gov_trust = local_gov_trust %>% as.character(),\n",
    "                     cdc_trust = cdc_trust %>% as.character(),\n",
    "                     fda_trust = fda_trust %>% as.character(),\n",
    "                     doctor_trust = doctor_trust %>% as.character())\n",
    "\n",
    "temp$fed_gov_trust[temp$fed_gov_trust == \"0\"] <- \"Not at all\"\n",
    "temp$local_gov_trust[temp$local_gov_trust == \"0\"] <- \"Not at all\"\n",
    "temp$cdc_trust[temp$cdc_trust == \"0\"] <- \"Not at all\"\n",
    "temp$fda_trust[temp$fda_trust == \"0\"] <- \"Not at all\"\n",
    "temp$doctor_trust[temp$doctor_trust == \"0\"] <- \"Not at all\"\n",
    "\n",
    "temp$fed_gov_trust[temp$fed_gov_trust == \"1\"] <- \"A little\"\n",
    "temp$local_gov_trust[temp$local_gov_trust == \"1\"] <- \"A little\"\n",
    "temp$cdc_trust[temp$cdc_trust == \"1\"] <- \"A little\"\n",
    "temp$fda_trust[temp$fda_trust == \"1\"] <- \"A little\"\n",
    "temp$doctor_trust[temp$doctor_trust == \"1\"] <- \"A little\"\n",
    "\n",
    "temp$fed_gov_trust[temp$fed_gov_trust == \"2\"] <- \"A great deal\"\n",
    "temp$local_gov_trust[temp$local_gov_trust == \"2\"] <- \"A great deal\"\n",
    "temp$cdc_trust[temp$cdc_trust == \"2\"] <- \"A great deal\"\n",
    "temp$fda_trust[temp$fda_trust == \"2\"] <- \"A great deal\"\n",
    "temp$doctor_trust[temp$doctor_trust == \"2\"] <- \"A great deal\"\n",
    "\n",
    "CreateTableOne(data = temp)"
   ]
  },
  {
   "cell_type": "code",
   "execution_count": 8,
   "metadata": {},
   "outputs": [
    {
     "data": {
      "text/plain": [
       "                     Stratified by group\n",
       "                      Treatment   Control      p      test\n",
       "  n                   220         177                     \n",
       "  fed_gov_trust (%)                             0.529     \n",
       "     A great deal      21 ( 9.9)   13 (  7.6)             \n",
       "     A little          74 (34.7)   68 ( 39.5)             \n",
       "     Not at all       118 (55.4)   91 ( 52.9)             \n",
       "  local_gov_trust (%)                           0.153     \n",
       "     A great deal      24 (11.2)   11 (  6.4)             \n",
       "     A little          83 (38.6)   79 ( 45.9)             \n",
       "     Not at all       108 (50.2)   82 ( 47.7)             \n",
       "  cdc_trust (%)                                 0.406     \n",
       "     A great deal      66 (30.8)   42 ( 25.0)             \n",
       "     A little          77 (36.0)   62 ( 36.9)             \n",
       "     Not at all        71 (33.2)   64 ( 38.1)             \n",
       "  fda_trust (%)                                 0.011     \n",
       "     A great deal      46 (21.8)   18 ( 10.7)             \n",
       "     A little          82 (38.9)   82 ( 48.5)             \n",
       "     Not at all        83 (39.3)   69 ( 40.8)             \n",
       "  doctor_trust (%)                              0.131     \n",
       "     A great deal     130 (62.8)   94 ( 55.0)             \n",
       "     A little          61 (29.5)   67 ( 39.2)             \n",
       "     Not at all        16 ( 7.7)   10 (  5.8)             \n",
       "  group = Control (%)   0 ( 0.0)  177 (100.0)  <0.001     "
      ]
     },
     "metadata": {},
     "output_type": "display_data"
    }
   ],
   "source": [
    "CreateTableOne(strat = c(\"group\"), data = temp)"
   ]
  }
 ],
 "metadata": {
  "kernelspec": {
   "display_name": "R",
   "language": "R",
   "name": "ir"
  },
  "language_info": {
   "codemirror_mode": "r",
   "file_extension": ".r",
   "mimetype": "text/x-r-source",
   "name": "R",
   "pygments_lexer": "r",
   "version": "4.2.0"
  },
  "toc": {
   "base_numbering": 1,
   "nav_menu": {},
   "number_sections": true,
   "sideBar": true,
   "skip_h1_title": false,
   "title_cell": "Table of Contents",
   "title_sidebar": "Contents",
   "toc_cell": false,
   "toc_position": {},
   "toc_section_display": true,
   "toc_window_display": false
  }
 },
 "nbformat": 4,
 "nbformat_minor": 4
}
