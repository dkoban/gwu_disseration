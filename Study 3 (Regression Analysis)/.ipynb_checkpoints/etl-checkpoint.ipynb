{
 "cells": [
  {
   "cell_type": "markdown",
   "metadata": {},
   "source": [
    "## Data conditioning\n",
    "\n",
    "### Load the data"
   ]
  },
  {
   "cell_type": "code",
   "execution_count": 1,
   "metadata": {},
   "outputs": [
    {
     "name": "stdout",
     "output_type": "stream",
     "text": [
      "[1] \"Initial Sample: 507\"\n"
     ]
    }
   ],
   "source": [
    "# Load the libraries\n",
    "suppressWarnings(suppressMessages(library(tidyverse)))\n",
    "\n",
    "# Load the data\n",
    "load(\"~/Documents/holding_gwu_dissertation/data/vcf_data.RData\")\n",
    "print(paste0(\"Initial Sample: \", nrow(vcf_data)))\n",
    "\n",
    "# Relabel the wave variable\n",
    "vcf_data$wave <- \"Wave 1\"\n",
    "vcf_data$wave[vcf_data$trial == 3] <- \"Wave 2\"\n",
    "vcf_data$wave <- factor(vcf_data$wave, levels = c(\"Wave 1\", \"Wave 2\"))\n",
    "\n",
    "# Relabel the group variable\n",
    "vcf_data$group <- vcf_data$group %>% as.character()\n",
    "vcf_data$group[vcf_data$group == \"Gist\"] <- \"Treatment\"\n",
    "vcf_data$group <- factor(vcf_data$group, levels = c(\"Treatment\", \"Control\"))\n",
    "\n",
    "# Collapse political views into 3 categories\n",
    "vcf_data$political_view[vcf_data$political_view %in% \n",
    "                          c(\"Slightly conservative\",\n",
    "                            \"Very conservative\")] <- \"Conservative\"\n",
    "vcf_data$political_view[vcf_data$political_view %in% \n",
    "                           c(\"Slightly liberal\",\n",
    "                             \"Very liberal\")] <- \"Liberal\"\n",
    "vcf_data$political_view <- factor(vcf_data$political_view,\n",
    "                                  levels = c(\"Conservative\", \"Moderate\", \"Liberal\"))\n",
    "\n",
    "# Political affiliation\n",
    "vcf_data$political_affiliation <- factor(vcf_data$political_affiliation, \n",
    "                                          levels = c(\"Republican\", \"Independent\", \"Democrat\"))\n",
    "\n",
    "# Age categories\n",
    "vcf_data$age_cat <- NA\n",
    "vcf_data$age_cat[vcf_data$age < 30] <- \"less than 30\"\n",
    "vcf_data$age_cat[(vcf_data$age >= 30 & vcf_data$age <= 49)] <- \"30-49\"\n",
    "vcf_data$age_cat[vcf_data$age >= 50] <- \"greater than 50\"\n",
    "\n",
    "# Gender\n",
    "vcf_data$gender[vcf_data$gender != \"Female\"] <- \"Not Female\"\n",
    "vcf_data$gender <- factor(vcf_data$gender, levels = c(\"Not Female\", \"Female\"))\n",
    "\n",
    "# Race\n",
    "vcf_data$afr_am <- NA\n",
    "vcf_data$afr_am[vcf_data$race == \"Black or African American\"] <- \"afr_am\"\n",
    "vcf_data$afr_am[vcf_data$race != \"Black or African American\"] <- \"not_afr_am\"\n",
    "vcf_data$afr_am <- factor(vcf_data$afr_am, levels = c(\"not_afr_am\", \"afr_am\"))\n",
    "vcf_data$white <- NA\n",
    "vcf_data$white[vcf_data$race == \"White\"] <- \"white\"\n",
    "vcf_data$white[vcf_data$race != \"White\"] <- \"not_white\"\n",
    "vcf_data$white <- factor(vcf_data$white, levels = c(\"not_white\", \"white\"))\n",
    "vcf_data$other <- NA\n",
    "vcf_data$other[vcf_data$race == \"White\" | vcf_data$race ==  \"Black or African American\"] <- \"not_other\"\n",
    "vcf_data$other[!(vcf_data$race == \"White\" | vcf_data$race ==  \"Black or African American\")] <- \"other\"\n",
    "vcf_data$other <- factor(vcf_data$other, levels = c(\"not_other\", \"other\"))\n",
    "\n",
    "\n",
    "# Education\n",
    "vcf_data$education2 <- vcf_data$education\n",
    "vcf_data$education2[vcf_data$education2 == \"High school graduate\"] <- \"High school or less\"\n",
    "vcf_data$education2[vcf_data$education2 == \"Less than high school (for example, middle or elementary school)\"] <- \"High school or less\"\n",
    "vcf_data$education2[vcf_data$education2 == \"Some high school\"] <- \"High school or less\"\n",
    "vcf_data$education2[vcf_data$education2 == \"GED\"] <- \"High school or less\"\n",
    "vcf_data$education2[vcf_data$education2 == \"Some college - no degree\"] <- \"some college\"\n",
    "vcf_data$education2[vcf_data$education2 == \"Associate's or technical degree (for example, AA\"] <- \"some college\"\n",
    "vcf_data$education2[vcf_data$education2 == \"Graduate degree (for example, MA or PhD)\"] <- \"some college\"\n",
    "vcf_data$education2[vcf_data$education2 == \"Bachelor's degree (for example, BA, BS, or AB)\"] <- \"some college\"\n",
    "\n",
    "# Marital Status\n",
    "vcf_data$marital_status[vcf_data$marital_status != \"Married\"] <- \"Unmarried\"\n",
    "vcf_data$marital_status <- factor(vcf_data$marital_status, levels = c(\"Unmarried\", \"Married\"))\n",
    "\n",
    "# Employment\n",
    "vcf_data$employment2 <- vcf_data$employment \n",
    "vcf_data$employment2[vcf_data$employment2 == \"Working full time (40 hours a week or more)\"] <- \"Working\"\n",
    "vcf_data$employment2[vcf_data$employment2 == \"Working part time (less than 40 hours a week)\"] <- \"Working\"\n",
    "vcf_data$employment2[vcf_data$employment2 != \"Working\"] <- \"Not Working\"\n",
    "\n",
    "# Income\n",
    "vcf_data$income <- factor(vcf_data$income, \n",
    "                          levels = c(\"Less than $15,000\",\n",
    "                                     \"$15,000 - $19,999\",\n",
    "                                     \"$20,000 - $24,999\",\n",
    "                                     \"$25,000 - $34,999\", \n",
    "                                     \"$35,000 - $49,999\", \n",
    "                                     \"$50,000 - $74,999\", \n",
    "                                     \"$75,000 - $99,999\", \n",
    "                                     \"$100,000 and above\"))\n",
    "\n",
    "vcf_data$income2 <- NA\n",
    "vcf_data$income2[vcf_data$income == \"Less than $15,000\"] <- \"Less than $24,999\"\n",
    "vcf_data$income2[vcf_data$income == \"$15,000 - $19,999\"] <- \"Less than $24,999\"\n",
    "vcf_data$income2[vcf_data$income == \"$20,000 - $24,999\"] <- \"Less than $24,999\"\n",
    "vcf_data$income2[vcf_data$income == \"$25,000 - $34,999\"] <- \"$25,000 - $34,999\"\n",
    "vcf_data$income2[vcf_data$income == \"$35,000 - $49,999\"] <- \"$35,000 - $49,999\"\n",
    "vcf_data$income2[vcf_data$income == \"$50,000 - $74,999\"] <- \"$50,000 - $74,999\"\n",
    "vcf_data$income2[vcf_data$income == \"$75,000 - $99,999\"] <- \"$75,000 and above\"\n",
    "vcf_data$income2[vcf_data$income == \"$100,000 and above\"] <- \"$75,000 and above\"\n",
    "vcf_data$income2 <- factor(vcf_data$income2, \n",
    "                           levels = c(\"Less than $24,999\", \n",
    "                                      \"$25,000 - $34,999\", \"$35,000 - $49,999\",\n",
    "                                      \"$50,000 - $74,999\", \"$75,000 and above\"))\n",
    "\n",
    "vcf_data$income3 <- NA\n",
    "vcf_data$income3[vcf_data$income == \"Less than $15,000\"] <- \"Less than $34,999\"\n",
    "vcf_data$income3[vcf_data$income == \"$15,000 - $19,999\"] <- \"Less than $34,999\"\n",
    "vcf_data$income3[vcf_data$income == \"$20,000 - $24,999\"] <- \"Less than $34,999\"\n",
    "vcf_data$income3[vcf_data$income == \"$25,000 - $34,999\"] <- \"Less than $34,999\"\n",
    "vcf_data$income3[vcf_data$income == \"$35,000 - $49,999\"] <- \"$35,000 - $74,999\"\n",
    "vcf_data$income3[vcf_data$income == \"$50,000 - $74,999\"] <- \"$35,000 - $74,999\"\n",
    "vcf_data$income3[vcf_data$income == \"$75,000 - $99,999\"] <- \"$75,000 and above\"\n",
    "vcf_data$income3[vcf_data$income == \"$100,000 and above\"] <- \"$75,000 and above\"\n",
    "vcf_data$income3 <- factor(vcf_data$income3, \n",
    "                           levels = c(\"Less than $34,999\", \"$35,000 - $74,999\", \n",
    "                                      \"$75,000 and above\"))\n",
    "\n",
    "# Cognitive Reasoning\n",
    "vcf_data$crt_1_correct <- 0\n",
    "vcf_data$crt_1_correct[vcf_data$crt_1 %in% \n",
    "                         c(\"500\", \"500 times\", \"Probability is half so 500 times\")] <- 1\n",
    "vcf_data$crt_2_correct <- 0\n",
    "vcf_data$crt_2_correct[vcf_data$crt_2 %in% c(\"10\")] <- 1\n",
    "vcf_data$crt_3_correct <- 0\n",
    "vcf_data$crt_3_correct[vcf_data$crt_3 %in% c(\"1\", \"1%\", \"1 percent\")] <- 1\n",
    "vcf_data$crt_sum <- vcf_data$crt_1_correct + vcf_data$crt_2_correct + vcf_data$crt_3_correct\n",
    "\n",
    "vcf_data$crt_level <- NA\n",
    "vcf_data$crt_level[vcf_data$crt_sum <= 1] <- \"low\"\n",
    "vcf_data$crt_level[vcf_data$crt_sum > 1] <- \"high\"\n",
    "vcf_data$crt_level <- factor(vcf_data$crt_level, levels = c(\"low\", \"high\"))\n",
    "\n",
    "# add record that was dropped earlier in the ETL process\n",
    "vcf_data$intention_6[vcf_data$participant_id == \"p_276\"] <- \"Not at all likely\"\n",
    "\n",
    "# Transform trust \n",
    "transform_trust <- function(vals){\n",
    "    vals <- vals %>% as.character()\n",
    "    vals[vals == \"Not applicable\"] <- NA\n",
    "    vals[vals == \"Don't know\"] <- NA\n",
    "    vals[vals == \"Not at all\"] <- \"0\"\n",
    "    vals[vals == \"A little\"] <- \"1\"    \n",
    "    vals[vals == \"A great deal\"] <- \"2\"    \n",
    "    vals <- vals %>% as.numeric() %>% suppressWarnings()\n",
    "    vals}\n",
    "\n",
    "vcf_data$fed_gov_trust <- vcf_data$fed_gov_trust %>% transform_trust()\n",
    "vcf_data$local_gov_trust <- vcf_data$local_gov_trust %>% transform_trust()\n",
    "vcf_data$cdc_trust <- vcf_data$cdc_trust %>% transform_trust()\n",
    "vcf_data$fda_trust <- vcf_data$fda_trust %>% transform_trust()\n",
    "vcf_data$doctor_trust <- vcf_data$doctor_trust %>% transform_trust()\n",
    "\n",
    "# Conservative vs. nonconservative\n",
    "vcf_data$conservative <- NA\n",
    "vcf_data$conservative[vcf_data$political_view == \"Conservative\"] <- \"conserv\"\n",
    "vcf_data$conservative[vcf_data$political_view != \"Conservative\"] <- \"nonconserv\"\n",
    "vcf_data$conservative <- factor(vcf_data$conservative, levels = c(\"nonconserv\", \"conserv\"))\n",
    "\n",
    "# Republican vs. nonrepublican\n",
    "vcf_data$republican <- NA\n",
    "vcf_data$republican[vcf_data$political_affiliation == \"Republican\"] <- \"rep\"\n",
    "vcf_data$republican[vcf_data$political_affiliation != \"Republican\"] <- \"nonrep\"\n",
    "vcf_data$republican <- factor(vcf_data$republican, levels = c(\"rep\", \"nonrep\"))\n",
    "\n",
    "dichotomize_trust <- function(vals){\n",
    "    transformed_vals <- rep(NA, length(vals))\n",
    "    transformed_vals[vals == 0] <- \"distrust\"\n",
    "    transformed_vals[vals != 0] <- \"trust\"\n",
    "    transformed_vals <- factor(transformed_vals, levels = c(\"trust\", \"distrust\"))\n",
    "    transformed_vals\n",
    "}\n",
    "\n",
    "vcf_data$fed_gov_trust_di <- vcf_data$fed_gov_trust %>% dichotomize_trust()\n",
    "vcf_data$local_gov_trust_di <- vcf_data$local_gov_trust %>% dichotomize_trust()\n",
    "vcf_data$cdc_trust_di <- vcf_data$cdc_trust %>% dichotomize_trust()\n",
    "vcf_data$fda_trust_di <- vcf_data$fda_trust %>% dichotomize_trust()\n",
    "vcf_data$doctor_trust_di <- vcf_data$doctor_trust %>% dichotomize_trust()\n",
    "\n",
    "# Operationalize public health institution trust as sum of CDC and FDA trust\n",
    "vcf_data$phi_trust_cat <- NA\n",
    "vcf_data$phi_trust_cat <- \"trusting\"\n",
    "vcf_data$phi_trust_cat[vcf_data$fda_trust_di == \"distrust\" &\n",
    "                   vcf_data$cdc_trust_di == \"distrust\"] <- \"distrusting\"\n",
    "vcf_data$phi_trust_cat <- factor(vcf_data$phi_trust_cat, levels = c(\"distrusting\", \"trusting\"))\n",
    "\n",
    "# Operationalize governmental institution trust as sum of federal and local government trust\n",
    "vcf_data$gov_trust_cat <- NA\n",
    "vcf_data$gov_trust_cat <- \"trusting\"\n",
    "vcf_data$gov_trust_cat[vcf_data$fed_gov_trust_di == \"distrust\" &\n",
    "                   vcf_data$local_gov_trust_di == \"distrust\"] <- \"distrusting\"\n",
    "vcf_data$gov_trust_cat <- factor(vcf_data$gov_trust_cat, levels = c(\"distrusting\", \"trusting\"))\n"
   ]
  },
  {
   "cell_type": "markdown",
   "metadata": {},
   "source": [
    "### Impute vaccinated onto intentions scale"
   ]
  },
  {
   "cell_type": "code",
   "execution_count": 2,
   "metadata": {},
   "outputs": [],
   "source": [
    "# Add a \"vaccinated\" response to intentions that has a value of 8\n",
    "vcf_data$base_intention <-  factor(vcf_data$base_intention, \n",
    "                                levels = c(levels(vcf_data$base_intention),\n",
    "                                           \"Vaccinated\"))\n",
    "vcf_data$intention_2 <-  factor(vcf_data$intention_2, \n",
    "                                levels = c(levels(vcf_data$intention_2),\n",
    "                                           \"Vaccinated\"))\n",
    "vcf_data$intention_4 <-  factor(vcf_data$intention_4, \n",
    "                                levels = c(levels(vcf_data$intention_4),\n",
    "                                           \"Vaccinated\"))\n",
    "vcf_data$intention_6 <-  factor(vcf_data$intention_6, \n",
    "                                levels = c(levels(vcf_data$intention_6),\n",
    "                                           \"Vaccinated\"))\n",
    "\n",
    "# Recode intentions for vaccinated people as a vaccinated (8) response\n",
    "vcf_data$intention_2[vcf_data$vax_y_n_2 == \"Yes\"] <- \"Vaccinated\"\n",
    "vcf_data$intention_4[vcf_data$vax_y_n_4 == \"Yes\"] <- \"Vaccinated\"\n",
    "vcf_data$intention_6[vcf_data$vax_y_n_6 == \"Yes\"] <- \"Vaccinated\""
   ]
  },
  {
   "cell_type": "markdown",
   "metadata": {},
   "source": [
    "### Convert outcomes to numeric values"
   ]
  },
  {
   "cell_type": "code",
   "execution_count": 3,
   "metadata": {},
   "outputs": [],
   "source": [
    "# Baseline\n",
    "vcf_data$base_intention_n <- vcf_data$base_intention %>% as.numeric()\n",
    "vcf_data$base_encourage_n <- vcf_data$base_encourage %>% as.numeric()\n",
    "vcf_data$base_sp_complacency_n <- vcf_data$base_sp_complacency %>% as.numeric()\n",
    "vcf_data$base_sp_confidence_n <- vcf_data$base_sp_confidence %>% as.numeric()\n",
    "\n",
    "# 6 week\n",
    "vcf_data$intention_6_n <- vcf_data$intention_6 %>% as.numeric()\n",
    "vcf_data$encourage_6_n <- vcf_data$encourage_6 %>% as.numeric()\n",
    "vcf_data$sp_complacency_6_n <- vcf_data$sp_complacency_6 %>% as.numeric()\n",
    "vcf_data$sp_confidence_6_n <- vcf_data$sp_confidence_6 %>% as.numeric()"
   ]
  },
  {
   "cell_type": "markdown",
   "metadata": {},
   "source": [
    "## Filter records to exclude from analysis"
   ]
  },
  {
   "cell_type": "markdown",
   "metadata": {},
   "source": [
    "### Remove people who didn't follow up at 6 weeks"
   ]
  },
  {
   "cell_type": "code",
   "execution_count": 4,
   "metadata": {},
   "outputs": [
    {
     "data": {
      "text/html": [
       "'Initial sample: 507'"
      ],
      "text/latex": [
       "'Initial sample: 507'"
      ],
      "text/markdown": [
       "'Initial sample: 507'"
      ],
      "text/plain": [
       "[1] \"Initial sample: 507\""
      ]
     },
     "metadata": {},
     "output_type": "display_data"
    }
   ],
   "source": [
    "paste0(\"Initial sample: \", nrow(vcf_data))"
   ]
  },
  {
   "cell_type": "code",
   "execution_count": 5,
   "metadata": {},
   "outputs": [
    {
     "data": {
      "text/html": [
       "'Dropped for follow-up: 76 (0.15)'"
      ],
      "text/latex": [
       "'Dropped for follow-up: 76 (0.15)'"
      ],
      "text/markdown": [
       "'Dropped for follow-up: 76 (0.15)'"
      ],
      "text/plain": [
       "[1] \"Dropped for follow-up: 76 (0.15)\""
      ]
     },
     "metadata": {},
     "output_type": "display_data"
    },
    {
     "data": {
      "text/html": [
       "'Analysis Sample: 431'"
      ],
      "text/latex": [
       "'Analysis Sample: 431'"
      ],
      "text/markdown": [
       "'Analysis Sample: 431'"
      ],
      "text/plain": [
       "[1] \"Analysis Sample: 431\""
      ]
     },
     "metadata": {},
     "output_type": "display_data"
    }
   ],
   "source": [
    "failed_to_follow_up <- vcf_data %>% filter(is.na(sp_confidence_6))\n",
    "subset <- vcf_data %>% filter(!is.na(sp_confidence_6))\n",
    "paste0(\"Dropped for follow-up: \", nrow(failed_to_follow_up), \" (\", \n",
    "       round(nrow(failed_to_follow_up)/nrow(vcf_data),3), \")\")\n",
    "paste0(\"Analysis Sample: \", nrow(subset))"
   ]
  },
  {
   "cell_type": "markdown",
   "metadata": {},
   "source": [
    "### Remove people who weren't paying attention"
   ]
  },
  {
   "cell_type": "code",
   "execution_count": 6,
   "metadata": {},
   "outputs": [
    {
     "data": {
      "text/html": [
       "'Dropped for attention-up: 6 (0.012)'"
      ],
      "text/latex": [
       "'Dropped for attention-up: 6 (0.012)'"
      ],
      "text/markdown": [
       "'Dropped for attention-up: 6 (0.012)'"
      ],
      "text/plain": [
       "[1] \"Dropped for attention-up: 6 (0.012)\""
      ]
     },
     "metadata": {},
     "output_type": "display_data"
    },
    {
     "data": {
      "text/html": [
       "'Analysis Sample: 425'"
      ],
      "text/latex": [
       "'Analysis Sample: 425'"
      ],
      "text/markdown": [
       "'Analysis Sample: 425'"
      ],
      "text/plain": [
       "[1] \"Analysis Sample: 425\""
      ]
     },
     "metadata": {},
     "output_type": "display_data"
    }
   ],
   "source": [
    "not_paying_attention <- subset %>% filter(attention2_6 != \"Somewhat Agree\",\n",
    "                                               !(participant_id %in% failed_to_follow_up$participant_id))\n",
    "\n",
    "subset <- vcf_data %>% filter(!is.na(sp_confidence_6), attention2_6 == \"Somewhat Agree\")\n",
    "paste0(\"Dropped for attention-up: \", nrow(not_paying_attention), \" (\", \n",
    "       round(nrow(not_paying_attention)/nrow(vcf_data),3), \")\")\n",
    "paste0(\"Analysis Sample: \", nrow(subset))"
   ]
  },
  {
   "cell_type": "markdown",
   "metadata": {},
   "source": [
    "### Remove people who explicitly stated they were vaccinated prior to the study"
   ]
  },
  {
   "cell_type": "code",
   "execution_count": 7,
   "metadata": {},
   "outputs": [
    {
     "data": {
      "text/html": [
       "'Dropped for explicitly stating they were vaccinated prior to the study: 21 (0.041)'"
      ],
      "text/latex": [
       "'Dropped for explicitly stating they were vaccinated prior to the study: 21 (0.041)'"
      ],
      "text/markdown": [
       "'Dropped for explicitly stating they were vaccinated prior to the study: 21 (0.041)'"
      ],
      "text/plain": [
       "[1] \"Dropped for explicitly stating they were vaccinated prior to the study: 21 (0.041)\""
      ]
     },
     "metadata": {},
     "output_type": "display_data"
    },
    {
     "data": {
      "text/html": [
       "'Analysis Sample: 404'"
      ],
      "text/latex": [
       "'Analysis Sample: 404'"
      ],
      "text/markdown": [
       "'Analysis Sample: 404'"
      ],
      "text/plain": [
       "[1] \"Analysis Sample: 404\""
      ]
     },
     "metadata": {},
     "output_type": "display_data"
    },
    {
     "data": {
      "text/html": [
       "<table class=\"dataframe\">\n",
       "<caption>A tibble: 20 × 5</caption>\n",
       "<thead>\n",
       "\t<tr><th scope=col>base_intention</th><th scope=col>doses_2</th><th scope=col>doses_4</th><th scope=col>doses_6</th><th scope=col>vax_y_n_2</th></tr>\n",
       "\t<tr><th scope=col>&lt;fct&gt;</th><th scope=col>&lt;dbl&gt;</th><th scope=col>&lt;dbl&gt;</th><th scope=col>&lt;dbl&gt;</th><th scope=col>&lt;chr&gt;</th></tr>\n",
       "</thead>\n",
       "<tbody>\n",
       "\t<tr><td>Not at all likely</td><td>NA</td><td>NA</td><td>NA</td><td>Was already vaccinated prior to joining the study</td></tr>\n",
       "\t<tr><td>5                </td><td>NA</td><td> 3</td><td> 3</td><td>Was already vaccinated prior to joining the study</td></tr>\n",
       "\t<tr><td>3                </td><td>NA</td><td>NA</td><td>NA</td><td>Was already vaccinated prior to joining the study</td></tr>\n",
       "\t<tr><td>Not at all likely</td><td>NA</td><td>NA</td><td> 2</td><td>Was already vaccinated prior to joining the study</td></tr>\n",
       "\t<tr><td>Not at all likely</td><td>NA</td><td>NA</td><td>NA</td><td>Was already vaccinated prior to joining the study</td></tr>\n",
       "\t<tr><td>Extremely likely </td><td>NA</td><td>NA</td><td> 2</td><td>Was already vaccinated prior to joining the study</td></tr>\n",
       "\t<tr><td>Extremely likely </td><td>NA</td><td>NA</td><td> 3</td><td>Was already vaccinated prior to joining the study</td></tr>\n",
       "\t<tr><td>Not at all likely</td><td>NA</td><td> 3</td><td> 3</td><td>Was already vaccinated prior to joining the study</td></tr>\n",
       "\t<tr><td>4                </td><td>NA</td><td>NA</td><td>NA</td><td>Was already vaccinated prior to joining the study</td></tr>\n",
       "\t<tr><td>Extremely likely </td><td>NA</td><td> 3</td><td> 3</td><td>Was already vaccinated prior to joining the study</td></tr>\n",
       "\t<tr><td>6                </td><td>NA</td><td>NA</td><td> 3</td><td>Was already vaccinated prior to joining the study</td></tr>\n",
       "\t<tr><td>2                </td><td>NA</td><td>NA</td><td> 3</td><td>Was already vaccinated prior to joining the study</td></tr>\n",
       "\t<tr><td>3                </td><td>NA</td><td>NA</td><td> 3</td><td>Was already vaccinated prior to joining the study</td></tr>\n",
       "\t<tr><td>Extremely likely </td><td>NA</td><td>NA</td><td>NA</td><td>Was already vaccinated prior to joining the study</td></tr>\n",
       "\t<tr><td>5                </td><td>NA</td><td> 3</td><td>NA</td><td>Was already vaccinated prior to joining the study</td></tr>\n",
       "\t<tr><td>3                </td><td>NA</td><td>NA</td><td>NA</td><td>Was already vaccinated prior to joining the study</td></tr>\n",
       "\t<tr><td>Not at all likely</td><td>NA</td><td>NA</td><td>NA</td><td>Was already vaccinated prior to joining the study</td></tr>\n",
       "\t<tr><td>5                </td><td>NA</td><td> 3</td><td> 2</td><td>Was already vaccinated prior to joining the study</td></tr>\n",
       "\t<tr><td>4                </td><td>NA</td><td> 2</td><td>NA</td><td>Was already vaccinated prior to joining the study</td></tr>\n",
       "\t<tr><td>Not at all likely</td><td>NA</td><td>NA</td><td>NA</td><td>Was already vaccinated prior to joining the study</td></tr>\n",
       "</tbody>\n",
       "</table>\n"
      ],
      "text/latex": [
       "A tibble: 20 × 5\n",
       "\\begin{tabular}{lllll}\n",
       " base\\_intention & doses\\_2 & doses\\_4 & doses\\_6 & vax\\_y\\_n\\_2\\\\\n",
       " <fct> & <dbl> & <dbl> & <dbl> & <chr>\\\\\n",
       "\\hline\n",
       "\t Not at all likely & NA & NA & NA & Was already vaccinated prior to joining the study\\\\\n",
       "\t 5                 & NA &  3 &  3 & Was already vaccinated prior to joining the study\\\\\n",
       "\t 3                 & NA & NA & NA & Was already vaccinated prior to joining the study\\\\\n",
       "\t Not at all likely & NA & NA &  2 & Was already vaccinated prior to joining the study\\\\\n",
       "\t Not at all likely & NA & NA & NA & Was already vaccinated prior to joining the study\\\\\n",
       "\t Extremely likely  & NA & NA &  2 & Was already vaccinated prior to joining the study\\\\\n",
       "\t Extremely likely  & NA & NA &  3 & Was already vaccinated prior to joining the study\\\\\n",
       "\t Not at all likely & NA &  3 &  3 & Was already vaccinated prior to joining the study\\\\\n",
       "\t 4                 & NA & NA & NA & Was already vaccinated prior to joining the study\\\\\n",
       "\t Extremely likely  & NA &  3 &  3 & Was already vaccinated prior to joining the study\\\\\n",
       "\t 6                 & NA & NA &  3 & Was already vaccinated prior to joining the study\\\\\n",
       "\t 2                 & NA & NA &  3 & Was already vaccinated prior to joining the study\\\\\n",
       "\t 3                 & NA & NA &  3 & Was already vaccinated prior to joining the study\\\\\n",
       "\t Extremely likely  & NA & NA & NA & Was already vaccinated prior to joining the study\\\\\n",
       "\t 5                 & NA &  3 & NA & Was already vaccinated prior to joining the study\\\\\n",
       "\t 3                 & NA & NA & NA & Was already vaccinated prior to joining the study\\\\\n",
       "\t Not at all likely & NA & NA & NA & Was already vaccinated prior to joining the study\\\\\n",
       "\t 5                 & NA &  3 &  2 & Was already vaccinated prior to joining the study\\\\\n",
       "\t 4                 & NA &  2 & NA & Was already vaccinated prior to joining the study\\\\\n",
       "\t Not at all likely & NA & NA & NA & Was already vaccinated prior to joining the study\\\\\n",
       "\\end{tabular}\n"
      ],
      "text/markdown": [
       "\n",
       "A tibble: 20 × 5\n",
       "\n",
       "| base_intention &lt;fct&gt; | doses_2 &lt;dbl&gt; | doses_4 &lt;dbl&gt; | doses_6 &lt;dbl&gt; | vax_y_n_2 &lt;chr&gt; |\n",
       "|---|---|---|---|---|\n",
       "| Not at all likely | NA | NA | NA | Was already vaccinated prior to joining the study |\n",
       "| 5                 | NA |  3 |  3 | Was already vaccinated prior to joining the study |\n",
       "| 3                 | NA | NA | NA | Was already vaccinated prior to joining the study |\n",
       "| Not at all likely | NA | NA |  2 | Was already vaccinated prior to joining the study |\n",
       "| Not at all likely | NA | NA | NA | Was already vaccinated prior to joining the study |\n",
       "| Extremely likely  | NA | NA |  2 | Was already vaccinated prior to joining the study |\n",
       "| Extremely likely  | NA | NA |  3 | Was already vaccinated prior to joining the study |\n",
       "| Not at all likely | NA |  3 |  3 | Was already vaccinated prior to joining the study |\n",
       "| 4                 | NA | NA | NA | Was already vaccinated prior to joining the study |\n",
       "| Extremely likely  | NA |  3 |  3 | Was already vaccinated prior to joining the study |\n",
       "| 6                 | NA | NA |  3 | Was already vaccinated prior to joining the study |\n",
       "| 2                 | NA | NA |  3 | Was already vaccinated prior to joining the study |\n",
       "| 3                 | NA | NA |  3 | Was already vaccinated prior to joining the study |\n",
       "| Extremely likely  | NA | NA | NA | Was already vaccinated prior to joining the study |\n",
       "| 5                 | NA |  3 | NA | Was already vaccinated prior to joining the study |\n",
       "| 3                 | NA | NA | NA | Was already vaccinated prior to joining the study |\n",
       "| Not at all likely | NA | NA | NA | Was already vaccinated prior to joining the study |\n",
       "| 5                 | NA |  3 |  2 | Was already vaccinated prior to joining the study |\n",
       "| 4                 | NA |  2 | NA | Was already vaccinated prior to joining the study |\n",
       "| Not at all likely | NA | NA | NA | Was already vaccinated prior to joining the study |\n",
       "\n"
      ],
      "text/plain": [
       "   base_intention    doses_2 doses_4 doses_6\n",
       "1  Not at all likely NA      NA      NA     \n",
       "2  5                 NA       3       3     \n",
       "3  3                 NA      NA      NA     \n",
       "4  Not at all likely NA      NA       2     \n",
       "5  Not at all likely NA      NA      NA     \n",
       "6  Extremely likely  NA      NA       2     \n",
       "7  Extremely likely  NA      NA       3     \n",
       "8  Not at all likely NA       3       3     \n",
       "9  4                 NA      NA      NA     \n",
       "10 Extremely likely  NA       3       3     \n",
       "11 6                 NA      NA       3     \n",
       "12 2                 NA      NA       3     \n",
       "13 3                 NA      NA       3     \n",
       "14 Extremely likely  NA      NA      NA     \n",
       "15 5                 NA       3      NA     \n",
       "16 3                 NA      NA      NA     \n",
       "17 Not at all likely NA      NA      NA     \n",
       "18 5                 NA       3       2     \n",
       "19 4                 NA       2      NA     \n",
       "20 Not at all likely NA      NA      NA     \n",
       "   vax_y_n_2                                        \n",
       "1  Was already vaccinated prior to joining the study\n",
       "2  Was already vaccinated prior to joining the study\n",
       "3  Was already vaccinated prior to joining the study\n",
       "4  Was already vaccinated prior to joining the study\n",
       "5  Was already vaccinated prior to joining the study\n",
       "6  Was already vaccinated prior to joining the study\n",
       "7  Was already vaccinated prior to joining the study\n",
       "8  Was already vaccinated prior to joining the study\n",
       "9  Was already vaccinated prior to joining the study\n",
       "10 Was already vaccinated prior to joining the study\n",
       "11 Was already vaccinated prior to joining the study\n",
       "12 Was already vaccinated prior to joining the study\n",
       "13 Was already vaccinated prior to joining the study\n",
       "14 Was already vaccinated prior to joining the study\n",
       "15 Was already vaccinated prior to joining the study\n",
       "16 Was already vaccinated prior to joining the study\n",
       "17 Was already vaccinated prior to joining the study\n",
       "18 Was already vaccinated prior to joining the study\n",
       "19 Was already vaccinated prior to joining the study\n",
       "20 Was already vaccinated prior to joining the study"
      ]
     },
     "metadata": {},
     "output_type": "display_data"
    },
    {
     "data": {
      "text/html": [
       "<table class=\"dataframe\">\n",
       "<caption>A tibble: 1 × 3</caption>\n",
       "<thead>\n",
       "\t<tr><th scope=col>base_intention</th><th scope=col>intention_6</th><th scope=col>addressed_concerns_text_6</th></tr>\n",
       "\t<tr><th scope=col>&lt;fct&gt;</th><th scope=col>&lt;fct&gt;</th><th scope=col>&lt;chr&gt;</th></tr>\n",
       "</thead>\n",
       "<tbody>\n",
       "\t<tr><td>Not at all likely</td><td>Not at all likely</td><td>I am fully vaccinated and boosted. I have no concerns about vaccines.</td></tr>\n",
       "</tbody>\n",
       "</table>\n"
      ],
      "text/latex": [
       "A tibble: 1 × 3\n",
       "\\begin{tabular}{lll}\n",
       " base\\_intention & intention\\_6 & addressed\\_concerns\\_text\\_6\\\\\n",
       " <fct> & <fct> & <chr>\\\\\n",
       "\\hline\n",
       "\t Not at all likely & Not at all likely & I am fully vaccinated and boosted. I have no concerns about vaccines.\\\\\n",
       "\\end{tabular}\n"
      ],
      "text/markdown": [
       "\n",
       "A tibble: 1 × 3\n",
       "\n",
       "| base_intention &lt;fct&gt; | intention_6 &lt;fct&gt; | addressed_concerns_text_6 &lt;chr&gt; |\n",
       "|---|---|---|\n",
       "| Not at all likely | Not at all likely | I am fully vaccinated and boosted. I have no concerns about vaccines. |\n",
       "\n"
      ],
      "text/plain": [
       "  base_intention    intention_6      \n",
       "1 Not at all likely Not at all likely\n",
       "  addressed_concerns_text_6                                            \n",
       "1 I am fully vaccinated and boosted. I have no concerns about vaccines."
      ]
     },
     "metadata": {},
     "output_type": "display_data"
    }
   ],
   "source": [
    "vaccinated_prior <- subset %>% filter(\n",
    "    (vaccinated_prior == TRUE & vax_y_n_2 == \"Was already vaccinated prior to joining the study\") |\n",
    "    participant_id == \"p_3\")\n",
    "subset <- subset[!(subset$participant_id %in% vaccinated_prior$participant_id), ]\n",
    "\n",
    "paste0(\"Dropped for explicitly stating they were vaccinated prior to the study: \", nrow(vaccinated_prior), \" (\", \n",
    "       round(nrow(vaccinated_prior)/nrow(vcf_data),3), \")\")\n",
    "paste0(\"Analysis Sample: \", nrow(subset))\n",
    "\n",
    "vaccinated_prior %>% filter(participant_id != \"p_3\") %>% \n",
    "    dplyr::select(base_intention, doses_2, doses_4, doses_6, vax_y_n_2)\n",
    "vaccinated_prior %>% filter(participant_id == \"p_3\") %>% \n",
    "    dplyr::select(base_intention, intention_6, addressed_concerns_text_6)"
   ]
  },
  {
   "cell_type": "markdown",
   "metadata": {},
   "source": [
    "### Remove people who gave inconsistent responses on vaccination questions"
   ]
  },
  {
   "cell_type": "code",
   "execution_count": 8,
   "metadata": {},
   "outputs": [
    {
     "data": {
      "text/html": [
       "'Dropped for infeasible dose counts: 7 (0.014)'"
      ],
      "text/latex": [
       "'Dropped for infeasible dose counts: 7 (0.014)'"
      ],
      "text/markdown": [
       "'Dropped for infeasible dose counts: 7 (0.014)'"
      ],
      "text/plain": [
       "[1] \"Dropped for infeasible dose counts: 7 (0.014)\""
      ]
     },
     "metadata": {},
     "output_type": "display_data"
    },
    {
     "data": {
      "text/html": [
       "'Analysis Sample: 397'"
      ],
      "text/latex": [
       "'Analysis Sample: 397'"
      ],
      "text/markdown": [
       "'Analysis Sample: 397'"
      ],
      "text/plain": [
       "[1] \"Analysis Sample: 397\""
      ]
     },
     "metadata": {},
     "output_type": "display_data"
    },
    {
     "data": {
      "text/html": [
       "<table class=\"dataframe\">\n",
       "<caption>A tibble: 7 × 9</caption>\n",
       "<thead>\n",
       "\t<tr><th scope=col>participant_id</th><th scope=col>group</th><th scope=col>doses_2</th><th scope=col>doses_4</th><th scope=col>doses_6</th><th scope=col>intention_2</th><th scope=col>intention_4</th><th scope=col>intention_6</th><th scope=col>vaccinated_prior</th></tr>\n",
       "\t<tr><th scope=col>&lt;chr&gt;</th><th scope=col>&lt;fct&gt;</th><th scope=col>&lt;dbl&gt;</th><th scope=col>&lt;dbl&gt;</th><th scope=col>&lt;dbl&gt;</th><th scope=col>&lt;fct&gt;</th><th scope=col>&lt;fct&gt;</th><th scope=col>&lt;fct&gt;</th><th scope=col>&lt;lgl&gt;</th></tr>\n",
       "</thead>\n",
       "<tbody>\n",
       "\t<tr><td>p_141</td><td>Control  </td><td>3</td><td> 3</td><td> 3</td><td>Vaccinated</td><td>Vaccinated</td><td>Vaccinated</td><td>TRUE</td></tr>\n",
       "\t<tr><td>p_194</td><td>Control  </td><td>3</td><td> 1</td><td> 3</td><td>Vaccinated</td><td>Vaccinated</td><td>Vaccinated</td><td>TRUE</td></tr>\n",
       "\t<tr><td>p_108</td><td>Control  </td><td>2</td><td> 2</td><td> 2</td><td>Vaccinated</td><td>Vaccinated</td><td>Vaccinated</td><td>TRUE</td></tr>\n",
       "\t<tr><td>p_285</td><td>Control  </td><td>2</td><td> 2</td><td> 2</td><td>Vaccinated</td><td>Vaccinated</td><td>Vaccinated</td><td>TRUE</td></tr>\n",
       "\t<tr><td>p_478</td><td>Treatment</td><td>2</td><td> 2</td><td> 2</td><td>Vaccinated</td><td>Vaccinated</td><td>Vaccinated</td><td>TRUE</td></tr>\n",
       "\t<tr><td>p_304</td><td>Treatment</td><td>2</td><td>NA</td><td>NA</td><td>Vaccinated</td><td>5         </td><td>6         </td><td>TRUE</td></tr>\n",
       "\t<tr><td>p_1  </td><td>Treatment</td><td>1</td><td> 3</td><td> 2</td><td>Vaccinated</td><td>Vaccinated</td><td>Vaccinated</td><td>TRUE</td></tr>\n",
       "</tbody>\n",
       "</table>\n"
      ],
      "text/latex": [
       "A tibble: 7 × 9\n",
       "\\begin{tabular}{lllllllll}\n",
       " participant\\_id & group & doses\\_2 & doses\\_4 & doses\\_6 & intention\\_2 & intention\\_4 & intention\\_6 & vaccinated\\_prior\\\\\n",
       " <chr> & <fct> & <dbl> & <dbl> & <dbl> & <fct> & <fct> & <fct> & <lgl>\\\\\n",
       "\\hline\n",
       "\t p\\_141 & Control   & 3 &  3 &  3 & Vaccinated & Vaccinated & Vaccinated & TRUE\\\\\n",
       "\t p\\_194 & Control   & 3 &  1 &  3 & Vaccinated & Vaccinated & Vaccinated & TRUE\\\\\n",
       "\t p\\_108 & Control   & 2 &  2 &  2 & Vaccinated & Vaccinated & Vaccinated & TRUE\\\\\n",
       "\t p\\_285 & Control   & 2 &  2 &  2 & Vaccinated & Vaccinated & Vaccinated & TRUE\\\\\n",
       "\t p\\_478 & Treatment & 2 &  2 &  2 & Vaccinated & Vaccinated & Vaccinated & TRUE\\\\\n",
       "\t p\\_304 & Treatment & 2 & NA & NA & Vaccinated & 5          & 6          & TRUE\\\\\n",
       "\t p\\_1   & Treatment & 1 &  3 &  2 & Vaccinated & Vaccinated & Vaccinated & TRUE\\\\\n",
       "\\end{tabular}\n"
      ],
      "text/markdown": [
       "\n",
       "A tibble: 7 × 9\n",
       "\n",
       "| participant_id &lt;chr&gt; | group &lt;fct&gt; | doses_2 &lt;dbl&gt; | doses_4 &lt;dbl&gt; | doses_6 &lt;dbl&gt; | intention_2 &lt;fct&gt; | intention_4 &lt;fct&gt; | intention_6 &lt;fct&gt; | vaccinated_prior &lt;lgl&gt; |\n",
       "|---|---|---|---|---|---|---|---|---|\n",
       "| p_141 | Control   | 3 |  3 |  3 | Vaccinated | Vaccinated | Vaccinated | TRUE |\n",
       "| p_194 | Control   | 3 |  1 |  3 | Vaccinated | Vaccinated | Vaccinated | TRUE |\n",
       "| p_108 | Control   | 2 |  2 |  2 | Vaccinated | Vaccinated | Vaccinated | TRUE |\n",
       "| p_285 | Control   | 2 |  2 |  2 | Vaccinated | Vaccinated | Vaccinated | TRUE |\n",
       "| p_478 | Treatment | 2 |  2 |  2 | Vaccinated | Vaccinated | Vaccinated | TRUE |\n",
       "| p_304 | Treatment | 2 | NA | NA | Vaccinated | 5          | 6          | TRUE |\n",
       "| p_1   | Treatment | 1 |  3 |  2 | Vaccinated | Vaccinated | Vaccinated | TRUE |\n",
       "\n"
      ],
      "text/plain": [
       "  participant_id group     doses_2 doses_4 doses_6 intention_2 intention_4\n",
       "1 p_141          Control   3        3       3      Vaccinated  Vaccinated \n",
       "2 p_194          Control   3        1       3      Vaccinated  Vaccinated \n",
       "3 p_108          Control   2        2       2      Vaccinated  Vaccinated \n",
       "4 p_285          Control   2        2       2      Vaccinated  Vaccinated \n",
       "5 p_478          Treatment 2        2       2      Vaccinated  Vaccinated \n",
       "6 p_304          Treatment 2       NA      NA      Vaccinated  5          \n",
       "7 p_1            Treatment 1        3       2      Vaccinated  Vaccinated \n",
       "  intention_6 vaccinated_prior\n",
       "1 Vaccinated  TRUE            \n",
       "2 Vaccinated  TRUE            \n",
       "3 Vaccinated  TRUE            \n",
       "4 Vaccinated  TRUE            \n",
       "5 Vaccinated  TRUE            \n",
       "6 6           TRUE            \n",
       "7 Vaccinated  TRUE            "
      ]
     },
     "metadata": {},
     "output_type": "display_data"
    }
   ],
   "source": [
    "infeasible <- subset %>% filter(vaccinated_prior == TRUE, !is.na(intention_6)) %>% \n",
    "    filter(doses_2 >= 2 | doses_4 >= 2 | doses_6 >= 2) %>%\n",
    "    dplyr::select(participant_id, group, doses_2, doses_4, doses_6, \n",
    "                  intention_2, intention_4, intention_6, vaccinated_prior) %>%\n",
    "    arrange(desc(doses_2), desc(doses_4), desc(doses_6)) \n",
    "\n",
    "subset <- subset %>% filter(!(participant_id %in% infeasible$participant_id))\n",
    "paste0(\"Dropped for infeasible dose counts: \", nrow(infeasible), \" (\", \n",
    "       round(nrow(infeasible)/nrow(vcf_data),3), \")\")\n",
    "paste0(\"Analysis Sample: \", nrow(subset))\n",
    "infeasible"
   ]
  },
  {
   "cell_type": "code",
   "execution_count": 9,
   "metadata": {},
   "outputs": [],
   "source": [
    "vcf_data <- subset\n",
    "save(vcf_data, file = \"~/Documents/holding_gwu_dissertation/data/study3_1_data.RData\")"
   ]
  },
  {
   "cell_type": "markdown",
   "metadata": {},
   "source": [
    "### Remove people who didn't answer all trust questions"
   ]
  },
  {
   "cell_type": "code",
   "execution_count": 10,
   "metadata": {},
   "outputs": [
    {
     "data": {
      "text/html": [
       "'Dropped for incompleteness: 26 (0.065)'"
      ],
      "text/latex": [
       "'Dropped for incompleteness: 26 (0.065)'"
      ],
      "text/markdown": [
       "'Dropped for incompleteness: 26 (0.065)'"
      ],
      "text/plain": [
       "[1] \"Dropped for incompleteness: 26 (0.065)\""
      ]
     },
     "metadata": {},
     "output_type": "display_data"
    },
    {
     "data": {
      "text/html": [
       "'Analysis Sample: 371'"
      ],
      "text/latex": [
       "'Analysis Sample: 371'"
      ],
      "text/markdown": [
       "'Analysis Sample: 371'"
      ],
      "text/plain": [
       "[1] \"Analysis Sample: 371\""
      ]
     },
     "metadata": {},
     "output_type": "display_data"
    }
   ],
   "source": [
    "complete_case_sample <- subset[, c(\"fed_gov_trust\", \"local_gov_trust\",\n",
    "                                   \"cdc_trust\", \"fda_trust\", \"participant_id\")]\n",
    "complete_cases <- complete_case_sample[complete.cases(complete_case_sample),]\n",
    "incomplete <- subset[!(subset$participant_id %in% complete_cases$participant_id), ]\n",
    "\n",
    "subset <- subset %>% filter(!is.na(sp_confidence_6), attention2_6 == \"Somewhat Agree\",\n",
    "                              participant_id %in% complete_cases$participant_id)\n",
    "paste0(\"Dropped for incompleteness: \", nrow(incomplete), \" (\", \n",
    "       round(nrow(incomplete)/nrow(vcf_data),3), \")\")\n",
    "paste0(\"Analysis Sample: \", nrow(subset))"
   ]
  },
  {
   "cell_type": "markdown",
   "metadata": {},
   "source": [
    "## Check for Differential Attrition"
   ]
  },
  {
   "cell_type": "code",
   "execution_count": 11,
   "metadata": {},
   "outputs": [
    {
     "data": {
      "text/html": [
       "<table class=\"dataframe\">\n",
       "<caption>A tibble: 2 × 4</caption>\n",
       "<thead>\n",
       "\t<tr><th scope=col>group</th><th scope=col>n</th><th scope=col>drop_cnt</th><th scope=col>drop_perc</th></tr>\n",
       "\t<tr><th scope=col>&lt;fct&gt;</th><th scope=col>&lt;int&gt;</th><th scope=col>&lt;int&gt;</th><th scope=col>&lt;dbl&gt;</th></tr>\n",
       "</thead>\n",
       "<tbody>\n",
       "\t<tr><td>Treatment</td><td>220</td><td>14</td><td>0.064</td></tr>\n",
       "\t<tr><td>Control  </td><td>177</td><td>12</td><td>0.068</td></tr>\n",
       "</tbody>\n",
       "</table>\n"
      ],
      "text/latex": [
       "A tibble: 2 × 4\n",
       "\\begin{tabular}{llll}\n",
       " group & n & drop\\_cnt & drop\\_perc\\\\\n",
       " <fct> & <int> & <int> & <dbl>\\\\\n",
       "\\hline\n",
       "\t Treatment & 220 & 14 & 0.064\\\\\n",
       "\t Control   & 177 & 12 & 0.068\\\\\n",
       "\\end{tabular}\n"
      ],
      "text/markdown": [
       "\n",
       "A tibble: 2 × 4\n",
       "\n",
       "| group &lt;fct&gt; | n &lt;int&gt; | drop_cnt &lt;int&gt; | drop_perc &lt;dbl&gt; |\n",
       "|---|---|---|---|\n",
       "| Treatment | 220 | 14 | 0.064 |\n",
       "| Control   | 177 | 12 | 0.068 |\n",
       "\n"
      ],
      "text/plain": [
       "  group     n   drop_cnt drop_perc\n",
       "1 Treatment 220 14       0.064    \n",
       "2 Control   177 12       0.068    "
      ]
     },
     "metadata": {},
     "output_type": "display_data"
    },
    {
     "data": {
      "text/plain": [
       "\n",
       "\t2-sample test for equality of proportions with continuity correction\n",
       "\n",
       "data:  c(tbl$drop_cnt[tbl$group == \"Treatment\"], tbl$drop_cnt[tbl$group == \"Control\"]) out of c(tbl$n[tbl$group == \"Treatment\"], tbl$n[tbl$group == \"Control\"])\n",
       "X-squared = 3.6129e-30, df = 1, p-value = 1\n",
       "alternative hypothesis: two.sided\n",
       "95 percent confidence interval:\n",
       " -0.05743363  0.04911313\n",
       "sample estimates:\n",
       "    prop 1     prop 2 \n",
       "0.06363636 0.06779661 \n"
      ]
     },
     "metadata": {},
     "output_type": "display_data"
    }
   ],
   "source": [
    "vcf_data$drop <- TRUE\n",
    "vcf_data$drop[vcf_data$mturk_code %in% subset$mturk_code] <- FALSE\n",
    "\n",
    "tbl <- vcf_data %>% group_by(group) %>% summarise(n = n(),\n",
    "                  drop_cnt = sum(drop == TRUE),\n",
    "                  drop_perc = (sum(drop == TRUE)/n) %>% round(3)) \n",
    "\n",
    "tbl\n",
    "prop.test(x = c(tbl$drop_cnt[tbl$group == \"Treatment\"], tbl$drop_cnt[tbl$group == \"Control\"]), \n",
    "          n = c(tbl$n[tbl$group == \"Treatment\"], tbl$n[tbl$group == \"Control\"]))"
   ]
  },
  {
   "cell_type": "code",
   "execution_count": 12,
   "metadata": {},
   "outputs": [
    {
     "data": {
      "text/html": [
       "371"
      ],
      "text/latex": [
       "371"
      ],
      "text/markdown": [
       "371"
      ],
      "text/plain": [
       "[1] 371"
      ]
     },
     "metadata": {},
     "output_type": "display_data"
    },
    {
     "data": {
      "text/html": [
       "0.731755424063116"
      ],
      "text/latex": [
       "0.731755424063116"
      ],
      "text/markdown": [
       "0.731755424063116"
      ],
      "text/plain": [
       "[1] 0.7317554"
      ]
     },
     "metadata": {},
     "output_type": "display_data"
    },
    {
     "data": {
      "text/html": [
       "<table class=\"dataframe\">\n",
       "<caption>A grouped_df: 2 × 2</caption>\n",
       "<thead>\n",
       "\t<tr><th scope=col>group</th><th scope=col>n</th></tr>\n",
       "\t<tr><th scope=col>&lt;fct&gt;</th><th scope=col>&lt;int&gt;</th></tr>\n",
       "</thead>\n",
       "<tbody>\n",
       "\t<tr><td>Treatment</td><td>206</td></tr>\n",
       "\t<tr><td>Control  </td><td>165</td></tr>\n",
       "</tbody>\n",
       "</table>\n"
      ],
      "text/latex": [
       "A grouped\\_df: 2 × 2\n",
       "\\begin{tabular}{ll}\n",
       " group & n\\\\\n",
       " <fct> & <int>\\\\\n",
       "\\hline\n",
       "\t Treatment & 206\\\\\n",
       "\t Control   & 165\\\\\n",
       "\\end{tabular}\n"
      ],
      "text/markdown": [
       "\n",
       "A grouped_df: 2 × 2\n",
       "\n",
       "| group &lt;fct&gt; | n &lt;int&gt; |\n",
       "|---|---|\n",
       "| Treatment | 206 |\n",
       "| Control   | 165 |\n",
       "\n"
      ],
      "text/plain": [
       "  group     n  \n",
       "1 Treatment 206\n",
       "2 Control   165"
      ]
     },
     "metadata": {},
     "output_type": "display_data"
    }
   ],
   "source": [
    "vcf_data <- subset\n",
    "nrow(vcf_data)\n",
    "nrow(vcf_data)/507\n",
    "vcf_data %>% group_by(group) %>% count()"
   ]
  },
  {
   "cell_type": "code",
   "execution_count": 13,
   "metadata": {},
   "outputs": [],
   "source": [
    "save(vcf_data, file = \"~/Documents/holding_gwu_dissertation/data/study3_2_data.RData\")"
   ]
  }
 ],
 "metadata": {
  "kernelspec": {
   "display_name": "R",
   "language": "R",
   "name": "ir"
  },
  "language_info": {
   "codemirror_mode": "r",
   "file_extension": ".r",
   "mimetype": "text/x-r-source",
   "name": "R",
   "pygments_lexer": "r",
   "version": "4.2.0"
  },
  "toc": {
   "base_numbering": 1,
   "nav_menu": {},
   "number_sections": true,
   "sideBar": true,
   "skip_h1_title": false,
   "title_cell": "Table of Contents",
   "title_sidebar": "Contents",
   "toc_cell": false,
   "toc_position": {},
   "toc_section_display": true,
   "toc_window_display": false
  }
 },
 "nbformat": 4,
 "nbformat_minor": 4
}
