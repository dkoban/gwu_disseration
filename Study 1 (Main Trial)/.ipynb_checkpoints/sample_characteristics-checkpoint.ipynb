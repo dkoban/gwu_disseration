{
 "cells": [
  {
   "cell_type": "markdown",
   "metadata": {},
   "source": [
    "### Load the data"
   ]
  },
  {
   "cell_type": "code",
   "execution_count": 1,
   "metadata": {},
   "outputs": [],
   "source": [
    "# Load the libraries\n",
    "suppressWarnings(suppressMessages(library(tidyverse)))\n",
    "library(tableone)\n",
    "\n",
    "# Load the data\n",
    "load(\"~/Documents/vcf/data/vcf_data.RData\")"
   ]
  },
  {
   "cell_type": "code",
   "execution_count": null,
   "metadata": {},
   "outputs": [],
   "source": [
    "age, gender, race, education, \n",
    "marital_status, employment, income, \n",
    "political_affiliation, political_view,\n",
    "state, tested_positive"
   ]
  },
  {
   "cell_type": "code",
   "execution_count": 2,
   "metadata": {},
   "outputs": [],
   "source": [
    "vcf_data <- vcf_data %>% filter(vaccinated_prior == FALSE)\n",
    "\n",
    "vcf_data$age_cat <- NA\n",
    "vcf_data$age_cat[vcf_data$age < 30] <- \"less than 30\"\n",
    "vcf_data$age_cat[(vcf_data$age >= 30 & vcf_data$age <= 49)] <- \"30-49\"\n",
    "vcf_data$age_cat[vcf_data$age >= 50] <- \"greater than 50\"\n",
    "\n",
    "# Gender\n",
    "vcf_data$gender[vcf_data$gender != \"Female\"] <- \"Not Female\"\n",
    "vcf_data$gender <- factor(vcf_data$gender,\n",
    "                          levels = c(\"Not Female\", \"Female\"))\n",
    "\n",
    "# Race\n",
    "vcf_data$race[vcf_data$race == \"American Indian/Alaska Native\"] <- \"Other/Unknown\"\n",
    "vcf_data$race[vcf_data$race == \"Native Hawaiian/Pacific Islander\"] <- \"Other/Unknown\"\n",
    "vcf_data$race[vcf_data$race == \"Other (please describe):\"] <- \"Other/Unknown\"\n",
    "vcf_data$race[vcf_data$race == \"Prefer not to answer\"] <- \"Other/Unknown\"\n",
    "\n",
    "# Education\n",
    "vcf_data$education2 <- vcf_data$education\n",
    "vcf_data$education2[vcf_data$education2 == \"High school graduate\"] <- \"High school or less\"\n",
    "vcf_data$education2[vcf_data$education2 == \"Less than high school (for example, middle or elementary school)\"] <- \"High school or less\"\n",
    "vcf_data$education2[vcf_data$education2 == \"Some high school\"] <- \"High school or less\"\n",
    "vcf_data$education2[vcf_data$education2 == \"GED\"] <- \"High school or less\"\n",
    "vcf_data$education2[vcf_data$education2 == \"Some college - no degree\"] <- \"Associate's degree/some college\"\n",
    "vcf_data$education2[vcf_data$education2 == \"Associate's or technical degree (for example, AA\"] <- \"Associate's degree/some college\"\n",
    "vcf_data$education2[vcf_data$education2 == \"Graduate degree (for example, MA or PhD)\"] <- \"Bachelor's/graduate degree\"\n",
    "vcf_data$education2[vcf_data$education2 == \"Bachelor's degree (for example, BA, BS, or AB)\"] <- \"Bachelor's/graduate degree\"\n",
    "\n",
    "# Marital Status\n",
    "vcf_data$marital_status[vcf_data$marital_status != \"Married\"] <- \"Unmarried\"\n",
    "vcf_data$marital_status <- factor(vcf_data$marital_status,\n",
    "                          levels = c(\"Unmarried\", \"Married\"))\n",
    "# Employment\n",
    "vcf_data$employment2 <- vcf_data$employment \n",
    "vcf_data$employment2[vcf_data$employment2 == \"Working full time (40 hours a week or more)\"] <- \"Working\"\n",
    "vcf_data$employment2[vcf_data$employment2 == \"Working part time (less than 40 hours a week)\"] <- \"Working\"\n",
    "vcf_data$employment2[vcf_data$employment2 != \"Working\"] <- \"Unemployed/other/prefer not to answer/retired\"\n",
    "\n",
    "# Income\n",
    "vcf_data$income2 <- vcf_data$income\n",
    "vcf_data$income2[vcf_data$income2 %in% c(\"Less than $15,000\",\n",
    "                                         \"$15,000 - $19,999\"\n",
    "                                         )] <- \"less than $20,000\"\n",
    "vcf_data$income2[vcf_data$income2 %in% c(\"$20,000 - $24,999\",\n",
    "                                         \"$25,000 - $34,999\",\n",
    "                                         \"$35,000 - $49,999\")] <- \"$20,000 - $49,999\"\n",
    "vcf_data$income2[vcf_data$income2 %in% c(\"$50,000 - $74,999\",\n",
    "                                         \"$75,000 - $99,999\",\n",
    "                                         \"$100,000 and above\")] <- \"$50,000 and above\"\n",
    "\n",
    "# Political Affiliation\n",
    "vcf_data$political_affiliation[vcf_data$political_affiliation %in% c(\"Other (please describe):\",\n",
    "                                                                       \"Prefer not to answer\")] <- \"Other\"\n",
    "\n",
    "# Political Views\n",
    "vcf_data$political_view[vcf_data$political_view %in% c(\"Slightly conservative\",\n",
    "                                                         \"Very conservative\")] <- \"Conservative\"\n",
    "vcf_data$political_view[vcf_data$political_view %in% c(\"Slightly liberal\",\n",
    "                                                         \"Very liberal\")] <- \"Liberal\"\n",
    "\n",
    "# State\n",
    "vcf_data$state[!(vcf_data$state %in% c(\"Florida (FL)\", \n",
    "                                       \"Texas (TX)\", \n",
    "                                       \"Pennsylvania (PA)\",\n",
    "                                       \"California (CA)\"))] <- \"Other\"\n",
    "\n",
    "# Tested Positive\n",
    "vcf_data$tested_positive[vcf_data$tested_positive != \"Yes\"] <- \"No\"\n",
    "\n",
    "# Relabel the group variable\n",
    "vcf_data$group <- vcf_data$group %>% as.character()\n",
    "vcf_data$group[vcf_data$group == \"Gist\"] <- \"Treatment\"\n",
    "vcf_data$group <- factor(vcf_data$group, levels = c(\"Treatment\", \"Control\"))\n"
   ]
  },
  {
   "cell_type": "markdown",
   "metadata": {},
   "source": [
    "### Summary Stats"
   ]
  },
  {
   "cell_type": "code",
   "execution_count": 3,
   "metadata": {},
   "outputs": [
    {
     "data": {
      "text/html": [
       "<table class=\"dataframe\">\n",
       "<caption>A grouped_df: 2 × 2</caption>\n",
       "<thead>\n",
       "\t<tr><th scope=col>group</th><th scope=col>n</th></tr>\n",
       "\t<tr><th scope=col>&lt;fct&gt;</th><th scope=col>&lt;int&gt;</th></tr>\n",
       "</thead>\n",
       "<tbody>\n",
       "\t<tr><td>Treatment</td><td>263</td></tr>\n",
       "\t<tr><td>Control  </td><td>215</td></tr>\n",
       "</tbody>\n",
       "</table>\n"
      ],
      "text/latex": [
       "A grouped\\_df: 2 × 2\n",
       "\\begin{tabular}{ll}\n",
       " group & n\\\\\n",
       " <fct> & <int>\\\\\n",
       "\\hline\n",
       "\t Treatment & 263\\\\\n",
       "\t Control   & 215\\\\\n",
       "\\end{tabular}\n"
      ],
      "text/markdown": [
       "\n",
       "A grouped_df: 2 × 2\n",
       "\n",
       "| group &lt;fct&gt; | n &lt;int&gt; |\n",
       "|---|---|\n",
       "| Treatment | 263 |\n",
       "| Control   | 215 |\n",
       "\n"
      ],
      "text/plain": [
       "  group     n  \n",
       "1 Treatment 263\n",
       "2 Control   215"
      ]
     },
     "metadata": {},
     "output_type": "display_data"
    }
   ],
   "source": [
    "vcf_data %>% group_by(group) %>% count()"
   ]
  },
  {
   "cell_type": "code",
   "execution_count": 4,
   "metadata": {},
   "outputs": [
    {
     "data": {
      "text/html": [
       "<table class=\"dataframe\">\n",
       "<caption>A tibble: 1 × 2</caption>\n",
       "<thead>\n",
       "\t<tr><th scope=col>mean_age</th><th scope=col>sd_age</th></tr>\n",
       "\t<tr><th scope=col>&lt;dbl&gt;</th><th scope=col>&lt;dbl&gt;</th></tr>\n",
       "</thead>\n",
       "<tbody>\n",
       "\t<tr><td>36.87238</td><td>9.713421</td></tr>\n",
       "</tbody>\n",
       "</table>\n"
      ],
      "text/latex": [
       "A tibble: 1 × 2\n",
       "\\begin{tabular}{ll}\n",
       " mean\\_age & sd\\_age\\\\\n",
       " <dbl> & <dbl>\\\\\n",
       "\\hline\n",
       "\t 36.87238 & 9.713421\\\\\n",
       "\\end{tabular}\n"
      ],
      "text/markdown": [
       "\n",
       "A tibble: 1 × 2\n",
       "\n",
       "| mean_age &lt;dbl&gt; | sd_age &lt;dbl&gt; |\n",
       "|---|---|\n",
       "| 36.87238 | 9.713421 |\n",
       "\n"
      ],
      "text/plain": [
       "  mean_age sd_age  \n",
       "1 36.87238 9.713421"
      ]
     },
     "metadata": {},
     "output_type": "display_data"
    }
   ],
   "source": [
    "vcf_data %>% summarize(mean_age = mean(age),\n",
    "                       sd_age = sd(age))"
   ]
  },
  {
   "cell_type": "markdown",
   "metadata": {},
   "source": [
    "### \"Table 1\" Stats to Test for Differences in Groups"
   ]
  },
  {
   "cell_type": "code",
   "execution_count": 5,
   "metadata": {},
   "outputs": [
    {
     "data": {
      "text/plain": [
       "                                     Stratified by group\n",
       "                                      Treatment   Control      p      test\n",
       "  n                                   263         215                     \n",
       "  age_cat (%)                                                   0.320     \n",
       "     30-49                            173 (65.8)  152 ( 70.7)             \n",
       "     greater than 50                   26 ( 9.9)   23 ( 10.7)             \n",
       "     less than 30                      64 (24.3)   40 ( 18.6)             \n",
       "  gender = Female (%)                 192 (73.0)  163 ( 75.8)   0.553     \n",
       "  race (%)                                                      0.312     \n",
       "     Asian                              6 ( 2.3)    3 (  1.4)             \n",
       "     Black or African American         36 (13.7)   29 ( 13.5)             \n",
       "     Other/Unknown                     16 ( 6.1)    6 (  2.8)             \n",
       "     White                            205 (77.9)  177 ( 82.3)             \n",
       "  education2 (%)                                                0.264     \n",
       "     Associate's degree/some college  120 (45.6)  114 ( 53.0)             \n",
       "     Bachelor's/graduate degree        81 (30.8)   59 ( 27.4)             \n",
       "     High school or less               62 (23.6)   42 ( 19.5)             \n",
       "  marital_status = Married (%)        110 (41.8)   88 ( 40.9)   0.917     \n",
       "  employment2 = Working (%)           187 (71.1)  154 ( 71.6)   0.980     \n",
       "  income2 (%)                                                   0.070     \n",
       "     $20,000 - $49,999                111 (42.2)   82 ( 38.1)             \n",
       "     $50,000 and above                109 (41.4)   89 ( 41.4)             \n",
       "     less than $20,000                 38 (14.4)   44 ( 20.5)             \n",
       "     Prefer not to answer               5 ( 1.9)    0 (  0.0)             \n",
       "  political_affiliation (%)                                     0.554     \n",
       "     Democrat                          51 (19.4)   51 ( 23.7)             \n",
       "     Independent                      101 (38.4)   71 ( 33.0)             \n",
       "     Other                             13 ( 4.9)   12 (  5.6)             \n",
       "     Republican                        98 (37.3)   81 ( 37.7)             \n",
       "  political_view (%)                                            0.851     \n",
       "     Conservative                     112 (42.6)   96 ( 44.7)             \n",
       "     Liberal                           53 (20.2)   47 ( 21.9)             \n",
       "     Moderate                          89 (33.8)   66 ( 30.7)             \n",
       "     Prefer not to answer               9 ( 3.4)    6 (  2.8)             \n",
       "  state (%)                                                     0.628     \n",
       "     California (CA)                   18 ( 6.8)   11 (  5.1)             \n",
       "     Florida (FL)                      25 ( 9.5)   25 ( 11.6)             \n",
       "     Other                            180 (68.4)  149 ( 69.3)             \n",
       "     Pennsylvania (PA)                 17 ( 6.5)   17 (  7.9)             \n",
       "     Texas (TX)                        23 ( 8.7)   13 (  6.0)             \n",
       "  tested_positive = Yes (%)            74 (28.2)   63 ( 29.4)   0.853     \n",
       "  know_someone_diagnosed = Yes (%)    231 (87.8)  198 ( 92.1)   0.169     \n",
       "  know_someone_hospitalized = Yes (%) 140 (53.2)   89 ( 41.4)   0.013     \n",
       "  know_someone_died = Yes (%)          96 (36.5)   68 ( 31.6)   0.308     \n",
       "  group = Control (%)                   0 ( 0.0)  215 (100.0)  <0.001     "
      ]
     },
     "metadata": {},
     "output_type": "display_data"
    }
   ],
   "source": [
    "temp <- vcf_data %>% select(age_cat, gender, race, education2, \n",
    "                            marital_status, employment2, income2, \n",
    "                            political_affiliation, political_view, \n",
    "                            state, tested_positive, know_someone_diagnosed, \n",
    "                            know_someone_hospitalized, know_someone_died,\n",
    "                            group)\n",
    "\n",
    "CreateTableOne(strat = c(\"group\"), data = temp)"
   ]
  },
  {
   "cell_type": "code",
   "execution_count": 6,
   "metadata": {},
   "outputs": [
    {
     "data": {
      "text/plain": [
       "                                     \n",
       "                                      Overall    \n",
       "  n                                   478        \n",
       "  age_cat (%)                                    \n",
       "     30-49                            325 (68.0) \n",
       "     greater than 50                   49 (10.3) \n",
       "     less than 30                     104 (21.8) \n",
       "  gender = Female (%)                 355 (74.3) \n",
       "  race (%)                                       \n",
       "     Asian                              9 ( 1.9) \n",
       "     Black or African American         65 (13.6) \n",
       "     Other/Unknown                     22 ( 4.6) \n",
       "     White                            382 (79.9) \n",
       "  education2 (%)                                 \n",
       "     Associate's degree/some college  234 (49.0) \n",
       "     Bachelor's/graduate degree       140 (29.3) \n",
       "     High school or less              104 (21.8) \n",
       "  marital_status = Married (%)        198 (41.4) \n",
       "  employment2 = Working (%)           341 (71.3) \n",
       "  income2 (%)                                    \n",
       "     $20,000 - $49,999                193 (40.4) \n",
       "     $50,000 and above                198 (41.4) \n",
       "     less than $20,000                 82 (17.2) \n",
       "     Prefer not to answer               5 ( 1.0) \n",
       "  political_affiliation (%)                      \n",
       "     Democrat                         102 (21.3) \n",
       "     Independent                      172 (36.0) \n",
       "     Other                             25 ( 5.2) \n",
       "     Republican                       179 (37.4) \n",
       "  political_view (%)                             \n",
       "     Conservative                     208 (43.5) \n",
       "     Liberal                          100 (20.9) \n",
       "     Moderate                         155 (32.4) \n",
       "     Prefer not to answer              15 ( 3.1) \n",
       "  state (%)                                      \n",
       "     California (CA)                   29 ( 6.1) \n",
       "     Florida (FL)                      50 (10.5) \n",
       "     Other                            329 (68.8) \n",
       "     Pennsylvania (PA)                 34 ( 7.1) \n",
       "     Texas (TX)                        36 ( 7.5) \n",
       "  tested_positive = Yes (%)           137 (28.8) \n",
       "  know_someone_diagnosed = Yes (%)    429 (89.7) \n",
       "  know_someone_hospitalized = Yes (%) 229 (47.9) \n",
       "  know_someone_died = Yes (%)         164 (34.3) \n",
       "  group = Control (%)                 215 (45.0) "
      ]
     },
     "metadata": {},
     "output_type": "display_data"
    }
   ],
   "source": [
    "CreateTableOne(data = temp)"
   ]
  },
  {
   "cell_type": "markdown",
   "metadata": {},
   "source": [
    "### Summary of Reasons not to Vaccinate"
   ]
  },
  {
   "cell_type": "code",
   "execution_count": 7,
   "metadata": {},
   "outputs": [
    {
     "data": {
      "text/html": [
       "<table class=\"dataframe\">\n",
       "<caption>A tibble: 6 × 5</caption>\n",
       "<thead>\n",
       "\t<tr><th scope=col>Reasons not to vaccinate</th><th scope=col>Total (1727)</th><th scope=col>Treatment (958)</th><th scope=col>Control (769)</th><th scope=col>Difference</th></tr>\n",
       "\t<tr><th scope=col>&lt;chr&gt;</th><th scope=col>&lt;chr&gt;</th><th scope=col>&lt;chr&gt;</th><th scope=col>&lt;chr&gt;</th><th scope=col>&lt;dbl&gt;</th></tr>\n",
       "</thead>\n",
       "<tbody>\n",
       "\t<tr><td>Other                                                   </td><td>358 (0.749) </td><td>199 (0.7567)</td><td>159 (0.7395)</td><td>0.01712</td></tr>\n",
       "\t<tr><td>I am not sure the vaccine is safe                       </td><td>353 (0.7385)</td><td>200 (0.7605)</td><td>153 (0.7116)</td><td>0.04883</td></tr>\n",
       "\t<tr><td>I am not sure the vaccine is effective                  </td><td>323 (0.6757)</td><td>184 (0.6996)</td><td>139 (0.6465)</td><td>0.05311</td></tr>\n",
       "\t<tr><td>I don't trust the government or pharmaceutical companies</td><td>264 (0.5523)</td><td>146 (0.5551)</td><td>118 (0.5488)</td><td>0.00630</td></tr>\n",
       "\t<tr><td>I am exercising my right to choose                      </td><td>237 (0.4958)</td><td>127 (0.4829)</td><td>110 (0.5116)</td><td>0.02874</td></tr>\n",
       "\t<tr><td>I don't want to put something foreign into my body      </td><td>192 (0.4017)</td><td>102 (0.3878)</td><td>90 (0.4186) </td><td>0.03077</td></tr>\n",
       "</tbody>\n",
       "</table>\n"
      ],
      "text/latex": [
       "A tibble: 6 × 5\n",
       "\\begin{tabular}{lllll}\n",
       " Reasons not to vaccinate & Total (1727) & Treatment (958) & Control (769) & Difference\\\\\n",
       " <chr> & <chr> & <chr> & <chr> & <dbl>\\\\\n",
       "\\hline\n",
       "\t Other                                                    & 358 (0.749)  & 199 (0.7567) & 159 (0.7395) & 0.01712\\\\\n",
       "\t I am not sure the vaccine is safe                        & 353 (0.7385) & 200 (0.7605) & 153 (0.7116) & 0.04883\\\\\n",
       "\t I am not sure the vaccine is effective                   & 323 (0.6757) & 184 (0.6996) & 139 (0.6465) & 0.05311\\\\\n",
       "\t I don't trust the government or pharmaceutical companies & 264 (0.5523) & 146 (0.5551) & 118 (0.5488) & 0.00630\\\\\n",
       "\t I am exercising my right to choose                       & 237 (0.4958) & 127 (0.4829) & 110 (0.5116) & 0.02874\\\\\n",
       "\t I don't want to put something foreign into my body       & 192 (0.4017) & 102 (0.3878) & 90 (0.4186)  & 0.03077\\\\\n",
       "\\end{tabular}\n"
      ],
      "text/markdown": [
       "\n",
       "A tibble: 6 × 5\n",
       "\n",
       "| Reasons not to vaccinate &lt;chr&gt; | Total (1727) &lt;chr&gt; | Treatment (958) &lt;chr&gt; | Control (769) &lt;chr&gt; | Difference &lt;dbl&gt; |\n",
       "|---|---|---|---|---|\n",
       "| Other                                                    | 358 (0.749)  | 199 (0.7567) | 159 (0.7395) | 0.01712 |\n",
       "| I am not sure the vaccine is safe                        | 353 (0.7385) | 200 (0.7605) | 153 (0.7116) | 0.04883 |\n",
       "| I am not sure the vaccine is effective                   | 323 (0.6757) | 184 (0.6996) | 139 (0.6465) | 0.05311 |\n",
       "| I don't trust the government or pharmaceutical companies | 264 (0.5523) | 146 (0.5551) | 118 (0.5488) | 0.00630 |\n",
       "| I am exercising my right to choose                       | 237 (0.4958) | 127 (0.4829) | 110 (0.5116) | 0.02874 |\n",
       "| I don't want to put something foreign into my body       | 192 (0.4017) | 102 (0.3878) | 90 (0.4186)  | 0.03077 |\n",
       "\n"
      ],
      "text/plain": [
       "  Reasons not to vaccinate                                 Total (1727)\n",
       "1 Other                                                    358 (0.749) \n",
       "2 I am not sure the vaccine is safe                        353 (0.7385)\n",
       "3 I am not sure the vaccine is effective                   323 (0.6757)\n",
       "4 I don't trust the government or pharmaceutical companies 264 (0.5523)\n",
       "5 I am exercising my right to choose                       237 (0.4958)\n",
       "6 I don't want to put something foreign into my body       192 (0.4017)\n",
       "  Treatment (958) Control (769) Difference\n",
       "1 199 (0.7567)    159 (0.7395)  0.01712   \n",
       "2 200 (0.7605)    153 (0.7116)  0.04883   \n",
       "3 184 (0.6996)    139 (0.6465)  0.05311   \n",
       "4 146 (0.5551)    118 (0.5488)  0.00630   \n",
       "5 127 (0.4829)    110 (0.5116)  0.02874   \n",
       "6 102 (0.3878)    90 (0.4186)   0.03077   "
      ]
     },
     "metadata": {},
     "output_type": "display_data"
    }
   ],
   "source": [
    "reason_df <- list()\n",
    "for (i in 1:nrow(vcf_data)){\n",
    "    reason_df[[i]] <- tibble(mturk_code = vcf_data$mturk_code[i],\n",
    "                             group = vcf_data$group[i],\n",
    "                             reasons = vcf_data$reasons_for_not_vax[i]%>% \n",
    "                                       str_split(\"[.],\") %>% .[[1]] %>% str_trim() %>% \n",
    "                                       str_replace(\"[.]\", \"\") %>% unlist())    \n",
    "}\n",
    "reason_df <- bind_rows(reason_df)\n",
    "\n",
    "total <- reason_df %>% group_by(reasons) %>%\n",
    "    summarise(tot_n = n(),\n",
    "            tot_perc = tot_n/nrow(vcf_data),\n",
    "            tot_n_perc = paste0(tot_n, \" (\", round(tot_perc, 4), \")\")) \n",
    "\n",
    "trt <- reason_df %>% filter(group == \"Treatment\") %>% group_by(reasons) %>%\n",
    "    summarise(trt_n = n(),\n",
    "            trt_perc = trt_n/nrow(vcf_data[vcf_data$group == \"Treatment\",]),\n",
    "            trt_n_perc = paste0(trt_n, \" (\", round(trt_perc, 4), \")\")) \n",
    "\n",
    "ctrl <- reason_df %>% filter(group == \"Control\") %>% group_by(reasons) %>%\n",
    "    summarise(ctrl_n = n(),\n",
    "            ctrl_perc = ctrl_n/nrow(vcf_data[vcf_data$group == \"Control\",]),\n",
    "            ctrl_n_perc = paste0(ctrl_n, \" (\", round(ctrl_perc, 4), \")\")) \n",
    "\n",
    "summary <- total %>% left_join(trt, by = \"reasons\") %>% \n",
    "  left_join(ctrl, by = \"reasons\") %>%\n",
    "  mutate(abs_diff = round(abs(trt_perc-ctrl_perc), 5)) %>% \n",
    "  arrange(desc(tot_n)) %>% \n",
    "  select(reasons, tot_n_perc, trt_n_perc, ctrl_n_perc, abs_diff)\n",
    "\n",
    "colnames(summary) <- c(\"Reasons not to vaccinate\", \n",
    "                       paste0(\"Total (\", sum(total$tot_n), \")\"),\n",
    "                       paste0(\"Treatment (\", sum(trt$trt_n), \")\"),\n",
    "                       paste0(\"Control (\", sum(ctrl$ctrl_n), \")\"),\n",
    "                       \"Difference\")\n",
    "\n",
    "# Group less common reasons into a single category of other\n",
    "reason_df$reasons[!( reason_df$reasons %in% summary$`Reasons not to vaccinate`[1:5])] <- \"Other\"\n",
    "\n",
    "reason_df <- reason_df %>% distinct()\n",
    "total <- reason_df %>% group_by(reasons) %>%\n",
    "    summarise(tot_n = n(),\n",
    "            tot_perc = tot_n/nrow(vcf_data),\n",
    "            tot_n_perc = paste0(tot_n, \" (\", round(tot_perc, 4), \")\")) \n",
    "\n",
    "trt <- reason_df %>% filter(group == \"Treatment\") %>% group_by(reasons) %>%\n",
    "    summarise(trt_n = n(),\n",
    "            trt_perc = trt_n/nrow(vcf_data[vcf_data$group == \"Treatment\",]),\n",
    "            trt_n_perc = paste0(trt_n, \" (\", round(trt_perc, 4), \")\")) \n",
    "\n",
    "ctrl <- reason_df %>% filter(group == \"Control\") %>% group_by(reasons) %>%\n",
    "    summarise(ctrl_n = n(),\n",
    "            ctrl_perc = ctrl_n/nrow(vcf_data[vcf_data$group == \"Control\",]),\n",
    "            ctrl_n_perc = paste0(ctrl_n, \" (\", round(ctrl_perc, 4), \")\")) \n",
    "\n",
    "summary <- total %>% left_join(trt, by = \"reasons\") %>% \n",
    "  left_join(ctrl, by = \"reasons\") %>%\n",
    "  mutate(abs_diff = round(abs(trt_perc-ctrl_perc), 5)) %>% \n",
    "  arrange(desc(tot_n)) %>% \n",
    "  select(reasons, tot_n_perc, trt_n_perc, ctrl_n_perc, abs_diff)\n",
    "  \n",
    "colnames(summary) <- c(\"Reasons not to vaccinate\", \n",
    "                       paste0(\"Total (\", sum(total$tot_n), \")\"),\n",
    "                       paste0(\"Treatment (\", sum(trt$trt_n), \")\"),\n",
    "                       paste0(\"Control (\", sum(ctrl$ctrl_n), \")\"),\n",
    "                       \"Difference\")\n",
    "\n",
    "summary "
   ]
  }
 ],
 "metadata": {
  "kernelspec": {
   "display_name": "R",
   "language": "R",
   "name": "ir"
  },
  "language_info": {
   "codemirror_mode": "r",
   "file_extension": ".r",
   "mimetype": "text/x-r-source",
   "name": "R",
   "pygments_lexer": "r",
   "version": "4.2.0"
  },
  "toc": {
   "base_numbering": 1,
   "nav_menu": {},
   "number_sections": true,
   "sideBar": true,
   "skip_h1_title": false,
   "title_cell": "Table of Contents",
   "title_sidebar": "Contents",
   "toc_cell": false,
   "toc_position": {},
   "toc_section_display": true,
   "toc_window_display": false
  }
 },
 "nbformat": 4,
 "nbformat_minor": 4
}
