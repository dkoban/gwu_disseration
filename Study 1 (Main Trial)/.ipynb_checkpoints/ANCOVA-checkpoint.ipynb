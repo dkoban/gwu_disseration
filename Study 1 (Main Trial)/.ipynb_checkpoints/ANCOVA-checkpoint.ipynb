{
 "cells": [
  {
   "cell_type": "markdown",
   "metadata": {},
   "source": [
    "## Specific Aim 1: \n",
    "\n",
    "To test the effectiveness of discussing COVID-19 vaccines in private, moderated Facebook groups compared to referrals to Facebook’s COVID-19 information center"
   ]
  },
  {
   "cell_type": "markdown",
   "metadata": {},
   "source": [
    "## Preprocessing"
   ]
  },
  {
   "cell_type": "code",
   "execution_count": 1,
   "metadata": {},
   "outputs": [],
   "source": [
    "# Load the libraries\n",
    "suppressWarnings(suppressMessages(library(tidyverse)))\n",
    "suppressWarnings(suppressMessages(library(gridExtra)))\n",
    "library(emmeans)\n",
    "library(epitools)\n",
    "\n",
    "# Load the data\n",
    "load(\"~/Documents/vcf/data/vcf_data.RData\")"
   ]
  },
  {
   "cell_type": "code",
   "execution_count": 2,
   "metadata": {},
   "outputs": [
    {
     "data": {
      "text/html": [
       "<table class=\"dataframe\">\n",
       "<caption>A grouped_df: 2 × 2</caption>\n",
       "<thead>\n",
       "\t<tr><th scope=col>group</th><th scope=col>n</th></tr>\n",
       "\t<tr><th scope=col>&lt;fct&gt;</th><th scope=col>&lt;int&gt;</th></tr>\n",
       "</thead>\n",
       "<tbody>\n",
       "\t<tr><td>Treatment</td><td>263</td></tr>\n",
       "\t<tr><td>Control  </td><td>215</td></tr>\n",
       "</tbody>\n",
       "</table>\n"
      ],
      "text/latex": [
       "A grouped\\_df: 2 × 2\n",
       "\\begin{tabular}{ll}\n",
       " group & n\\\\\n",
       " <fct> & <int>\\\\\n",
       "\\hline\n",
       "\t Treatment & 263\\\\\n",
       "\t Control   & 215\\\\\n",
       "\\end{tabular}\n"
      ],
      "text/markdown": [
       "\n",
       "A grouped_df: 2 × 2\n",
       "\n",
       "| group &lt;fct&gt; | n &lt;int&gt; |\n",
       "|---|---|\n",
       "| Treatment | 263 |\n",
       "| Control   | 215 |\n",
       "\n"
      ],
      "text/plain": [
       "  group     n  \n",
       "1 Treatment 263\n",
       "2 Control   215"
      ]
     },
     "metadata": {},
     "output_type": "display_data"
    }
   ],
   "source": [
    "# Filter people who were already vaccinated\n",
    "vcf_data <- vcf_data %>% filter(vaccinated_prior == FALSE) \n",
    "\n",
    "# Add a \"vaccinated\" response to intentions that has a value of 8\n",
    "vcf_data$base_intention <-  factor(vcf_data$base_intention, \n",
    "                                levels = c(levels(vcf_data$base_intention),\n",
    "                                           \"Vaccinated\"))\n",
    "vcf_data$intention_2 <-  factor(vcf_data$intention_2, \n",
    "                                levels = c(levels(vcf_data$intention_2),\n",
    "                                           \"Vaccinated\"))\n",
    "vcf_data$intention_4 <-  factor(vcf_data$intention_4, \n",
    "                                levels = c(levels(vcf_data$intention_4),\n",
    "                                           \"Vaccinated\"))\n",
    "vcf_data$intention_6 <-  factor(vcf_data$intention_6, \n",
    "                                levels = c(levels(vcf_data$intention_6),\n",
    "                                           \"Vaccinated\"))\n",
    "\n",
    "# Recode intentions for vaccinated people as a vaccinated (8) response\n",
    "vcf_data$intention_2[vcf_data$vax_y_n_2 == \"Yes\"] <- \"Vaccinated\"\n",
    "vcf_data$intention_4[vcf_data$vax_y_n_4 == \"Yes\"] <- \"Vaccinated\"\n",
    "vcf_data$intention_6[vcf_data$vax_y_n_6 == \"Yes\"] <- \"Vaccinated\"\n",
    "\n",
    "# Relabel the wave variable\n",
    "vcf_data$wave <- \"Wave 1\"\n",
    "vcf_data$wave[vcf_data$trial == 3] <- \"Wave 2\"\n",
    "vcf_data$wave <- factor(vcf_data$wave, levels = c(\"Wave 1\", \"Wave 2\"))\n",
    "\n",
    "# Relabel the group variable\n",
    "vcf_data$group <- vcf_data$group %>% as.character()\n",
    "vcf_data$group[vcf_data$group == \"Gist\"] <- \"Treatment\"\n",
    "vcf_data$group <- factor(vcf_data$group, levels = c(\"Treatment\", \"Control\"))\n",
    "\n",
    "# Apply a z-transform so all outcome variables are on the same scale\n",
    "z_transform <- function(measure, transform_var){\n",
    "    mean <- c(vcf_data %>% select(paste0(\"base_\", measure)) %>% unlist() %>% as.numeric(),\n",
    "              vcf_data %>% select(paste0(measure, \"_2\")) %>% unlist() %>% as.numeric(),\n",
    "              vcf_data %>% select(paste0(measure, \"_4\")) %>% unlist() %>% as.numeric(),\n",
    "              vcf_data %>% select(paste0(measure, \"_6\")) %>% unlist() %>% as.numeric()) %>%\n",
    "              mean(na.rm = TRUE)\n",
    "    sd <-  c(vcf_data %>% select(paste0(\"base_\", measure)) %>% unlist() %>% as.numeric(),\n",
    "             vcf_data %>% select(paste0(measure, \"_2\")) %>% unlist() %>% as.numeric(),\n",
    "             vcf_data %>% select(paste0(measure, \"_4\")) %>% unlist() %>% as.numeric(),\n",
    "             vcf_data %>% select(paste0(measure, \"_6\")) %>% unlist() %>% as.numeric()) %>%\n",
    "             sd(na.rm = TRUE)\n",
    "  \n",
    "    #Shift the transform by to allow a Box-cox transform later in the workflow\n",
    "    (((vcf_data %>% select(all_of(transform_var)) %>% unlist() %>% as.numeric()) - mean)/sd) + 4  \n",
    "}\n",
    "\n",
    "# Baseline\n",
    "vcf_data$base_intention_n <- z_transform(measure = \"intention\", transform_var = \"base_intention\")\n",
    "vcf_data$base_encourage_n <- z_transform(measure = \"encourage\", transform_var = \"base_encourage\")\n",
    "vcf_data$base_sp_trust_n <- z_transform(measure = \"sp_trust\", transform_var = \"base_sp_trust\")\n",
    "vcf_data$base_sp_complacency_n <- z_transform(measure = \"sp_complacency\", transform_var = \"base_sp_complacency\")\n",
    "vcf_data$base_sp_necessity_n <- z_transform(measure = \"sp_necessity\", transform_var = \"base_sp_necessity\")\n",
    "vcf_data$base_sp_importance_n <- z_transform(measure = \"sp_importance\", transform_var = \"base_sp_importance\")\n",
    "vcf_data$base_sp_confidence_n <- z_transform(measure = \"sp_confidence\", transform_var = \"base_sp_confidence\")\n",
    "vcf_data$base_sp_safety_n <- z_transform(measure = \"sp_safety\", transform_var = \"base_sp_safety\")\n",
    "vcf_data$base_sp_efficacy_n <- z_transform(measure = \"sp_efficacy\", transform_var = \"base_sp_efficacy\")\n",
    "vcf_data$base_gen_confidence_n <- z_transform(measure = \"gen_confidence\", transform_var = \"base_gen_confidence\")\n",
    "vcf_data$base_gen_safety_n <- z_transform(measure = \"gen_safety\", transform_var = \"base_gen_safety\")\n",
    "vcf_data$base_gen_efficacy_n <- z_transform(measure = \"gen_efficacy\", transform_var = \"base_gen_efficacy\")\n",
    "vcf_data$base_resp_princ_n <- z_transform(measure = \"resp_princ\", transform_var = \"base_resp_princ\")\n",
    "\n",
    "# 6 week\n",
    "vcf_data$intention_6_n <- z_transform(measure = \"intention\", transform_var = \"intention_6\")\n",
    "vcf_data$encourage_6_n <- z_transform(measure = \"encourage\", transform_var = \"encourage_6\")\n",
    "vcf_data$sp_trust_6_n <- z_transform(measure = \"sp_trust\", transform_var = \"sp_trust_6\")\n",
    "vcf_data$sp_complacency_6_n <- z_transform(measure = \"sp_complacency\", transform_var = \"sp_complacency_6\")\n",
    "vcf_data$sp_necessity_6_n <- z_transform(measure = \"sp_necessity\", transform_var = \"sp_necessity_6\")\n",
    "vcf_data$sp_importance_6_n <- z_transform(measure = \"sp_importance\", transform_var = \"sp_importance_6\")\n",
    "vcf_data$sp_confidence_6_n <- z_transform(measure = \"sp_confidence\", transform_var = \"sp_confidence_6\")\n",
    "vcf_data$sp_safety_6_n <- z_transform(measure = \"sp_safety\", transform_var = \"sp_safety_6\")\n",
    "vcf_data$sp_efficacy_6_n <- z_transform(measure = \"sp_efficacy\", transform_var = \"sp_efficacy_6\")\n",
    "vcf_data$gen_confidence_6_n <- z_transform(measure = \"gen_confidence\", transform_var = \"gen_confidence_6\")\n",
    "vcf_data$gen_safety_6_n <- z_transform(measure = \"gen_safety\", transform_var = \"gen_safety_6\")\n",
    "vcf_data$gen_efficacy_6_n <- z_transform(measure = \"gen_efficacy\", transform_var = \"gen_efficacy_6\")\n",
    "vcf_data$resp_princ_6_n <- z_transform(measure = \"resp_princ\", transform_var = \"resp_princ_6\")\n",
    "\n",
    "# Collapse political views into 3 categories\n",
    "vcf_data$political_view2 <- vcf_data$political_view\n",
    "vcf_data$political_view2[vcf_data$political_view2 %in% \n",
    "                          c(\"Slightly conservative\",\n",
    "                            \"Very conservative\")] <- \"Conservative\"\n",
    "vcf_data$political_view2[vcf_data$political_view2 %in% \n",
    "                           c(\"Slightly liberal\",\n",
    "                             \"Very liberal\")] <- \"Liberal\"\n",
    "vcf_data$political_view2[vcf_data$political_view2 == \"Prefer not to answer\"] <- \"No answer\"\n",
    "vcf_data$political_view2 <- factor(\n",
    "    vcf_data$political_view2,\n",
    "    levels = c(\"Moderate\", \"Liberal\", \"Conservative\", \"No answer\")\n",
    ")\n",
    "\n",
    "# Dichotomize Trust\n",
    "dichotomize <- function(vals){\n",
    "    vals <- vals %>% as.character()\n",
    "    vals[vals == \"Not at all\"] <- \"distrust\"\n",
    "    vals[vals == \"A little\"] <- \"trust\"\n",
    "    vals[vals == \"Don't know\"] <- \"trust\"\n",
    "    vals[vals == \"A great deal\"] <- \"trust\"\n",
    "    vals[vals %in% c(\"Not at all\", \"A little\", \"A great deal\")] <- NA\n",
    "    vals <- factor(vals, levels = c(\"trust\", \"distrust\"))\n",
    "    vals}\n",
    "\n",
    "vcf_data$fed_gov_trust <- vcf_data$fed_gov_trust %>% dichotomize()\n",
    "vcf_data$local_gov_trust <- vcf_data$local_gov_trust %>% dichotomize()\n",
    "vcf_data$cdc_trust <- vcf_data$cdc_trust %>% dichotomize()\n",
    "vcf_data$fda_trust <- vcf_data$fda_trust %>% dichotomize()\n",
    "vcf_data$news_media_trust <- vcf_data$news_media_trust %>% dichotomize()\n",
    "vcf_data$community_org_trust <- vcf_data$community_org_trust %>% dichotomize()\n",
    "vcf_data$work_associates_trust <- vcf_data$work_associates_trust %>% dichotomize()\n",
    "vcf_data$social_media_contact_trust <- vcf_data$social_media_contact_trust %>% dichotomize()\n",
    "vcf_data$faith_ldr_trust <- vcf_data$faith_ldr_trust %>% dichotomize()\n",
    "vcf_data$doctor_trust <- vcf_data$doctor_trust %>% dichotomize()\n",
    "\n",
    "vcf_data %>% group_by(group) %>% count()"
   ]
  },
  {
   "cell_type": "markdown",
   "metadata": {},
   "source": [
    "## Relative Risk Difference Analysis Workflow\n",
    "https://www.gigacalculator.com/calculators/relative-risk-calculator.php"
   ]
  },
  {
   "cell_type": "code",
   "execution_count": 4,
   "metadata": {},
   "outputs": [
    {
     "data": {
      "image/png": "[encoded data removed]",
      "text/plain": [
       "plot without title"
      ]
     },
     "metadata": {
      "image/png": {
       "height": 450,
       "width": 1050
      }
     },
     "output_type": "display_data"
    }
   ],
   "source": [
    "vcf_data$intent_change <- as.numeric(vcf_data$intention_6) - as.numeric(vcf_data$base_intention)\n",
    "\n",
    "# Plot the change scores for the treatment group members\n",
    "plot_df <- vcf_data %>% filter(group == \"Treatment\") %>% \n",
    "    filter(!is.na(intent_change)) %>%\n",
    "    group_by(intent_change) %>% count()\n",
    "\n",
    "decrease_n <- (vcf_data$intent_change < 0 & vcf_data$group == \"Treatment\") %>% sum(na.rm = TRUE)\n",
    "no_change_n <- (vcf_data$intent_change == 0 & vcf_data$group == \"Treatment\") %>% sum(na.rm = TRUE)\n",
    "increase_n <- (vcf_data$intent_change > 0 & vcf_data$group == \"Treatment\") %>% sum(na.rm = TRUE)\n",
    "\n",
    "decrease_p <- 100*round(decrease_n/sum(!is.na(vcf_data$intention_6) & vcf_data$group == \"Treatment\"), 2)\n",
    "no_change_p <- 100*round(no_change_n/sum(!is.na(vcf_data$intention_6) & vcf_data$group == \"Treatment\"), 2)\n",
    "increase_p <- 100*round(increase_n/sum(!is.na(vcf_data$intention_6) & vcf_data$group == \"Treatment\"), 2)\n",
    "\n",
    "decrease_label <- paste0(\"Decreased (N = \", decrease_n, \", \", decrease_p, \"%)\")\n",
    "no_change_label <- paste0(\"No Change (N = \", no_change_n, \", \", no_change_p, \"%)\")\n",
    "increase_label <- paste0(\"No Change (N = \", increase_n, \", \", increase_n, \"%)\")\n",
    "\n",
    "plot_df$color <- NA\n",
    "plot_df$color[plot_df$intent_change < 0] <- decrease_label\n",
    "plot_df$color[plot_df$intent_change == 0] <- no_change_label\n",
    "plot_df$color[plot_df$intent_change > 0] <- increase_label\n",
    "\n",
    "plot_df$color <- factor(plot_df$color,\n",
    "                        levels = c(decrease_label, no_change_label, increase_label))\n",
    "\n",
    "p1 <- ggplot(data = plot_df,\n",
    "       mapping = aes(x = intent_change,\n",
    "                     y = n, \n",
    "                     fill = color)) +\n",
    "    geom_col() + \n",
    "    theme_minimal() + \n",
    "    scale_fill_manual(values = c(\"#d73027\", \"gray\", \"#4575b4\")) +\n",
    "    theme(legend.position = c(0.75, 0.7)) +\n",
    "    theme( \n",
    "        panel.grid.major.x = element_blank(),\n",
    "        panel.grid.minor.x = element_blank(),\n",
    "        panel.grid.major.y = element_blank(),\n",
    "        panel.grid.minor.y = element_blank(),    \n",
    "        axis.text.y = element_text(size = 10)) + \n",
    "    theme(panel.border = element_rect(color = \"black\",\n",
    "                                      fill = NA,\n",
    "                                      size = 0.5)) + \n",
    "    scale_x_continuous(limits = c(-4.5,7.5), breaks = -4:7) +\n",
    "    labs(x = \"Change in Intentions\",\n",
    "         y = \"Count\",\n",
    "         title = \"Treatment Group\",\n",
    "         fill = \"\")                   \n",
    "\n",
    "# Plot the change scores for the control group members\n",
    "plot_df <- vcf_data %>% filter(group == \"Control\") %>% \n",
    "    filter(!is.na(intent_change)) %>%\n",
    "    group_by(intent_change) %>% count()\n",
    "\n",
    "decrease_n <- (vcf_data$intent_change < 0 & vcf_data$group == \"Control\") %>% sum(na.rm = TRUE)\n",
    "no_change_n <- (vcf_data$intent_change == 0 & vcf_data$group == \"Control\") %>% sum(na.rm = TRUE)\n",
    "increase_n <- (vcf_data$intent_change > 0 & vcf_data$group == \"Control\") %>% sum(na.rm = TRUE)\n",
    "\n",
    "decrease_p <- 100*round(decrease_n/sum(!is.na(vcf_data$intention_6) & vcf_data$group == \"Control\"), 2)\n",
    "no_change_p <- 100*round(no_change_n/sum(!is.na(vcf_data$intention_6) & vcf_data$group == \"Control\"), 2)\n",
    "increase_p <- 100*round(increase_n/sum(!is.na(vcf_data$intention_6) & vcf_data$group == \"Control\"), 2)\n",
    "\n",
    "decrease_label <- paste0(\"Decreased (N = \", decrease_n, \", \", decrease_p, \"%)\")\n",
    "no_change_label <- paste0(\"No Change (N = \", no_change_n, \", \", no_change_p, \"%)\")\n",
    "increase_label <- paste0(\"Increased (N = \", increase_n, \", \", increase_n, \"%)\")\n",
    "\n",
    "plot_df$color <- NA\n",
    "plot_df$color[plot_df$intent_change < 0] <- decrease_label\n",
    "plot_df$color[plot_df$intent_change == 0] <- no_change_label\n",
    "plot_df$color[plot_df$intent_change > 0] <- increase_label\n",
    "\n",
    "plot_df$color <- factor(plot_df$color,\n",
    "                        levels = c(decrease_label, no_change_label, increase_label))\n",
    "                       \n",
    "p2 <- ggplot(data = plot_df,\n",
    "       mapping = aes(x = intent_change,\n",
    "                     y = n, \n",
    "                     fill = color)) +\n",
    "    geom_col() + \n",
    "    theme_minimal() + \n",
    "    scale_fill_manual(values = c(\"#d73027\", \"gray\", \"#4575b4\")) +\n",
    "    theme(legend.position = c(0.75, 0.7)) +\n",
    "    theme( \n",
    "        panel.grid.major.x = element_blank(),\n",
    "        panel.grid.minor.x = element_blank(),\n",
    "        panel.grid.major.y = element_blank(),\n",
    "        panel.grid.minor.y = element_blank(),    \n",
    "        axis.text.y = element_text(size = 10)) + \n",
    "    theme(panel.border = element_rect(color = \"black\", fill = NA, size = 0.5),\n",
    "         axis.text.x = element_text(size = 14, color= \"black\"),\n",
    "         axis.text.y = element_text(size = 14, color = \"black\"),\n",
    "        strip.text.x = element_text(size = 14, face = \"bold\", colour = \"black\")) + \n",
    "    scale_x_continuous(limits = c(-4.5,7.5), breaks = -4:7) +\n",
    "    labs(x = \"Change in Intentions\",\n",
    "         y = \"Count\",\n",
    "         title = \"Control Group\",\n",
    "         fill = \"\")    \n",
    "\n",
    "options(repr.plot.width = 14, repr.plot.height = 6, repr.plot.res = 150)\n",
    "grid.arrange(p1, p2, ncol=2)"
   ]
  },
  {
   "cell_type": "markdown",
   "metadata": {},
   "source": [
    "### Improved intentions"
   ]
  },
  {
   "cell_type": "code",
   "execution_count": null,
   "metadata": {},
   "outputs": [],
   "source": [
    "vcf_data$improved_intent <- NA\n",
    "vcf_data$improved_intent[vcf_data$intent_change > 0] <- TRUE\n",
    "vcf_data$improved_intent[vcf_data$intent_change <= 0] <- FALSE\n",
    "\n",
    "trt_improve_count <- sum(vcf_data$improved_intent == TRUE & \n",
    "                       vcf_data$group == \"Treatment\", na.rm = TRUE)\n",
    "trt_not_improve_count <- sum(vcf_data$improved_intent == FALSE & \n",
    "                       vcf_data$group == \"Treatment\", na.rm = TRUE)\n",
    "ctrl_improve_count <- sum(vcf_data$improved_intent == TRUE & \n",
    "                       vcf_data$group == \"Control\", na.rm = TRUE)\n",
    "ctrl_not_improve_count <- sum(vcf_data$improved_intent == FALSE & \n",
    "                       vcf_data$group == \"Control\", na.rm = TRUE) #+ 1\n",
    "M <- matrix(c(ctrl_not_improve_count, ctrl_improve_count, \n",
    "              trt_not_improve_count, trt_improve_count),byrow=TRUE,nrow=2)\n",
    "dimnames(M) <- list(`Exposed to Treatment` = c(\"No\", \"Yes\"),\n",
    "                     Improved = c(\"No\", \"Yes\"))\n",
    "rr <- epitab(M,method=\"riskratio\", riskratio = \"wald\", pvalue = \"chi2\")$tab\n",
    "print(rr)\n",
    "RR <- round(rr[2,5], 3)\n",
    "RR_low <- round(rr[2,6], 3)\n",
    "RR_high <- round(rr[2,7], 3)\n",
    "p <- round(rr[2,8], 4)\n",
    "paste0(RR, \" (\", RR_low, \" to \", RR_high, \"; P = \", p, \")\")"
   ]
  },
  {
   "cell_type": "markdown",
   "metadata": {},
   "source": [
    "### Vaccine Uptake Relative"
   ]
  },
  {
   "cell_type": "code",
   "execution_count": null,
   "metadata": {},
   "outputs": [],
   "source": [
    "trt_vax_count <- sum(vcf_data$vax_y_n_6 == \"Yes\" & \n",
    "                       vcf_data$group == \"Treatment\", na.rm = TRUE)\n",
    "trt_unvax_count <- sum(vcf_data$group == \"Treatment\") - trt_vax_count\n",
    "ctrl_vax_count <- sum(vcf_data$vax_y_n_6 == \"Yes\" & vcf_data$group == \"Control\", na.rm = TRUE)\n",
    "ctrl_unvax_count <- sum(vcf_data$group == \"Control\") - ctrl_vax_count\n",
    "M <- matrix(c(ctrl_unvax_count, ctrl_vax_count, \n",
    "              trt_unvax_count, trt_vax_count),byrow=TRUE,nrow=2)\n",
    "dimnames(M) <- list(`Exposed to Treatment` = c(\"No\", \"Yes\"),\n",
    "                     Vaccinated = c(\"No\", \"Yes\"))\n",
    "rr <- epitab(M,method=\"riskratio\", riskratio = \"wald\", pvalue = \"chi2\")$tab\n",
    "print(rr)\n",
    "RR <- round(rr[2,5], 3)\n",
    "RR_low <- round(rr[2,6], 3)\n",
    "RR_high <- round(rr[2,7], 3)\n",
    "p <- round(rr[2,8], 4)\n",
    "paste0(RR, \" (\", RR_low, \" to \", RR_high, \"; p = \", p, \")\")"
   ]
  },
  {
   "cell_type": "markdown",
   "metadata": {},
   "source": [
    "## ANCOVA Analysis Workflow\n",
    "\n",
    "https://mran.microsoft.com/web/packages/emmeans/vignettes/comparisons.html"
   ]
  },
  {
   "cell_type": "markdown",
   "metadata": {},
   "source": [
    "### 1. Fit a base model"
   ]
  },
  {
   "cell_type": "code",
   "execution_count": null,
   "metadata": {},
   "outputs": [],
   "source": [
    "base_model <- aov(intention_6_n ~ group + wave + base_intention_n, data = vcf_data)\n",
    "print(car::Anova(base_model, type = \"III\"))"
   ]
  },
  {
   "cell_type": "markdown",
   "metadata": {},
   "source": [
    "### 2. Calculate the optimal lambda for a Box-Cox transform"
   ]
  },
  {
   "cell_type": "code",
   "execution_count": null,
   "metadata": {},
   "outputs": [],
   "source": [
    "options(repr.plot.width = 6, repr.plot.height = 6, repr.plot.res = 100)\n",
    "bc <- trafo::boxcox(base_model, method = \"ml\", lambdarange = c(-10, 3))\n",
    "(lambda <- bc$lambdahat)"
   ]
  },
  {
   "cell_type": "markdown",
   "metadata": {},
   "source": [
    "### 3. Fit a model using the Box-Cox transformed data"
   ]
  },
  {
   "cell_type": "code",
   "execution_count": null,
   "metadata": {},
   "outputs": [],
   "source": [
    "bctrans <- make.tran(\"boxcox\", lambda)\n",
    "model <- with(bctrans, \n",
    "              aov(linkfun(intention_6_n) ~ group + wave + linkfun(base_intention_n), data = vcf_data))\n",
    "print(car::Anova(model, type = \"III\"))"
   ]
  },
  {
   "cell_type": "markdown",
   "metadata": {},
   "source": [
    "### 4. Plot the expected marginal means"
   ]
  },
  {
   "cell_type": "code",
   "execution_count": null,
   "metadata": {},
   "outputs": [],
   "source": [
    "emm_back <- emmeans(model, \"group\", type = \"response\")\n",
    "options(repr.plot.width = 8, repr.plot.height = 6, repr.plot.res = 120)\n",
    "suppressWarnings(plot(emm_back, comparisons = TRUE) + \n",
    "                 labs(x = \"Expected Marginal Mean (Back Transformed)\", y = \"\"))"
   ]
  },
  {
   "cell_type": "markdown",
   "metadata": {},
   "source": [
    "### 5. Calcualte the difference between expected marginal means"
   ]
  },
  {
   "cell_type": "code",
   "execution_count": null,
   "metadata": {},
   "outputs": [],
   "source": [
    "rg <- ref_grid(model, \"group\")\n",
    "emm_diff_back <- pairs(emmeans(regrid(rg, transform = \"response\"), \"group\"))\n",
    "print(emm_diff_back)"
   ]
  },
  {
   "cell_type": "markdown",
   "metadata": {},
   "source": [
    "### 6. Calculate 95% CI for Difference in Expected Marginal Means"
   ]
  },
  {
   "cell_type": "code",
   "execution_count": null,
   "metadata": {},
   "outputs": [],
   "source": [
    "emm_diff_back %>% confint() %>% print()"
   ]
  },
  {
   "cell_type": "markdown",
   "metadata": {},
   "source": [
    "## Modularize Code"
   ]
  },
  {
   "cell_type": "code",
   "execution_count": null,
   "metadata": {},
   "outputs": [],
   "source": [
    "# ANCOVA using a Box-Cox Transformation\n",
    "get_emm_diff_bc <- function(data, label, method = \"ml\"){\n",
    "    # fit base model\n",
    "    base_model <- aov(post ~ group + wave + pre, data = data)\n",
    "    \n",
    "    # calculate Box-Cox lambda\n",
    "    bc <- trafo::boxcox(base_model, method = method, lambdarange = c(-10, 3), plotit = FALSE)\n",
    "    (lambda <- bc$lambdahat)\n",
    "    bctrans <- make.tran(\"boxcox\", lambda)\n",
    "  \n",
    "    # fit model to transformed data\n",
    "    model <- with(bctrans,\n",
    "              aov(linkfun(post) ~ group + wave + linkfun(pre), data = data))    \n",
    "    \n",
    "    # plot estimated marginal means\n",
    "    emm_back <- emmeans(model, \"group\", type = \"response\")\n",
    "    #print(emm_back)    \n",
    "    \n",
    "    # calculate differences in expected marginal means\n",
    "    rg <- ref_grid(model, \"group\")\n",
    "    emm_diff_back <- pairs(emmeans(regrid(rg, transform = \"response\"), \"group\"))\n",
    "    print(emm_diff_back)\n",
    "    \n",
    "    # calculate 95% CI for difference in expected marginal means\n",
    "    ci <- emm_diff_back %>% confint()\n",
    "    print(ci)\n",
    "    \n",
    "    # assemble results\n",
    "    mean <- ci$estimate\n",
    "    low <- ci$lower.CL\n",
    "    high <- ci$upper.CL\n",
    "    p <- summary(emm_diff_back)$p.value\n",
    "    ci_summary <- paste0(\"mean = \", round(mean, 3), \n",
    "                         \"; 95% CI = \", round(low, 3), \", \", round(high, 3), \n",
    "                         \"; P = \", round(p, 4))\n",
    "    plot_points <- tibble(x = c(low, mean, high), label = label)\n",
    "    return(list(\n",
    "        \"base_model\" = base_model,\n",
    "        \"lambda\" = lambda,\n",
    "        \"model\" = model,\n",
    "        \"CI\" = ci_summary,\n",
    "        \"plot_points\" = plot_points))\n",
    "}\n",
    "\n",
    "# ANCOVA using a Rank Transformation\n",
    "get_emm_diff_rank_trans <- function(data, measure, label){\n",
    "    temp <- data %>% select(pre = paste0(\"base_\", measure), \n",
    "                            two = paste0(measure, \"_2\"), \n",
    "                            four = paste0(measure, \"_4\"), \n",
    "                            post = paste0(measure, \"_6\"),\n",
    "                            group, wave) %>%\n",
    "            mutate(pre = pre %>% as.numeric(),\n",
    "                   two = two %>% as.numeric(),\n",
    "                   four = four %>% as.numeric(),\n",
    "                   post = post %>% as.numeric())\n",
    "    # fit model to transformed data\n",
    "    base_model <- aov(post ~ group + wave + pre, data = temp)\n",
    "    \n",
    "    # apply rank transformation\n",
    "    temp$pre <- temp$pre %>% rank(na.last = \"keep\")\n",
    "    temp$two <- temp$two %>% rank(na.last = \"keep\")\n",
    "    temp$four <- temp$four %>% rank(na.last = \"keep\")\n",
    "    temp$post <- temp$post %>% rank(na.last = \"keep\")\n",
    "  \n",
    "    # apply z transform\n",
    "    mean <- mean(c(temp$pre, temp$two, temp$four, temp$post), na.rm = TRUE)\n",
    "    sd <- sd(c(temp$pre, temp$two, temp$four, temp$post), na.rm = TRUE)\n",
    "    temp$pre <- ((temp %>% select(pre) %>% unlist() %>% as.numeric()) - mean)/sd\n",
    "    temp$post <- ((temp %>% select(post) %>% unlist() %>% as.numeric()) - mean)/sd\n",
    "  \n",
    "    # fit model to transformed data\n",
    "    model <- aov(post ~ group + wave + pre, data = temp)\n",
    "  \n",
    "    # plot estimated marginal means\n",
    "    emm_transformed <- emmeans(model, \"group\")\n",
    "    plot(emm_transformed, comparisons = TRUE) + \n",
    "    labs(x = \"Expected Marginal Mean (Rank Transformed)\", y = \"\")\n",
    "  \n",
    "    # calculate differences in expected marginal means\n",
    "    emm_diff_transformed <- suppressWarnings(pairs(emm_transformed))\n",
    "    print(emm_diff_transformed)\n",
    "  \n",
    "    # calculate 95% CI for difference in expected marginal means\n",
    "    ci <- emm_diff_transformed %>% confint()\n",
    "    print(ci)\n",
    "  \n",
    "    # assemble results\n",
    "    mean <- ci$estimate\n",
    "    low <- ci$lower.CL\n",
    "    high <- ci$upper.CL\n",
    "    p <- summary(emm_diff_transformed)$p.value\n",
    "    ci_summary <- paste0(\"mean = \", round(mean, 2), \n",
    "                         \"; 95% CI = \", round(low, 2), \", \", round(high, 2), \n",
    "                         \"; P = \", round(p, 4))\n",
    "    plot_points <- tibble(x = c(low, mean, high),\n",
    "                          label = label)\n",
    "  \n",
    "    return(list(\n",
    "        \"base_model\" = base_model,\n",
    "        \"model\" = model,\n",
    "        \"CI\" = ci_summary,\n",
    "        \"plot_points\" = plot_points))}\n",
    "\n",
    "\n",
    "plot_qqs_hist <- function(object){\n",
    "    op <- par(pty = \"s\", mfrow = c(2, 2))\n",
    "    qqnorm(object$base_model$residuals, main = \"QQ-Plot Fit to Raw Scores\")\n",
    "    qqline(object$base_model$residuals)\n",
    "    qqnorm(object$model$residuals, main = \"QQ-Plot Fit to Transformed Scores\")\n",
    "    qqline(object$model$residuals)\n",
    "    object$base_model$residuals %>% hist(main = \"Residuals (Raw)\", freq = FALSE)  \n",
    "    object$model$residuals %>% hist(main = \"Residuals (Transformed)\", freq = FALSE)\n",
    "}"
   ]
  },
  {
   "cell_type": "markdown",
   "metadata": {},
   "source": [
    "### Calculate results for each outcome"
   ]
  },
  {
   "cell_type": "code",
   "execution_count": null,
   "metadata": {},
   "outputs": [],
   "source": [
    "intention <- get_emm_diff_bc(data = vcf_data %>% \n",
    "                             select(post = intention_6_n, group, wave, fed_gov_trust, cdc_trust, \n",
    "                                    political_view2, pre = base_intention_n),   \n",
    "                             method = \"ml\", label = \"intention\")\n",
    "options(repr.plot.width = 8, repr.plot.height = 8, repr.plot.res = 120)\n",
    "plot_qqs_hist(intention)"
   ]
  },
  {
   "cell_type": "code",
   "execution_count": null,
   "metadata": {},
   "outputs": [],
   "source": [
    "encourage <- get_emm_diff_bc(data = vcf_data %>% \n",
    "                             select(post = encourage_6_n, group, wave, fed_gov_trust, cdc_trust, \n",
    "                                    political_view2, pre = base_encourage_n),   \n",
    "                             method = \"ml\", label = \"encourage\")\n",
    "options(repr.plot.width = 8, repr.plot.height = 8, repr.plot.res = 120)\n",
    "plot_qqs_hist(encourage)"
   ]
  },
  {
   "cell_type": "code",
   "execution_count": null,
   "metadata": {},
   "outputs": [],
   "source": [
    "sp_confidence <- get_emm_diff_bc(data = vcf_data %>% \n",
    "                             select(post = sp_confidence_6_n, group, wave, fed_gov_trust, cdc_trust, \n",
    "                                    political_view2, pre = base_sp_confidence_n),   \n",
    "                             method = \"ml\", label = \"sp_confidence\")\n",
    "options(repr.plot.width = 8, repr.plot.height = 8, repr.plot.res = 120)\n",
    "plot_qqs_hist(sp_confidence)"
   ]
  },
  {
   "cell_type": "code",
   "execution_count": null,
   "metadata": {},
   "outputs": [],
   "source": [
    "sp_safety <- get_emm_diff_bc(data = vcf_data %>% \n",
    "                             select(post = sp_safety_6_n, group, wave, fed_gov_trust, cdc_trust, \n",
    "                                    political_view2, pre = base_sp_safety_n),   \n",
    "                             method = \"ml\", label = \"sp_safety\")\n",
    "options(repr.plot.width = 8, repr.plot.height = 8, repr.plot.res = 120)\n",
    "plot_qqs_hist(sp_safety)"
   ]
  },
  {
   "cell_type": "code",
   "execution_count": null,
   "metadata": {},
   "outputs": [],
   "source": [
    "sp_efficacy <- get_emm_diff_bc(data = vcf_data %>% \n",
    "                             select(post = sp_efficacy_6_n, group, wave, fed_gov_trust, cdc_trust, \n",
    "                                    political_view2, pre = base_sp_efficacy_n),   \n",
    "                             method = \"ml\", label = \"sp_efficacy\")\n",
    "options(repr.plot.width = 8, repr.plot.height = 8, repr.plot.res = 120)\n",
    "plot_qqs_hist(sp_efficacy)"
   ]
  },
  {
   "cell_type": "code",
   "execution_count": null,
   "metadata": {},
   "outputs": [],
   "source": [
    "sp_complacency <- get_emm_diff_bc(data = vcf_data %>% \n",
    "                             select(post = sp_complacency_6_n, group, wave, fed_gov_trust, cdc_trust, \n",
    "                                    political_view2, pre = base_sp_complacency_n),   \n",
    "                             method = \"ml\", label = \"sp_complacency\")\n",
    "options(repr.plot.width = 8, repr.plot.height = 8, repr.plot.res = 120)\n",
    "plot_qqs_hist(sp_complacency)"
   ]
  },
  {
   "cell_type": "code",
   "execution_count": null,
   "metadata": {},
   "outputs": [],
   "source": [
    "sp_importance <- get_emm_diff_bc(data = vcf_data %>% \n",
    "                             select(post = sp_importance_6_n, group, wave, fed_gov_trust, cdc_trust, \n",
    "                                    political_view2, pre = base_sp_importance_n),   \n",
    "                             method = \"ml\", label = \"sp_importance\")\n",
    "options(repr.plot.width = 8, repr.plot.height = 8, repr.plot.res = 120)\n",
    "plot_qqs_hist(sp_importance)"
   ]
  },
  {
   "cell_type": "code",
   "execution_count": null,
   "metadata": {},
   "outputs": [],
   "source": [
    "sp_necessity <- get_emm_diff_bc(data = vcf_data %>% \n",
    "                             select(post = sp_necessity_6_n, group, wave, fed_gov_trust, cdc_trust, \n",
    "                                    political_view2, pre = base_sp_necessity_n),   \n",
    "                             method = \"ml\", label = \"sp_necessity\")\n",
    "options(repr.plot.width = 8, repr.plot.height = 8, repr.plot.res = 120)\n",
    "plot_qqs_hist(sp_necessity)"
   ]
  },
  {
   "cell_type": "code",
   "execution_count": null,
   "metadata": {},
   "outputs": [],
   "source": [
    "sp_trust <- get_emm_diff_bc(data = vcf_data %>% \n",
    "                             select(post = sp_trust_6_n, group, wave, fed_gov_trust, cdc_trust, \n",
    "                                    political_view2, pre = base_sp_trust_n),   \n",
    "                             method = \"ml\", label = \"sp_trust\")\n",
    "options(repr.plot.width = 8, repr.plot.height = 8, repr.plot.res = 120)\n",
    "plot_qqs_hist(sp_trust)"
   ]
  },
  {
   "cell_type": "code",
   "execution_count": null,
   "metadata": {},
   "outputs": [],
   "source": [
    "gen_confidence <- get_emm_diff_rank_trans(data = vcf_data, measure = \"gen_confidence\", \n",
    "                                          label = \"gen_confidence\")\n",
    "plot_qqs_hist(gen_confidence)"
   ]
  },
  {
   "cell_type": "code",
   "execution_count": null,
   "metadata": {},
   "outputs": [],
   "source": [
    "gen_safety <- get_emm_diff_rank_trans(data = vcf_data, measure = \"gen_safety\", \n",
    "                                          label = \"gen_safety\")\n",
    "plot_qqs_hist(gen_safety)"
   ]
  },
  {
   "cell_type": "code",
   "execution_count": null,
   "metadata": {},
   "outputs": [],
   "source": [
    "gen_efficacy <- get_emm_diff_rank_trans(data = vcf_data, measure = \"gen_efficacy\", \n",
    "                                          label = \"gen_efficacy\")\n",
    "plot_qqs_hist(gen_efficacy)"
   ]
  },
  {
   "cell_type": "code",
   "execution_count": null,
   "metadata": {},
   "outputs": [],
   "source": [
    "resp_princ <- get_emm_diff_rank_trans(data = vcf_data, measure = \"resp_princ\", \n",
    "                                           label = \"resp_princ\")\n",
    "plot_qqs_hist(resp_princ)"
   ]
  },
  {
   "cell_type": "code",
   "execution_count": null,
   "metadata": {},
   "outputs": [],
   "source": [
    "get_rr_princ <- function(data){\n",
    "    temp <- data %>% filter(!is.na(post_p))\n",
    "    temp$improved_gistp <- \"No\"\n",
    "    temp$improved_gistp[temp$base_p == \"No\" & temp$post_p == \"Yes\"] <- \"Yes\"\n",
    "    \n",
    "    trt_improve_count <- sum(temp$improved_gistp == \"Yes\" & \n",
    "                             temp$group == \"Treatment\", na.rm = TRUE)\n",
    "    trt_not_improve_count <- sum(temp$group == \"Treatment\") - trt_improve_count\n",
    "    ctrl_improve_count <- sum(temp$improved_gistp == \"Yes\" & \n",
    "                              temp$group == \"Control\", na.rm = TRUE)\n",
    "    ctrl_not_improve_count <- sum(temp$group == \"Control\") - ctrl_improve_count\n",
    "    M <- matrix(c(ctrl_not_improve_count, ctrl_improve_count, \n",
    "                trt_not_improve_count, trt_improve_count),byrow=TRUE,nrow=2)\n",
    "    dimnames(M) <- list(`Exposed to Treatment` = c(\"No\", \"Yes\"),\n",
    "                         Improved = c(\"No\", \"Yes\"))\n",
    "    rr <- epitab(M,method=\"riskratio\", riskratio = \"wald\", pvalue = \"chi2\")$tab\n",
    "    RR <- round(rr[2,5], 3)\n",
    "    RR_low <- round(rr[2,6], 3)\n",
    "    RR_high <- round(rr[2,7], 3)\n",
    "    p <- round(rr[2,8], 4)\n",
    "    paste0(RR, \" (\", RR_low, \" to \", RR_high, \"; p = \", p, \")\")\n",
    "  }\n",
    "\n",
    "get_rr_princ(vcf_data %>% select(base_p = base_gist_p7, post_p = gist_p7_6, group))\n",
    "get_rr_princ(vcf_data %>% select(base_p = base_gist_p8, post_p = gist_p8_6, group))\n",
    "get_rr_princ(vcf_data %>% select(base_p = base_gist_p9, post_p = gist_p9_6, group))"
   ]
  },
  {
   "cell_type": "markdown",
   "metadata": {},
   "source": [
    "## Summary Plot"
   ]
  },
  {
   "cell_type": "code",
   "execution_count": null,
   "metadata": {},
   "outputs": [],
   "source": [
    "plot_df <- bind_rows(intention$plot_points %>% mutate(y = 12),\n",
    "                     encourage$plot_points %>% mutate(y = 11),\n",
    "                     sp_confidence$plot_points %>% mutate(y = 10),\n",
    "                     sp_safety$plot_points %>% mutate(y = 9),\n",
    "                     sp_efficacy$plot_points %>% mutate(y = 8),\n",
    "                     sp_complacency$plot_points %>% mutate(y = 7),\n",
    "                     sp_importance$plot_points %>% mutate(y = 6),\n",
    "                     sp_necessity$plot_points %>% mutate(y = 5),\n",
    "                     sp_trust$plot_points %>% mutate(y = 4),\n",
    "                     gen_confidence$plot_points %>% mutate(y = 3),\n",
    "                     gen_safety$plot_points %>% mutate(y = 2),\n",
    "                     gen_efficacy$plot_points %>% mutate(y = 1),\n",
    "                     resp_princ$plot_points %>% mutate(y = 0))\n",
    "plot_df_means <- plot_df[seq(2, nrow(plot_df), by = 3),]\n",
    "labels <- plot_df$label %>% unique()\n",
    "breaks <- plot_df$y %>% unique()\n",
    "\n",
    "options(repr.plot.width = 6, repr.plot.height = 8, repr.plot.res = 120)\n",
    "ggplot(data = plot_df,\n",
    "       mapping = aes(x = x, y = y)) +\n",
    "  geom_line(data = plot_df,\n",
    "            mapping = aes(x = x, y = y, group = label, color = \"purple\")) +\n",
    "  geom_point(data = plot_df_means,\n",
    "             mapping = aes(x = x, y = y, group = label, color = \"purple\"), \n",
    "             shape = 18, size = 3) +\n",
    "  theme_minimal() +\n",
    "    scale_color_manual(values = \"#6F55AA\") + # purple      \n",
    "    scale_y_continuous(\n",
    "      breaks = breaks,\n",
    "      labels = labels) +\n",
    "    labs(\n",
    "      x = \"\",\n",
    "      y = \" \",\n",
    "      title = \"Difference in Expected Marginal Means (95% CI)\") +\n",
    "    geom_vline(xintercept =  0, color = \"black\") +\n",
    "    theme( \n",
    "      panel.grid.major.x = element_blank(),\n",
    "      panel.grid.minor.x = element_blank(),\n",
    "      panel.grid.major.y = element_blank(),\n",
    "      panel.grid.minor.y = element_blank(),\n",
    "      axis.text.y = element_text(size = 10)\n",
    "    ) +\n",
    "    theme(panel.border=element_rect(linetype=1,fill=NA)) +\n",
    "    guides(color = \"none\") +\n",
    "    theme(plot.title = element_text(hjust = 0.5)) +\n",
    "  xlim(-0.15, 0.35)"
   ]
  },
  {
   "cell_type": "code",
   "execution_count": null,
   "metadata": {},
   "outputs": [],
   "source": [
    "bind_rows(\n",
    "      tibble(measure = \"Intentions to Vaccinate\", CI = intention$CI),\n",
    "      tibble(measure = \"Intentions to Encourage Others to Vaccinate\", CI = encourage$CI),\n",
    "      tibble(measure = \"COVID-19 Vaccine Confidence\", CI = sp_confidence$CI),\n",
    "      tibble(measure = \"COVID-19 Vaccine Safety\", CI = sp_safety$CI),\n",
    "      tibble(measure = \"COVID-19 Vaccine Effectiveness\", CI = sp_efficacy$CI),\n",
    "      tibble(measure = \"COVID-19 Vaccine Complacency\", CI = sp_complacency$CI),\n",
    "      tibble(measure = \"COVID-19 Vaccine Importance\", CI = sp_importance$CI),\n",
    "      tibble(measure = \"COVID-19 Vaccine Necessity\", CI = sp_necessity$CI),\n",
    "      tibble(measure = \"COVID-19 Vaccine Trust\", CI = sp_trust$CI),\n",
    "      tibble(measure = \"General Vaccine Confidence\", CI = gen_confidence$CI),\n",
    "      tibble(measure = \"General Vaccine Safety\", CI = gen_safety$CI),\n",
    "      tibble(measure = \"General Vaccine Effectiveness\", CI = gen_efficacy$CI),\n",
    "      tibble(measure = \"Responsibility to Vaccinate\", CI = resp_princ$CI)) %>%\n",
    "    mutate(print = paste0(measure, \" (\", CI, \")\")) %>%.$print %>% print()\n"
   ]
  },
  {
   "cell_type": "markdown",
   "metadata": {},
   "source": [
    "### Hesitancy questions we didn't include in the main trial paper"
   ]
  },
  {
   "cell_type": "code",
   "execution_count": null,
   "metadata": {},
   "outputs": [],
   "source": [
    "load(\"~/Documents/vcf/data/hesitancy_questions.RData\")\n",
    "vcf_data <- vcf_data %>% left_join(hes_df, by = \"mturk_code\")\n",
    "\n",
    "vcf_data$base_hes1_n <- z_transform(measure = \"hes1\", transform_var = \"base_hes1\")\n",
    "vcf_data$base_hes2_n <- z_transform(measure = \"hes2\", transform_var = \"base_hes2\")\n",
    "vcf_data$base_hes3_n <- z_transform(measure = \"hes3\", transform_var = \"base_hes3\")\n",
    "vcf_data$base_hes4_n <- z_transform(measure = \"hes4\", transform_var = \"base_hes4\")\n",
    "vcf_data$base_hes5_n <- z_transform(measure = \"hes5\", transform_var = \"base_hes5\")\n",
    "vcf_data$base_hes6_n <- z_transform(measure = \"hes6\", transform_var = \"base_hes6\")\n",
    "vcf_data$base_hes7_n <- z_transform(measure = \"hes7\", transform_var = \"base_hes7\")\n",
    "vcf_data$base_hes8_n <- z_transform(measure = \"hes8\", transform_var = \"base_hes8\")\n",
    "vcf_data$base_hes9_n <- z_transform(measure = \"hes9\", transform_var = \"base_hes9\")\n",
    "vcf_data$base_hes10_n <- z_transform(measure = \"hes10\", transform_var = \"base_hes10\")\n",
    "\n",
    "vcf_data$hes1_6_n <- z_transform(measure = \"hes1\", transform_var = \"hes1_6\")\n",
    "vcf_data$hes2_6_n <- z_transform(measure = \"hes2\", transform_var = \"hes2_6\")\n",
    "vcf_data$hes3_6_n <- z_transform(measure = \"hes3\", transform_var = \"hes3_6\")\n",
    "vcf_data$hes4_6_n <- z_transform(measure = \"hes4\", transform_var = \"hes4_6\")\n",
    "vcf_data$hes5_6_n <- z_transform(measure = \"hes5\", transform_var = \"hes5_6\")\n",
    "vcf_data$hes6_6_n <- z_transform(measure = \"hes6\", transform_var = \"hes6_6\")\n",
    "vcf_data$hes7_6_n <- z_transform(measure = \"hes7\", transform_var = \"hes7_6\")\n",
    "vcf_data$hes8_6_n <- z_transform(measure = \"hes8\", transform_var = \"hes8_6\")\n",
    "vcf_data$hes9_6_n <- z_transform(measure = \"hes9\", transform_var = \"hes9_6\")\n",
    "vcf_data$hes10_6_n <- z_transform(measure = \"hes10\", transform_var = \"hes10_6\")"
   ]
  },
  {
   "cell_type": "code",
   "execution_count": null,
   "metadata": {},
   "outputs": [],
   "source": [
    "# Vaccines are important for my health\n",
    "hes1 <- get_emm_diff_rank_trans(data = vcf_data, measure = \"hes1\", \n",
    "                                           label = \"hes1\")\n",
    "plot_qqs_hist(hes1)"
   ]
  },
  {
   "cell_type": "code",
   "execution_count": null,
   "metadata": {},
   "outputs": [],
   "source": [
    "# Vaccines are effective\n",
    "model <- aov(hes2_6_n ~ group + wave + base_hes2_n, data = vcf_data)\n",
    "emm_transformed <- emmeans(model, \"group\")\n",
    "emm_diff_transformed <- suppressWarnings(pairs(emm_transformed))\n",
    "ci <- emm_diff_transformed %>% confint()\n",
    "mean <- ci$estimate\n",
    "low <- ci$lower.CL\n",
    "high <- ci$upper.CL\n",
    "p <- summary(emm_diff_transformed)$p.value\n",
    "ci_summary <- paste0(\"mean = \", round(mean, 2), \"; 95% CI = \", \n",
    "                     round(low, 2), \", \", round(high, 2), \"; P = \", round(p,4))\n",
    "print(ci_summary)\n",
    "qqnorm(model$residuals, main = \"QQ-Plot Fit to Raw Scores\")\n",
    "qqline(model$residuals)\n",
    "\n",
    "hes2 <- get_emm_diff_rank_trans(data = vcf_data, measure = \"hes2\", \n",
    "                                           label = \"hes2\")\n",
    "plot_qqs_hist(hes2)"
   ]
  },
  {
   "cell_type": "code",
   "execution_count": null,
   "metadata": {},
   "outputs": [],
   "source": [
    "# Being vaccinated is important for the health of others in my community\n",
    "model <- aov(hes3_6_n ~ group + wave + base_hes3_n, data = vcf_data)\n",
    "emm_transformed <- emmeans(model, \"group\")\n",
    "emm_diff_transformed <- suppressWarnings(pairs(emm_transformed))\n",
    "ci <- emm_diff_transformed %>% confint()\n",
    "mean <- ci$estimate\n",
    "low <- ci$lower.CL\n",
    "high <- ci$upper.CL\n",
    "p <- summary(emm_diff_transformed)$p.value\n",
    "ci_summary <- paste0(\"mean = \", round(mean, 2), \"; 95% CI = \", \n",
    "                     round(low, 2), \", \", round(high, 2), \"; P = \", round(p,4))\n",
    "print(ci_summary)\n",
    "qqnorm(model$residuals, main = \"QQ-Plot Fit to Raw Scores\")\n",
    "qqline(model$residuals)"
   ]
  },
  {
   "cell_type": "code",
   "execution_count": null,
   "metadata": {},
   "outputs": [],
   "source": [
    "# Being vaccinated is important for the health of others in my community\n",
    "hes3 <- get_emm_diff_rank_trans(data = vcf_data, measure = \"hes3\", \n",
    "                                           label = \"hes3\")\n",
    "plot_qqs_hist(hes3)"
   ]
  },
  {
   "cell_type": "code",
   "execution_count": null,
   "metadata": {},
   "outputs": [],
   "source": [
    "# All routine vaccinations recommended by the CDC are beneficial\n",
    "hes4 <- get_emm_diff_rank_trans(data = vcf_data, measure = \"hes4\", \n",
    "                                           label = \"hes4\")\n",
    "plot_qqs_hist(hes4)"
   ]
  },
  {
   "cell_type": "code",
   "execution_count": null,
   "metadata": {},
   "outputs": [],
   "source": [
    "# New vaccines carry more risks than older vaccines (we want to have a negative effect on agreement here...)\n",
    "hes5 <- get_emm_diff_rank_trans(data = vcf_data, measure = \"hes5\", \n",
    "                                           label = \"hes5\")\n",
    "plot_qqs_hist(hes5)"
   ]
  },
  {
   "cell_type": "code",
   "execution_count": null,
   "metadata": {},
   "outputs": [],
   "source": [
    "# The information I receive about vaccines from the CDC is reliable and trustworthy\n",
    "hes6 <- get_emm_diff_bc(data = vcf_data %>% \n",
    "                             select(post = hes6_6_n, group, wave, fed_gov_trust, cdc_trust, \n",
    "                                    political_view2, pre = base_hes6_n),   \n",
    "                             method = \"ml\", label = \"hes6\")\n",
    "options(repr.plot.width = 8, repr.plot.height = 8, repr.plot.res = 120)\n",
    "plot_qqs_hist(hes6)"
   ]
  },
  {
   "cell_type": "code",
   "execution_count": null,
   "metadata": {},
   "outputs": [],
   "source": [
    "# Getting vaccines is a good way to protect me from disease\n",
    "hes7 <- get_emm_diff_rank_trans(data = vcf_data, measure = \"hes7\", \n",
    "                                           label = \"hes7\")\n",
    "plot_qqs_hist(hes7)"
   ]
  },
  {
   "cell_type": "code",
   "execution_count": null,
   "metadata": {},
   "outputs": [],
   "source": [
    "# Generally, I do what my doctor or healthcare provider recommends about vaccines for me\n",
    "hes8 <- get_emm_diff_rank_trans(data = vcf_data, measure = \"hes8\", \n",
    "                                           label = \"hes8\")\n",
    "plot_qqs_hist(hes8)"
   ]
  },
  {
   "cell_type": "code",
   "execution_count": null,
   "metadata": {},
   "outputs": [],
   "source": [
    "# I am concerned about serious adverse effects of vaccines\n",
    "hes9 <- get_emm_diff_rank_trans(data = vcf_data, measure = \"hes9\", \n",
    "                                           label = \"hes9\")\n",
    "plot_qqs_hist(hes9)"
   ]
  },
  {
   "cell_type": "code",
   "execution_count": null,
   "metadata": {},
   "outputs": [],
   "source": [
    "# I do not need vaccines for diseases that are not common anymore\n",
    "hes10 <- get_emm_diff_rank_trans(data = vcf_data, measure = \"hes10\", \n",
    "                                           label = \"hes10\")\n",
    "plot_qqs_hist(hes10)"
   ]
  },
  {
   "cell_type": "code",
   "execution_count": null,
   "metadata": {},
   "outputs": [],
   "source": [
    "plot_df <- bind_rows(hes1$plot_points %>% mutate(y = 12),\n",
    "                     hes2$plot_points %>% mutate(y = 11),\n",
    "                     hes3$plot_points %>% mutate(y = 10),\n",
    "                     hes4$plot_points %>% mutate(y = 9),\n",
    "                     hes5$plot_points %>% mutate(y = 8),\n",
    "                     hes6$plot_points %>% mutate(y = 7),\n",
    "                     hes7$plot_points %>% mutate(y = 6),\n",
    "                     hes8$plot_points %>% mutate(y = 5),\n",
    "                     hes9$plot_points %>% mutate(y = 4))\n",
    "plot_df_means <- plot_df[seq(2, nrow(plot_df), by = 3),]\n",
    "labels <- plot_df$label %>% unique()\n",
    "breaks <- plot_df$y %>% unique()\n",
    "\n",
    "options(repr.plot.width = 6, repr.plot.height = 8, repr.plot.res = 120)\n",
    "ggplot(data = plot_df,\n",
    "       mapping = aes(x = x, y = y)) +\n",
    "  geom_line(data = plot_df,\n",
    "            mapping = aes(x = x, y = y, group = label, color = \"purple\")) +\n",
    "  geom_point(data = plot_df_means,\n",
    "             mapping = aes(x = x, y = y, group = label, color = \"purple\"), \n",
    "             shape = 18, size = 3) +\n",
    "  theme_minimal() +\n",
    "    scale_color_manual(values = \"#6F55AA\") + # purple      \n",
    "    scale_y_continuous(\n",
    "      breaks = breaks,\n",
    "      labels = labels) +\n",
    "    labs(\n",
    "      x = \"\",\n",
    "      y = \" \",\n",
    "      title = \"Difference in Expected Marginal Means (95% CI)\") +\n",
    "    geom_vline(xintercept =  0, color = \"black\") +\n",
    "    theme( \n",
    "      panel.grid.major.x = element_blank(),\n",
    "      panel.grid.minor.x = element_blank(),\n",
    "      panel.grid.major.y = element_blank(),\n",
    "      panel.grid.minor.y = element_blank(),\n",
    "      axis.text.y = element_text(size = 10)\n",
    "    ) +\n",
    "    theme(panel.border=element_rect(linetype=1,fill=NA)) +\n",
    "    guides(color = \"none\") +\n",
    "    theme(plot.title = element_text(hjust = 0.5)) +\n",
    "  xlim(-0.4, 0.35)"
   ]
  },
  {
   "cell_type": "markdown",
   "metadata": {},
   "source": [
    "### Risk Perceptions"
   ]
  },
  {
   "cell_type": "code",
   "execution_count": null,
   "metadata": {},
   "outputs": [],
   "source": [
    "# When it comes to getting COVID-19, even low risks happen sometimes\n",
    "vcf_data$base_gist_cat1_n <- z_transform(measure = \"gist_cat1\", transform_var = \"base_gist_cat1\")\n",
    "vcf_data$gist_cat1_6_n <- z_transform(measure = \"gist_cat1\", transform_var = \"gist_cat1_6\")\n",
    "gist_cat1 <- get_emm_diff_bc(data = vcf_data %>% \n",
    "                             select(post = gist_cat1_6_n, group, wave, fed_gov_trust, cdc_trust, \n",
    "                                    political_view2, pre = base_gist_cat1_n),   \n",
    "                             method = \"ml\", label = \"gist_cat1\")\n",
    "plot_qqs_hist(gist_cat1)"
   ]
  },
  {
   "cell_type": "code",
   "execution_count": null,
   "metadata": {},
   "outputs": [],
   "source": [
    "# It only takes ONCE to get COVID-19 (The negative coefficient on this result means we did worse on this item)\n",
    "vcf_data$base_gist_cat2_n <- z_transform(measure = \"gist_cat2\", transform_var = \"base_gist_cat2\")\n",
    "vcf_data$gist_cat2_6_n <- z_transform(measure = \"gist_cat2\", transform_var = \"gist_cat2_6\")\n",
    "gist_cat2 <- get_emm_diff_bc(data = vcf_data %>% \n",
    "                             select(post = gist_cat2_6_n, group, wave, fed_gov_trust, cdc_trust, \n",
    "                                    political_view2, pre = base_gist_cat2_n),   \n",
    "                             method = \"ml\", label = \"gist_cat2\")\n",
    "plot_qqs_hist(gist_cat2)"
   ]
  },
  {
   "cell_type": "code",
   "execution_count": null,
   "metadata": {},
   "outputs": [],
   "source": [
    "# Once you have COVID there is no second chance\n",
    "vcf_data$base_gist_cat3_n <- z_transform(measure = \"gist_cat3\", transform_var = \"base_gist_cat3\")\n",
    "vcf_data$gist_cat3_6_n <- z_transform(measure = \"gist_cat3\", transform_var = \"gist_cat3_6\")\n",
    "gist_cat3 <- get_emm_diff_bc(data = vcf_data %>% \n",
    "                             select(post = gist_cat3_6_n, group, wave, fed_gov_trust, cdc_trust, \n",
    "                                    political_view2, pre = base_gist_cat3_n),   \n",
    "                             method = \"ml\", label = \"gist_cat3\")\n",
    "plot_qqs_hist(gist_cat3)"
   ]
  },
  {
   "cell_type": "code",
   "execution_count": null,
   "metadata": {},
   "outputs": [],
   "source": [
    "# It only takes ONCE to give COVID-19 to other people\n",
    "vcf_data$base_gist_cat4_n <- z_transform(measure = \"gist_cat4\", transform_var = \"base_gist_cat4\")\n",
    "vcf_data$gist_cat4_6_n <- z_transform(measure = \"gist_cat4\", transform_var = \"gist_cat4_6\")\n",
    "gist_cat4 <- get_emm_diff_bc(data = vcf_data %>% \n",
    "                             select(post = gist_cat4_6_n, group, wave, fed_gov_trust, cdc_trust, \n",
    "                                    political_view2, pre = base_gist_cat4_n),   \n",
    "                             method = \"ml\", label = \"gist_cat4\")\n",
    "plot_qqs_hist(gist_cat4)"
   ]
  },
  {
   "cell_type": "code",
   "execution_count": null,
   "metadata": {},
   "outputs": [],
   "source": [
    "# If you are NOT vaccinated, even if you wear masks, you could still get infected with COVID-19\n",
    "vcf_data$base_gist_cat5_n <- z_transform(measure = \"gist_cat5\", transform_var = \"base_gist_cat5\")\n",
    "vcf_data$gist_cat5_6_n <- z_transform(measure = \"gist_cat5\", transform_var = \"gist_cat5_6\")\n",
    "gist_cat5 <- get_emm_diff_bc(data = vcf_data %>% \n",
    "                             select(post = gist_cat5_6_n, group, wave, fed_gov_trust, cdc_trust, \n",
    "                                    political_view2, pre = base_gist_cat5_n),   \n",
    "                             method = \"ml\", label = \"gist_cat5\")\n",
    "plot_qqs_hist(gist_cat5)"
   ]
  },
  {
   "cell_type": "code",
   "execution_count": null,
   "metadata": {},
   "outputs": [],
   "source": [
    "# Even low risk of getting COVID-19 adds up to 100% eventually if you do not protect yourself\n",
    "vcf_data$base_gist_cat6_n <- z_transform(measure = \"gist_cat6\", transform_var = \"base_gist_cat6\")\n",
    "vcf_data$gist_cat6_6_n <- z_transform(measure = \"gist_cat6\", transform_var = \"gist_cat6_6\")\n",
    "gist_cat6 <- get_emm_diff_bc(data = vcf_data %>% \n",
    "                             select(post = gist_cat6_6_n, group, wave, fed_gov_trust, cdc_trust, \n",
    "                                    political_view2, pre = base_gist_cat6_n),   \n",
    "                             method = \"ml\", label = \"gist_cat6\")\n",
    "plot_qqs_hist(gist_cat6)"
   ]
  },
  {
   "cell_type": "code",
   "execution_count": null,
   "metadata": {},
   "outputs": [],
   "source": [
    "# Even low risk of getting COVID-19 adds up to 100% eventually if you do not protect yourself\n",
    "vcf_data$base_gist_cat7_n <- z_transform(measure = \"gist_cat7\", transform_var = \"base_gist_cat7\")\n",
    "vcf_data$gist_cat7_6_n <- z_transform(measure = \"gist_cat7\", transform_var = \"gist_cat7_6\")\n",
    "gist_cat7 <- get_emm_diff_bc(data = vcf_data %>% \n",
    "                             select(post = gist_cat7_6_n, group, wave, fed_gov_trust, cdc_trust, \n",
    "                                    political_view2, pre = base_gist_cat7_n),   \n",
    "                             method = \"ml\", label = \"gist_cat7\")\n",
    "plot_qqs_hist(gist_cat7)"
   ]
  },
  {
   "cell_type": "code",
   "execution_count": null,
   "metadata": {},
   "outputs": [],
   "source": [
    "# Once you have COVID-19, you are at-risk of hospitalization or death\n",
    "vcf_data$base_gist_cat8_n <- z_transform(measure = \"gist_cat8\", transform_var = \"base_gist_cat8\")\n",
    "vcf_data$gist_cat8_6_n <- z_transform(measure = \"gist_cat8\", transform_var = \"gist_cat8_6\")\n",
    "gist_cat8 <- get_emm_diff_bc(data = vcf_data %>% \n",
    "                             select(post = gist_cat8_6_n, group, wave, fed_gov_trust, cdc_trust, \n",
    "                                    political_view2, pre = base_gist_cat8_n),   \n",
    "                             method = \"ml\", label = \"gist_cat8\")\n",
    "plot_qqs_hist(gist_cat8)"
   ]
  },
  {
   "cell_type": "code",
   "execution_count": null,
   "metadata": {},
   "outputs": [],
   "source": [
    "# Worry about COVID risks\n",
    "vcf_data$base_worry_n <- z_transform(measure = \"worry\", transform_var = \"base_worry\")\n",
    "vcf_data$worry_6_n <- z_transform(measure = \"worry\", transform_var = \"worry_6\")\n",
    "worry <- get_emm_diff_bc(data = vcf_data %>% \n",
    "                             select(post = worry_6_n, group, wave, fed_gov_trust, cdc_trust, \n",
    "                                    political_view2, pre = base_worry_n),   \n",
    "                             method = \"ml\", label = \"worry\")\n",
    "plot_qqs_hist(worry)"
   ]
  },
  {
   "cell_type": "code",
   "execution_count": null,
   "metadata": {},
   "outputs": [],
   "source": [
    "# How useful is the COVID-19 vaccine\n",
    "vcf_data$base_useful_n <- z_transform(measure = \"useful\", transform_var = \"base_useful\")\n",
    "vcf_data$useful_6_n <- z_transform(measure = \"useful\", transform_var = \"useful_6\")\n",
    "useful <- get_emm_diff_bc(data = vcf_data %>% \n",
    "                             select(post = useful_6_n, group, wave, fed_gov_trust, cdc_trust, \n",
    "                                    political_view2, pre = base_useful_n),   \n",
    "                             method = \"ml\", label = \"useful\")\n",
    "plot_qqs_hist(useful)"
   ]
  },
  {
   "cell_type": "code",
   "execution_count": null,
   "metadata": {},
   "outputs": [],
   "source": [
    "# How dangerous do you believe the COVID-19 vaccine to be?\n",
    "vcf_data$base_vax_danger_n <- z_transform(measure = \"vax_danger\", transform_var = \"base_vax_danger\")\n",
    "vcf_data$vax_danger_6_n <- z_transform(measure = \"vax_danger\", transform_var = \"vax_danger_6\")\n",
    "vax_danger <- get_emm_diff_bc(data = vcf_data %>% \n",
    "                             select(post = vax_danger_6_n, group, wave, fed_gov_trust, cdc_trust, \n",
    "                                    political_view2, pre = base_vax_danger_n),   \n",
    "                             method = \"ml\", label = \"vax_danger\")\n",
    "plot_qqs_hist(vax_danger)"
   ]
  },
  {
   "cell_type": "code",
   "execution_count": null,
   "metadata": {},
   "outputs": [],
   "source": [
    "plot_df <- bind_rows(gist_cat1$plot_points %>% mutate(y = 12),\n",
    "                     gist_cat2$plot_points %>% mutate(y = 11),\n",
    "                     gist_cat3$plot_points %>% mutate(y = 10),\n",
    "                     gist_cat4$plot_points %>% mutate(y = 9),\n",
    "                     gist_cat5$plot_points %>% mutate(y = 8),\n",
    "                     gist_cat6$plot_points %>% mutate(y = 7),\n",
    "                     gist_cat7$plot_points %>% mutate(y = 6),\n",
    "                     gist_cat8$plot_points %>% mutate(y = 5),\n",
    "                     worry$plot_points %>% mutate(y = 4),\n",
    "                     useful$plot_points %>% mutate(y = 3),\n",
    "                     vax_danger$plot_points %>% mutate(y = 2))\n",
    "plot_df_means <- plot_df[seq(2, nrow(plot_df), by = 3),]\n",
    "labels <- plot_df$label %>% unique()\n",
    "breaks <- plot_df$y %>% unique()\n",
    "\n",
    "options(repr.plot.width = 6, repr.plot.height = 8, repr.plot.res = 120)\n",
    "ggplot(data = plot_df,\n",
    "       mapping = aes(x = x, y = y)) +\n",
    "  geom_line(data = plot_df,\n",
    "            mapping = aes(x = x, y = y, group = label, color = \"purple\")) +\n",
    "  geom_point(data = plot_df_means,\n",
    "             mapping = aes(x = x, y = y, group = label, color = \"purple\"), \n",
    "             shape = 18, size = 3) +\n",
    "  theme_minimal() +\n",
    "    scale_color_manual(values = \"#6F55AA\") + # purple      \n",
    "    scale_y_continuous(\n",
    "      breaks = breaks,\n",
    "      labels = labels) +\n",
    "    labs(\n",
    "      x = \"\",\n",
    "      y = \" \",\n",
    "      title = \"Difference in Expected Marginal Means (95% CI)\") +\n",
    "    geom_vline(xintercept =  0, color = \"black\") +\n",
    "    theme( \n",
    "      panel.grid.major.x = element_blank(),\n",
    "      panel.grid.minor.x = element_blank(),\n",
    "      panel.grid.major.y = element_blank(),\n",
    "      panel.grid.minor.y = element_blank(),\n",
    "      axis.text.y = element_text(size = 10)\n",
    "    ) +\n",
    "    theme(panel.border=element_rect(linetype=1,fill=NA)) +\n",
    "    guides(color = \"none\") +\n",
    "    theme(plot.title = element_text(hjust = 0.5)) +\n",
    "  xlim(-0.4, 0.35)"
   ]
  }
 ],
 "metadata": {
  "kernelspec": {
   "display_name": "R",
   "language": "R",
   "name": "ir"
  },
  "language_info": {
   "codemirror_mode": "r",
   "file_extension": ".r",
   "mimetype": "text/x-r-source",
   "name": "R",
   "pygments_lexer": "r",
   "version": "4.2.0"
  },
  "toc": {
   "base_numbering": 1,
   "nav_menu": {},
   "number_sections": true,
   "sideBar": true,
   "skip_h1_title": false,
   "title_cell": "Table of Contents",
   "title_sidebar": "Contents",
   "toc_cell": false,
   "toc_position": {
    "height": "calc(100% - 180px)",
    "left": "10px",
    "top": "150px",
    "width": "390.244px"
   },
   "toc_section_display": true,
   "toc_window_display": true
  }
 },
 "nbformat": 4,
 "nbformat_minor": 4
}
